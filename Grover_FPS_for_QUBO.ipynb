{
  "cells": [
    {
      "cell_type": "markdown",
      "source": [
        "# preparations"
      ],
      "metadata": {
        "id": "THzaoqHo13RE"
      },
      "id": "THzaoqHo13RE"
    },
    {
      "cell_type": "markdown",
      "source": [
        "## install Qiskit"
      ],
      "metadata": {
        "id": "FTiJALVtnQIW"
      },
      "id": "FTiJALVtnQIW"
    },
    {
      "cell_type": "code",
      "source": [
        "%pip install qiskit"
      ],
      "metadata": {
        "id": "asSgzYHnnT8E",
        "colab": {
          "base_uri": "https://localhost:8080/"
        },
        "outputId": "907b8e0d-56e1-49c6-e798-e18f3aed1a78"
      },
      "id": "asSgzYHnnT8E",
      "execution_count": null,
      "outputs": [
        {
          "output_type": "stream",
          "name": "stdout",
          "text": [
            "Collecting qiskit\n",
            "  Downloading qiskit-0.43.2.tar.gz (9.1 kB)\n",
            "  Installing build dependencies ... \u001b[?25l\u001b[?25hdone\n",
            "  Getting requirements to build wheel ... \u001b[?25l\u001b[?25hdone\n",
            "  Installing backend dependencies ... \u001b[?25l\u001b[?25hdone\n",
            "  Preparing metadata (pyproject.toml) ... \u001b[?25l\u001b[?25hdone\n",
            "Collecting qiskit-terra==0.24.1 (from qiskit)\n",
            "  Downloading qiskit_terra-0.24.1-cp310-cp310-manylinux_2_17_x86_64.manylinux2014_x86_64.whl (5.9 MB)\n",
            "\u001b[2K     \u001b[90m━━━━━━━━━━━━━━━━━━━━━━━━━━━━━━━━━━━━━━━━\u001b[0m \u001b[32m5.9/5.9 MB\u001b[0m \u001b[31m24.6 MB/s\u001b[0m eta \u001b[36m0:00:00\u001b[0m\n",
            "\u001b[?25hCollecting qiskit-aer==0.12.1 (from qiskit)\n",
            "  Downloading qiskit_aer-0.12.1-cp310-cp310-manylinux_2_17_x86_64.manylinux2014_x86_64.whl (12.8 MB)\n",
            "\u001b[2K     \u001b[90m━━━━━━━━━━━━━━━━━━━━━━━━━━━━━━━━━━━━━━━━\u001b[0m \u001b[32m12.8/12.8 MB\u001b[0m \u001b[31m49.3 MB/s\u001b[0m eta \u001b[36m0:00:00\u001b[0m\n",
            "\u001b[?25hCollecting qiskit-ibmq-provider==0.20.2 (from qiskit)\n",
            "  Downloading qiskit_ibmq_provider-0.20.2-py3-none-any.whl (241 kB)\n",
            "\u001b[2K     \u001b[90m━━━━━━━━━━━━━━━━━━━━━━━━━━━━━━━━━━━━━━\u001b[0m \u001b[32m241.5/241.5 kB\u001b[0m \u001b[31m22.6 MB/s\u001b[0m eta \u001b[36m0:00:00\u001b[0m\n",
            "\u001b[?25hRequirement already satisfied: numpy>=1.16.3 in /usr/local/lib/python3.10/dist-packages (from qiskit-aer==0.12.1->qiskit) (1.22.4)\n",
            "Requirement already satisfied: scipy>=1.0 in /usr/local/lib/python3.10/dist-packages (from qiskit-aer==0.12.1->qiskit) (1.10.1)\n",
            "Requirement already satisfied: requests>=2.19 in /usr/local/lib/python3.10/dist-packages (from qiskit-ibmq-provider==0.20.2->qiskit) (2.27.1)\n",
            "Collecting requests-ntlm<=1.1.0 (from qiskit-ibmq-provider==0.20.2->qiskit)\n",
            "  Downloading requests_ntlm-1.1.0-py2.py3-none-any.whl (5.7 kB)\n",
            "Requirement already satisfied: urllib3>=1.21.1 in /usr/local/lib/python3.10/dist-packages (from qiskit-ibmq-provider==0.20.2->qiskit) (1.26.16)\n",
            "Requirement already satisfied: python-dateutil>=2.8.0 in /usr/local/lib/python3.10/dist-packages (from qiskit-ibmq-provider==0.20.2->qiskit) (2.8.2)\n",
            "Requirement already satisfied: websocket-client>=1.5.1 in /usr/local/lib/python3.10/dist-packages (from qiskit-ibmq-provider==0.20.2->qiskit) (1.6.0)\n",
            "Collecting websockets>=10.0 (from qiskit-ibmq-provider==0.20.2->qiskit)\n",
            "  Downloading websockets-11.0.3-cp310-cp310-manylinux_2_5_x86_64.manylinux1_x86_64.manylinux_2_17_x86_64.manylinux2014_x86_64.whl (129 kB)\n",
            "\u001b[2K     \u001b[90m━━━━━━━━━━━━━━━━━━━━━━━━━━━━━━━━━━━━━━\u001b[0m \u001b[32m129.9/129.9 kB\u001b[0m \u001b[31m15.2 MB/s\u001b[0m eta \u001b[36m0:00:00\u001b[0m\n",
            "\u001b[?25hCollecting rustworkx>=0.12.0 (from qiskit-terra==0.24.1->qiskit)\n",
            "  Downloading rustworkx-0.13.0-cp310-cp310-manylinux_2_17_x86_64.manylinux2014_x86_64.whl (1.9 MB)\n",
            "\u001b[2K     \u001b[90m━━━━━━━━━━━━━━━━━━━━━━━━━━━━━━━━━━━━━━━━\u001b[0m \u001b[32m1.9/1.9 MB\u001b[0m \u001b[31m47.5 MB/s\u001b[0m eta \u001b[36m0:00:00\u001b[0m\n",
            "\u001b[?25hCollecting ply>=3.10 (from qiskit-terra==0.24.1->qiskit)\n",
            "  Downloading ply-3.11-py2.py3-none-any.whl (49 kB)\n",
            "\u001b[2K     \u001b[90m━━━━━━━━━━━━━━━━━━━━━━━━━━━━━━━━━━━━━━━━\u001b[0m \u001b[32m49.6/49.6 kB\u001b[0m \u001b[31m6.3 MB/s\u001b[0m eta \u001b[36m0:00:00\u001b[0m\n",
            "\u001b[?25hRequirement already satisfied: psutil>=5 in /usr/local/lib/python3.10/dist-packages (from qiskit-terra==0.24.1->qiskit) (5.9.5)\n",
            "Requirement already satisfied: sympy>=1.3 in /usr/local/lib/python3.10/dist-packages (from qiskit-terra==0.24.1->qiskit) (1.11.1)\n",
            "Collecting dill>=0.3 (from qiskit-terra==0.24.1->qiskit)\n",
            "  Downloading dill-0.3.6-py3-none-any.whl (110 kB)\n",
            "\u001b[2K     \u001b[90m━━━━━━━━━━━━━━━━━━━━━━━━━━━━━━━━━━━━━━\u001b[0m \u001b[32m110.5/110.5 kB\u001b[0m \u001b[31m13.4 MB/s\u001b[0m eta \u001b[36m0:00:00\u001b[0m\n",
            "\u001b[?25hCollecting stevedore>=3.0.0 (from qiskit-terra==0.24.1->qiskit)\n",
            "  Downloading stevedore-5.1.0-py3-none-any.whl (49 kB)\n",
            "\u001b[2K     \u001b[90m━━━━━━━━━━━━━━━━━━━━━━━━━━━━━━━━━━━━━━━━\u001b[0m \u001b[32m49.6/49.6 kB\u001b[0m \u001b[31m4.6 MB/s\u001b[0m eta \u001b[36m0:00:00\u001b[0m\n",
            "\u001b[?25hCollecting symengine<0.10,>=0.9 (from qiskit-terra==0.24.1->qiskit)\n",
            "  Downloading symengine-0.9.2-cp310-cp310-manylinux2010_x86_64.whl (37.5 MB)\n",
            "\u001b[2K     \u001b[90m━━━━━━━━━━━━━━━━━━━━━━━━━━━━━━━━━━━━━━━━\u001b[0m \u001b[32m37.5/37.5 MB\u001b[0m \u001b[31m17.8 MB/s\u001b[0m eta \u001b[36m0:00:00\u001b[0m\n",
            "\u001b[?25hRequirement already satisfied: six>=1.5 in /usr/local/lib/python3.10/dist-packages (from python-dateutil>=2.8.0->qiskit-ibmq-provider==0.20.2->qiskit) (1.16.0)\n",
            "Requirement already satisfied: certifi>=2017.4.17 in /usr/local/lib/python3.10/dist-packages (from requests>=2.19->qiskit-ibmq-provider==0.20.2->qiskit) (2023.5.7)\n",
            "Requirement already satisfied: charset-normalizer~=2.0.0 in /usr/local/lib/python3.10/dist-packages (from requests>=2.19->qiskit-ibmq-provider==0.20.2->qiskit) (2.0.12)\n",
            "Requirement already satisfied: idna<4,>=2.5 in /usr/local/lib/python3.10/dist-packages (from requests>=2.19->qiskit-ibmq-provider==0.20.2->qiskit) (3.4)\n",
            "Collecting ntlm-auth>=1.0.2 (from requests-ntlm<=1.1.0->qiskit-ibmq-provider==0.20.2->qiskit)\n",
            "  Downloading ntlm_auth-1.5.0-py2.py3-none-any.whl (29 kB)\n",
            "Collecting cryptography>=1.3 (from requests-ntlm<=1.1.0->qiskit-ibmq-provider==0.20.2->qiskit)\n",
            "  Downloading cryptography-41.0.1-cp37-abi3-manylinux_2_28_x86_64.whl (4.3 MB)\n",
            "\u001b[2K     \u001b[90m━━━━━━━━━━━━━━━━━━━━━━━━━━━━━━━━━━━━━━━━\u001b[0m \u001b[32m4.3/4.3 MB\u001b[0m \u001b[31m84.4 MB/s\u001b[0m eta \u001b[36m0:00:00\u001b[0m\n",
            "\u001b[?25hCollecting pbr!=2.1.0,>=2.0.0 (from stevedore>=3.0.0->qiskit-terra==0.24.1->qiskit)\n",
            "  Downloading pbr-5.11.1-py2.py3-none-any.whl (112 kB)\n",
            "\u001b[2K     \u001b[90m━━━━━━━━━━━━━━━━━━━━━━━━━━━━━━━━━━━━━━\u001b[0m \u001b[32m112.7/112.7 kB\u001b[0m \u001b[31m12.3 MB/s\u001b[0m eta \u001b[36m0:00:00\u001b[0m\n",
            "\u001b[?25hRequirement already satisfied: mpmath>=0.19 in /usr/local/lib/python3.10/dist-packages (from sympy>=1.3->qiskit-terra==0.24.1->qiskit) (1.3.0)\n",
            "Requirement already satisfied: cffi>=1.12 in /usr/local/lib/python3.10/dist-packages (from cryptography>=1.3->requests-ntlm<=1.1.0->qiskit-ibmq-provider==0.20.2->qiskit) (1.15.1)\n",
            "Requirement already satisfied: pycparser in /usr/local/lib/python3.10/dist-packages (from cffi>=1.12->cryptography>=1.3->requests-ntlm<=1.1.0->qiskit-ibmq-provider==0.20.2->qiskit) (2.21)\n",
            "Building wheels for collected packages: qiskit\n",
            "  Building wheel for qiskit (pyproject.toml) ... \u001b[?25l\u001b[?25hdone\n",
            "  Created wheel for qiskit: filename=qiskit-0.43.2-py3-none-any.whl size=7640 sha256=4416cc65a95b866ffd85f4ebc07ce9bfc77640e171eff21b98a7073ae84bf67a\n",
            "  Stored in directory: /root/.cache/pip/wheels/d4/ad/4f/f54eb8743e54c5bab69837b842cf56a8a87ac7c57a2abf85ad\n",
            "Successfully built qiskit\n",
            "Installing collected packages: ply, websockets, symengine, rustworkx, pbr, ntlm-auth, dill, stevedore, cryptography, requests-ntlm, qiskit-terra, qiskit-ibmq-provider, qiskit-aer, qiskit\n",
            "Successfully installed cryptography-41.0.1 dill-0.3.6 ntlm-auth-1.5.0 pbr-5.11.1 ply-3.11 qiskit-0.43.2 qiskit-aer-0.12.1 qiskit-ibmq-provider-0.20.2 qiskit-terra-0.24.1 requests-ntlm-1.1.0 rustworkx-0.13.0 stevedore-5.1.0 symengine-0.9.2 websockets-11.0.3\n"
          ]
        }
      ]
    },
    {
      "cell_type": "markdown",
      "source": [
        "## loading necessary libraries"
      ],
      "metadata": {
        "id": "IPRVQYBNTx8w"
      },
      "id": "IPRVQYBNTx8w"
    },
    {
      "cell_type": "code",
      "source": [
        "from qiskit import QuantumCircuit, QuantumRegister, execute, transpile\n",
        "from qiskit.providers.aer import AerSimulator\n",
        "from qiskit.providers.aer.noise import NoiseModel, pauli_error, ReadoutError, thermal_relaxation_error, depolarizing_error\n",
        "from qiskit.quantum_info import Statevector, DensityMatrix\n",
        "\n",
        "import numpy as np\n",
        "import networkx as nx\n",
        "import matplotlib.pyplot as plt\n",
        "import time"
      ],
      "metadata": {
        "id": "dlRKQIAC6D00"
      },
      "id": "dlRKQIAC6D00",
      "execution_count": null,
      "outputs": []
    },
    {
      "cell_type": "markdown",
      "source": [
        "## noise models:"
      ],
      "metadata": {
        "id": "kZZELK6X0Djw"
      },
      "id": "kZZELK6X0Djw"
    },
    {
      "cell_type": "markdown",
      "source": [
        "### IonQ's Aria specifications:\n",
        "depolarizing error probability is probabilities adjusted from thermal noise infidelity: $p = e^{-t/T_2}$ with gate time for $t$"
      ],
      "metadata": {
        "id": "uPdo4AqbiLkw"
      },
      "id": "uPdo4AqbiLkw"
    },
    {
      "cell_type": "code",
      "source": [
        "# error probabilities\n",
        "p_meas = 3.9e-3\n",
        "p_reset = 3.9e-3\n",
        "p_gate1 = 6e-4\n",
        "p_gate2 = 6e-3\n",
        "\n",
        "# thermal relaxation error (nanosecond time)\n",
        "T1s = np.random.choice(range(10, 100), 10, replace=False) # consider adjusting range to be more reasonable\n",
        "T2 = 1e9\n",
        "\n",
        "time_meas = np.random.choice(range(600, 700), 10, replace=False)\n",
        "time_u1 = 0 # virtual gate\n",
        "time_gate1 = 135e3 # u1 and u2\n",
        "time_gate2 = 600e3 # 2 qubit gate\n",
        "\n",
        "# thermal relaxation error\n",
        "ther_u1  = [thermal_relaxation_error(t1 * 1e9, T2, time_u1)\n",
        "              for t1 in T1s]\n",
        "ther_gate1  = [thermal_relaxation_error(t1 * 1e9, T2, time_gate1)\n",
        "              for t1 in T1s]\n",
        "ther_gate2 = [[thermal_relaxation_error(t1a * 1e9, T2, time_gate2).expand(\n",
        "             thermal_relaxation_error(t1b * 1e9, T2, time_gate2))\n",
        "              for t1a in T1s]\n",
        "               for t1b in T1s]\n",
        "\n",
        "# depolarizing error\n",
        "dep_reset = depolarizing_error(p_reset, 1)\n",
        "dep_gate1 = depolarizing_error(p_gate1 - 1.34990888e-4, 1)\n",
        "dep_gate2 = depolarizing_error(p_gate2 - 5.99820036e-4, 2)\n",
        "\n",
        "# readout error\n",
        "er_meas = ReadoutError([[1 - p_meas, p_meas], [p_meas, 1 - p_meas]])\n",
        "\n",
        "# creating the noise model\n",
        "fake_aria = NoiseModel()\n",
        "\n",
        "for j in range(10):\n",
        "    fake_aria.add_quantum_error(ther_u1[j].compose(dep_gate1), \"u1\", [j])\n",
        "    fake_aria.add_quantum_error(ther_gate1[j].compose(dep_gate1), \"u2\", [j])\n",
        "    fake_aria.add_quantum_error(ther_gate1[j].compose(dep_gate1), \"u3\", [j])\n",
        "    for k in range(10):\n",
        "        fake_aria.add_quantum_error(ther_gate2[j][k].compose(dep_gate2), \"cx\", [j, k])\n",
        "fake_aria.add_all_qubit_quantum_error(dep_reset, \"reset\")\n",
        "fake_aria.add_all_qubit_readout_error(er_meas)"
      ],
      "metadata": {
        "id": "zTeDgrXH0Dq1"
      },
      "id": "zTeDgrXH0Dq1",
      "execution_count": null,
      "outputs": []
    },
    {
      "cell_type": "markdown",
      "source": [],
      "metadata": {
        "id": "-ae4ao1_iK16"
      },
      "id": "-ae4ao1_iK16"
    },
    {
      "cell_type": "markdown",
      "source": [
        "### IonQ's Harmony specifications:\n",
        "\n",
        "(it's basically all noise compared to Aria)"
      ],
      "metadata": {
        "id": "V-voj0syK7t6"
      },
      "id": "V-voj0syK7t6"
    },
    {
      "cell_type": "code",
      "source": [
        "h_p_meas = 1.8e-3\n",
        "h_p_reset = 1.8e-3\n",
        "h_p_gate1 = 4e-3\n",
        "h_p_gate2 = 2.7e-2\n",
        "\n",
        "# thermal relaxation error (nanosecond time)\n",
        "h_T1s = np.random.choice(range(10, 100), 10, replace=False) # consider adjusting range to be more reasonable\n",
        "h_T2 = 1e9\n",
        "\n",
        "h_time_meas = np.random.choice(range(600, 700), 10, replace=False) # assumed same as aria\n",
        "h_time_u1 = 0 # virtual gate?\n",
        "h_time_gate1 = 1e4 # u1 and u2\n",
        "h_time_gate2 = 2.1e5 # 2 qubit gate\n",
        "\n",
        "# thermal relaxation error\n",
        "h_ther_u1  = [thermal_relaxation_error(t1 * 1e9, h_T2, h_time_u1)\n",
        "              for t1 in h_T1s]\n",
        "h_ther_gate1  = [thermal_relaxation_error(t1 * 1e9, h_T2, h_time_gate1)\n",
        "              for t1 in h_T1s]\n",
        "h_ther_gate2 = [[thermal_relaxation_error(t1a * 1e9, h_T2, h_time_gate2).expand(\n",
        "             thermal_relaxation_error(t1b * 1e9, h_T2, h_time_gate2))\n",
        "              for t1a in h_T1s]\n",
        "               for t1b in h_T1s]\n",
        "\n",
        "# depolarizing error\n",
        "h_dep_reset = depolarizing_error(h_p_reset, 1)\n",
        "h_dep_gate1 = depolarizing_error(h_p_gate1 - 9.99995e-6, 1)\n",
        "h_dep_gate2 = depolarizing_error(h_p_gate2 - 2.09977952e-4, 2)\n",
        "\n",
        "# readout error\n",
        "h_er_meas = ReadoutError([[1 - p_meas, p_meas], [p_meas, 1 - p_meas]])\n",
        "\n",
        "fake_harmony = NoiseModel()\n",
        "\n",
        "for j in range(10):\n",
        "    fake_harmony.add_quantum_error(h_ther_u1[j].compose(h_dep_gate1), \"u1\", [j])\n",
        "    fake_harmony.add_quantum_error(h_ther_gate1[j].compose(h_dep_gate1), \"u2\", [j])\n",
        "    fake_harmony.add_quantum_error(h_ther_gate1[j].compose(h_dep_gate1), \"u3\", [j])\n",
        "    for k in range(10):\n",
        "        fake_harmony.add_quantum_error(h_ther_gate2[j][k].compose(h_dep_gate2), \"cx\", [j, k])\n",
        "fake_harmony.add_all_qubit_quantum_error(h_dep_reset, \"reset\")\n",
        "fake_harmony.add_all_qubit_readout_error(h_er_meas)"
      ],
      "metadata": {
        "id": "hW-zPO3mK5-d"
      },
      "id": "hW-zPO3mK5-d",
      "execution_count": null,
      "outputs": []
    },
    {
      "cell_type": "markdown",
      "source": [
        "## Grover parameter finder: this optimizes `delta` $\\in (0, 1)$ so that the query complexity is minimal for a given pair of target probability and ratio, `P` and `Lambda`\n",
        "\n",
        "note #1: for target probability $\\sim$ 90%, it helps as long as `Lambda` $\\gg$ `1e-4`\n",
        "\n",
        "note #2: there ought to be a simpler, analytic version of this"
      ],
      "metadata": {
        "id": "4JOxrrxxqNcT"
      },
      "id": "4JOxrrxxqNcT"
    },
    {
      "cell_type": "code",
      "source": [
        "def Chebyshev(x: float, L:  float):\n",
        "    return np.cos(L * np.arccos(x)) if x <= 1 else np.cosh(L * np.arccosh(x))\n",
        "\n",
        "def GroverQueryComplexity(delta: float, Lambda: float):\n",
        "    return int(np.ceil(np.arccosh(1 / delta) / np.arccosh(1 / np.sqrt(1 - Lambda)))) // 2\n",
        "\n",
        "def GroverProbability(delta: float, Lambda: float):\n",
        "    L = 2 * GroverQueryComplexity(delta, Lambda) + 1\n",
        "    return 1 - pow(delta * Chebyshev(Chebyshev(1 / delta, 1 / L) * np.sqrt(1 - Lambda), L), 2)\n",
        "\n",
        "def GroverParameterOptimizer(P: float, Lambda: float, N: int):\n",
        "    step, L, p = pow(2, - N), 0, 0\n",
        "    done = False\n",
        "    while p < P:\n",
        "        L += 1\n",
        "        delta = step\n",
        "        l = GroverQueryComplexity(delta, Lambda)\n",
        "        while l > L:\n",
        "            delta += step\n",
        "            l = GroverQueryComplexity(delta, Lambda)\n",
        "        candidate = delta\n",
        "        while delta < 1:\n",
        "            p_new = GroverProbability(delta, Lambda)\n",
        "            if p_new >= p:\n",
        "                p, candidate = p_new, delta\n",
        "            delta += step\n",
        "            l = GroverQueryComplexity(delta, Lambda)\n",
        "\n",
        "    delta = candidate\n",
        "    l = GroverQueryComplexity(delta, Lambda)\n",
        "    p = GroverProbability(delta, Lambda)\n",
        "\n",
        "    return delta, l, p"
      ],
      "metadata": {
        "id": "mLZxhHb_0Oyl"
      },
      "id": "mLZxhHb_0Oyl",
      "execution_count": null,
      "outputs": []
    },
    {
      "cell_type": "markdown",
      "metadata": {
        "id": "993346e4"
      },
      "source": [
        "# Grover Fixed Point Search for gerenal Quadratic Binary Optimization problems"
      ],
      "id": "993346e4"
    },
    {
      "cell_type": "code",
      "execution_count": null,
      "metadata": {
        "id": "7785745f"
      },
      "outputs": [],
      "source": [
        "def GroverForQUBO(QuadraticForm: list[list[int]], digits: int, threshold: int, delta: float, Lambda: float, noise: bool):\n",
        "\n",
        "    l = int(np.ceil(np.arccosh(1 / delta) / np.arccosh(1 / np.sqrt(1 - Lambda)))) // 2\n",
        "    gamma = pow(1 - pow(np.cosh(np.arccosh(1 / delta) / (2 * l + 1)), - 2), - 1/2)\n",
        "    GroverAngles = [2 * np.arctan(gamma / np.tan(2 * np.pi * j / (2 * l + 1))) for j in range(1, l + 1)]\n",
        "\n",
        "    # quantum registers for the bit configurations\n",
        "    QRegX = QuantumRegister(len(QuadraticForm), \"x\")\n",
        "\n",
        "    # quantum registers to digitize values\n",
        "    QRegY = QuantumRegister(digits, \"y\")\n",
        "\n",
        "    QC = QuantumCircuit(QRegX, QRegY)\n",
        "\n",
        "    QC.h(QRegX[:] + QRegY[:])\n",
        "\n",
        "    # adding threshold - offset; the offset could have gone to later parts of the code, but this it's cheaper this way\n",
        "    theta = (threshold - 1/2 - (np.sum(QuadraticForm) + np.trace(QuadraticForm))/4) * np.pi\n",
        "    for i, q in enumerate(reversed(QRegY)):\n",
        "        QC.rz(theta - np.pi/2, q)\n",
        "        theta /= 2\n",
        "\n",
        "    for alpha, beta in zip(GroverAngles, reversed(GroverAngles)):\n",
        "\n",
        "        # S_t (beta)\n",
        "        for i, p in enumerate(QRegX):\n",
        "\n",
        "            if np.sum(QuadraticForm[i]) != 0:\n",
        "                theta = np.sum(QuadraticForm[i]) * np.pi\n",
        "                for q in reversed(QRegY):\n",
        "                    QC.cx(p, q)\n",
        "                    theta /= 2\n",
        "                    QC.rz(theta, q)\n",
        "                    QC.cx(p, q)\n",
        "\n",
        "            for j, r in enumerate(QRegX[i + 1:]):\n",
        "                if QuadraticForm[i][i + 1 + j] != 0:\n",
        "                    QC.cx(p, r)\n",
        "                    theta = QuadraticForm[i][i + 1 + j] * np.pi\n",
        "                    for q in reversed(QRegY):\n",
        "                        QC.cx(r, q)\n",
        "                        theta /= 2\n",
        "                        QC.rz(- theta, q)\n",
        "                        QC.cx(r, q)\n",
        "                    QC.cx(p, r)\n",
        "\n",
        "        for i, q in enumerate(reversed(QRegY[1:])):\n",
        "            QC.h(q)\n",
        "            for j, r in enumerate(QRegY[:len(QRegY) - 1 - i]):\n",
        "                QC.cx(q, r)\n",
        "                QC.rz(pow(2, i + j - digits) * np.pi, r)\n",
        "            for r in QRegY[:len(QRegY) - 2 - i]:\n",
        "                QC.cx(q, r)\n",
        "\n",
        "        QC.rx(beta, QRegY[0])\n",
        "\n",
        "        for i, q in enumerate(QRegY[1:]):\n",
        "            for r in reversed(QRegY[:i]):\n",
        "                QC.cx(q, r)\n",
        "            theta = np.pi / 2\n",
        "            for r in reversed(QRegY[:i+1]):\n",
        "                theta /= 2\n",
        "                QC.rz(- theta, r)\n",
        "                QC.cx(q, r)\n",
        "            QC.h(q)\n",
        "\n",
        "        for i, p in enumerate(reversed(QRegX)):\n",
        "\n",
        "            for j, r in enumerate(reversed(QRegX[len(QRegX) - i:])):\n",
        "                if QuadraticForm[- i - 1][- j - 1] != 0:\n",
        "                    QC.cx(p, r)\n",
        "                    theta = QuadraticForm[- i - 1][- j - 1] * np.pi\n",
        "                    for q in reversed(QRegY):\n",
        "                        theta /= 2\n",
        "                        QC.cx(r, q)\n",
        "                        QC.rz(theta, q)\n",
        "                        QC.cx(r, q)\n",
        "                    QC.cx(p, r)\n",
        "\n",
        "            if np.sum(QuadraticForm[- i - 1]) != 0:\n",
        "                theta = np.sum(QuadraticForm[- i - 1]) * np.pi\n",
        "                for q in reversed(QRegY):\n",
        "                    theta /= 2\n",
        "                    QC.cx(p, q)\n",
        "                    QC.rz(- theta, q)\n",
        "                    QC.cx(p, q)\n",
        "\n",
        "        # S_s (alpha)\n",
        "        QC.ry(np.pi/2, QRegX)\n",
        "        QC.mcp(alpha, QRegX[1:], QRegX[0])\n",
        "        QC.ry(- np.pi/2, QRegX)\n",
        "\n",
        "    if noise:\n",
        "        QC.save_density_matrix(qubits=QRegX,\n",
        "                               label=\"rho\")\n",
        "        simulator = AerSimulator(method=\"density_matrix\",\n",
        "                                 noise_model=fake_aria)\n",
        "        QC = transpile(circuits=QC,\n",
        "                       backend=simulator,\n",
        "                       optimization_level=3)\n",
        "        return simulator.run(QC, shots=1).result().data()[\"rho\"].probabilities(), QC\n",
        "    else:\n",
        "        QC.save_statevector()\n",
        "        simulator = AerSimulator(method=\"statevector\")\n",
        "        return Statevector(execute(QC, simulator).result().get_statevector()).probabilities(np.arange(len(QRegX))), QC"
      ],
      "id": "7785745f"
    },
    {
      "cell_type": "markdown",
      "metadata": {
        "id": "7ca40d78"
      },
      "source": [
        "# parameters & testing for MaxCut:"
      ],
      "id": "7ca40d78"
    },
    {
      "cell_type": "code",
      "execution_count": null,
      "metadata": {
        "id": "149f166a",
        "scrolled": true,
        "colab": {
          "base_uri": "https://localhost:8080/",
          "height": 516
        },
        "outputId": "0cdab678-74c3-45f0-eeee-2dc4ad13e363"
      },
      "outputs": [
        {
          "output_type": "display_data",
          "data": {
            "text/plain": [
              "<Figure size 640x480 with 1 Axes>"
            ],
            "image/png": "[encoded data removed]"
          },
          "metadata": {}
        }
      ],
      "source": [
        "# random, connected graph\n",
        "NumberOfVerticies, EdgeProbability = 7, 5e-1\n",
        "Graph = nx.erdos_renyi_graph(NumberOfVerticies, EdgeProbability)\n",
        "GraphLaplacian = np.array(nx.laplacian_matrix(Graph).toarray())\n",
        "NumberOfComponents = NumberOfVerticies - np.linalg.matrix_rank(GraphLaplacian)\n",
        "while NumberOfComponents != 1:\n",
        "    Graph = nx.erdos_renyi_graph(NumberOfVerticies, EdgeProbability)\n",
        "    GraphLaplacian = np.array(nx.laplacian_matrix(Graph).toarray())\n",
        "nx.draw(Graph, with_labels=False)\n",
        "\n",
        "# number of edges & the Erdos-Edwards bound\n",
        "NumberOfEdges = np.trace(GraphLaplacian) // 2\n",
        "threshold = ErdosEdwards = int(np.ceil((2 * NumberOfEdges + NumberOfVerticies - 1)/4))\n",
        "\n",
        "# let's get rid of the vertex with the highest degree\n",
        "maxdegvertex = np.where(np.diag(GraphLaplacian) == max(np.diag(GraphLaplacian)))[0][0]\n",
        "\n",
        "if maxdegvertex + 1 != NumberOfVerticies:\n",
        "    GraphLaplacian[[maxdegvertex, -1], :] = GraphLaplacian[[-1, maxdegvertex], :]\n",
        "    GraphLaplacian[:, [maxdegvertex, -1]] = GraphLaplacian[:, [-1, maxdegvertex]]\n",
        "\n",
        "Q = GraphLaplacian[np.ix_(np.arange(NumberOfVerticies - 1), np.arange(NumberOfVerticies - 1))]\n",
        "\n",
        "# cut-function and MaxCut\n",
        "cuts, MaxCut = {}, 0\n",
        "for x in range(pow(2, len(Q))):\n",
        "    conf = np.array([(x >> i)&1 for i in range(len(Q))])\n",
        "    cuts[x] = np.matmul(conf, np.matmul(Q, np.transpose(conf)))\n",
        "    MaxCut = max(MaxCut, cuts[x])\n",
        "\n",
        "# cut disctibution and ratios\n",
        "random_chance, Lambda, dp = {i: 0 for i in range(MaxCut + 1)}, 0, pow(2, 1 - NumberOfVerticies)\n",
        "for _, cut in cuts.items():\n",
        "    random_chance[cut] += dp\n",
        "    if cut >= threshold:\n",
        "        Lambda += dp\n",
        "\n",
        "m = NumberOfEdges / 2\n",
        "sigma = np.sqrt(np.sum([pow(cut - m, 2) * random_chance[cut] for cut in random_chance]))\n",
        "digits = 1 + int(np.ceil(np.log2(max(ErdosEdwards, NumberOfEdges + 1 - ErdosEdwards)))) if NumberOfVerticies > 2 else 2"
      ],
      "id": "149f166a"
    },
    {
      "cell_type": "code",
      "source": [
        "P = 0.7 # lower bound for the target probability\n",
        "delta, l, TargetProbability = GroverParameterOptimizer(P, Lambda, 10)\n",
        "print(f\"number of components\\tMaxCut\\tthreshold\\tLambda\\ttarget probability\\tdelta\\tl\\tdigits\\n{NumberOfComponents}\\t\\t\\t{MaxCut}\\t{threshold}\\t\\t{np.round(Lambda, 2)}\\t{TargetProbability:.2%}\\t\\t\\t{np.round(delta, 2)}\\t{l}\\t{digits}\")"
      ],
      "metadata": {
        "id": "LEwbShaA-Kfp",
        "colab": {
          "base_uri": "https://localhost:8080/"
        },
        "outputId": "e7aac84b-7252-4b49-c931-b43cde38fe0e"
      },
      "id": "LEwbShaA-Kfp",
      "execution_count": null,
      "outputs": [
        {
          "output_type": "stream",
          "name": "stdout",
          "text": [
            "number of components\tMaxCut\tthreshold\tLambda\ttarget probability\tdelta\tl\tdigits\n",
            "1\t\t\t8\t7\t\t0.33\t100.00%\t\t\t0.65\t1\t4\n"
          ]
        }
      ]
    },
    {
      "cell_type": "markdown",
      "metadata": {
        "id": "02eec6db"
      },
      "source": [
        "### simulation:"
      ],
      "id": "02eec6db"
    },
    {
      "cell_type": "code",
      "execution_count": null,
      "metadata": {
        "colab": {
          "base_uri": "https://localhost:8080/"
        },
        "id": "016ec09c",
        "outputId": "ebfd587e-43cf-41c4-dab6-667a5f257fc5"
      },
      "outputs": [
        {
          "output_type": "stream",
          "name": "stdout",
          "text": [
            "\n",
            "computation with Grover Fixed Point Search...\n",
            "\n",
            "done in 7.77 seconds\n",
            "\n"
          ]
        }
      ],
      "source": [
        "noise = True\n",
        "#noise = False\n",
        "\n",
        "print(f\"\\ncomputation with Grover Fixed Point Search...\\n\")\n",
        "start_time = time.time()\n",
        "psi, qc = GroverForQUBO(Q, digits, threshold, delta, Lambda, noise)\n",
        "end_time = time.time()\n",
        "print(f\"done in {np.round(end_time - start_time, 2)} seconds\\n\")"
      ],
      "id": "016ec09c"
    },
    {
      "cell_type": "code",
      "source": [
        "distribution, success = {cut: np.sum([p if cuts[x] == cut else 0 for x, p in enumerate(psi)]) for cut in range(MaxCut + 1)}, np.sum([p if cuts[x] >= threshold else 0 for x, p in enumerate(psi)])\n",
        "M, var = np.sum([cut * distribution[cut] for cut in distribution]), np.sum([cut * cut * distribution[cut] for cut in distribution])\n",
        "var, difference = np.sqrt(var - M**2), {cut: distribution[cut] - random_chance[cut] for cut in range(MaxCut + 1)}\n",
        "sign_m, sign_sigma = \"+\" if M >= m else \"-\", \"+\" if var >= sigma else \"-\"\n",
        "gate_count, total_gate_count = { qubit: 0 for qubit in qc.qubits }, 0\n",
        "for gate in qc.data:\n",
        "    for qubit in gate.qubits:\n",
        "        gate_count[qubit] += 1\n",
        "        total_gate_count += 1\n",
        "\n",
        "s = f\"simulation with noise\\n\" if noise else f\"simulation without noise\\n\"\n",
        "s += f\"\\nthe graph:\\n----------\\nMaxCut\\t\\t\\t= {MaxCut}\\nnumber of edges\\t\\t= {NumberOfEdges}\\nErdős-Edwards bound\\t= {ErdosEdwards}\\nthreshold\\t\\t= {threshold} ({threshold/MaxCut:.1%} of Maxcut)\\n\\nthe graph Laplacian:\\n--------------------\\n\\n\"\n",
        "s += f\"\".join([f\"{row.view()}\\n\" for row in GraphLaplacian])\n",
        "s += f\"\\nGrover parameters:\\n------------------\\nLambda\\t= {np.round(Lambda, 2)}\\ndelta\\t= {np.round(delta, 2)}\\nl\\t= {l}\\n\\nresults with Grover:\\n--------------------\\n\\n\"\n",
        "s += f\"success probability\\t= {success:.2%} (theoretical value = {TargetProbability:.2%}, random chance = {Lambda:.2%})\\n\\n\"\n",
        "s += f\"expectation\\t\\t= {np.round(M, 2)}\\t({m} {sign_m} {np.round(abs(M - m), 2)})\\nvariance\\t\\t= {np.round(var, 2)}\\t({np.round(sigma, 1)} {sign_sigma} {np.round(abs(var - sigma), 2)})\\n\\n\"\n",
        "s += f\"total gate count\\t= {total_gate_count}\\ncircuit depth\\t\\t= {qc.depth()}\"\n",
        "print(s)"
      ],
      "metadata": {
        "colab": {
          "base_uri": "https://localhost:8080/"
        },
        "id": "rNZDf4p-p3yI",
        "outputId": "35d33f19-3973-49af-915e-e08939d63dfc"
      },
      "id": "rNZDf4p-p3yI",
      "execution_count": null,
      "outputs": [
        {
          "output_type": "stream",
          "name": "stdout",
          "text": [
            "simulation with noise\n",
            "\n",
            "the graph:\n",
            "----------\n",
            "MaxCut\t\t\t= 8\n",
            "number of edges\t\t= 11\n",
            "Erdős-Edwards bound\t= 7\n",
            "threshold\t\t= 7 (87.5% of Maxcut)\n",
            "\n",
            "the graph Laplacian:\n",
            "--------------------\n",
            "\n",
            "[ 2  0  0  0 -1  0 -1]\n",
            "[ 0  2  0  0  0 -1 -1]\n",
            "[ 0  0  3 -1  0 -1 -1]\n",
            "[ 0  0 -1  3  0 -1 -1]\n",
            "[-1  0  0  0  2  0 -1]\n",
            "[ 0 -1 -1 -1  0  4 -1]\n",
            "[-1 -1 -1 -1 -1 -1  6]\n",
            "\n",
            "Grover parameters:\n",
            "------------------\n",
            "Lambda\t= 0.33\n",
            "delta\t= 0.65\n",
            "l\t= 1\n",
            "\n",
            "results with Grover:\n",
            "--------------------\n",
            "\n",
            "success probability\t= 47.41% (theoretical value = 100.00%, random chance = 32.81%)\n",
            "\n",
            "expectation\t\t= 5.85\t(5.5 + 0.35)\n",
            "variance\t\t= 1.63\t(1.7 - 0.02)\n",
            "\n",
            "total gate count\t= 828\n",
            "circuit depth\t\t= 372\n"
          ]
        }
      ]
    },
    {
      "cell_type": "code",
      "source": [
        "fig, axs = plt.subplots(1, 2)\n",
        "\n",
        "axs[0].bar(random_chance.keys(),\n",
        "           random_chance.values(),\n",
        "           width=0.5,\n",
        "           color=\"red\",\n",
        "           tick_label=np.arange(MaxCut + 1))\n",
        "axs[0].set(xlabel=f\"before Grover\", ylabel=f\"probabilities\")\n",
        "\n",
        "axs[1].bar(distribution.keys(),\n",
        "           distribution.values(),\n",
        "           width=0.5,\n",
        "           color=\"midnightblue\",\n",
        "           tick_label=np.arange(MaxCut + 1))\n",
        "axs[1].set(xlabel=f\"after Grover\")\n",
        "\n",
        "plt.show()\n",
        "\n",
        "plt.bar(difference.keys(),\n",
        "        difference.values(),\n",
        "        width=0.5,\n",
        "        color=\"green\",\n",
        "        tick_label=np.arange(MaxCut + 1))\n",
        "plt.title(f\"cut distribution change\")\n",
        "plt.ylabel(f\"probabilities\")\n",
        "plt.show()"
      ],
      "metadata": {
        "colab": {
          "base_uri": "https://localhost:8080/",
          "height": 884
        },
        "id": "ZIXBoQB_3z82",
        "outputId": "8fd17ef3-99d5-4a8b-914f-069882f908eb"
      },
      "id": "ZIXBoQB_3z82",
      "execution_count": null,
      "outputs": [
        {
          "output_type": "display_data",
          "data": {
            "text/plain": [
              "<Figure size 640x480 with 2 Axes>"
            ],
            "image/png": "[encoded data removed]"
          },
          "metadata": {}
        },
        {
          "output_type": "display_data",
          "data": {
            "text/plain": [
              "<Figure size 640x480 with 1 Axes>"
            ],
            "image/png": "[encoded data removed]"
          },
          "metadata": {}
        }
      ]
    },
    {
      "cell_type": "code",
      "source": [
        "gate_count = { qubit: 0 for qubit in qc.qubits }\n",
        "total_gate_count = 0\n",
        "\n",
        "for gate in qc.data:\n",
        "    for qubit in gate.qubits:\n",
        "        gate_count[qubit] += 1\n",
        "        total_gate_count += 1\n",
        "\n",
        "gate_count, total_gate_count, qc.depth(), np.sqrt(total_gate_count) / NumberOfVerticies, np.sqrt(qc.depth()) / NumberOfVerticies, total_gate_count / NumberOfEdges, qc.depth() / NumberOfEdges"
      ],
      "metadata": {
        "id": "4HSl-4AU3Etl",
        "colab": {
          "base_uri": "https://localhost:8080/"
        },
        "outputId": "8c04a129-43dc-4202-df1d-9293481fb62d"
      },
      "id": "4HSl-4AU3Etl",
      "execution_count": null,
      "outputs": [
        {
          "output_type": "execute_result",
          "data": {
            "text/plain": [
              "({Qubit(QuantumRegister(9, 'x'), 0): 45,\n",
              "  Qubit(QuantumRegister(9, 'x'), 1): 61,\n",
              "  Qubit(QuantumRegister(9, 'x'), 2): 33,\n",
              "  Qubit(QuantumRegister(9, 'x'), 3): 69,\n",
              "  Qubit(QuantumRegister(9, 'x'), 4): 81,\n",
              "  Qubit(QuantumRegister(9, 'x'), 5): 53,\n",
              "  Qubit(QuantumRegister(9, 'x'), 6): 77,\n",
              "  Qubit(QuantumRegister(9, 'x'), 7): 149,\n",
              "  Qubit(QuantumRegister(9, 'x'), 8): 121,\n",
              "  Qubit(QuantumRegister(5, 'y'), 0): 176,\n",
              "  Qubit(QuantumRegister(5, 'y'), 1): 173,\n",
              "  Qubit(QuantumRegister(5, 'y'), 2): 171,\n",
              "  Qubit(QuantumRegister(5, 'y'), 3): 169,\n",
              "  Qubit(QuantumRegister(5, 'y'), 4): 169},\n",
              " 1547,\n",
              " 705,\n",
              " 3.9331920878594273,\n",
              " 2.6551836094703507,\n",
              " 61.88,\n",
              " 28.2)"
            ]
          },
          "metadata": {},
          "execution_count": 105
        }
      ]
    },
    {
      "cell_type": "markdown",
      "source": [
        "# portfolio optimization"
      ],
      "metadata": {
        "id": "LquV_OpOCMbN"
      },
      "id": "LquV_OpOCMbN"
    },
    {
      "cell_type": "code",
      "source": [],
      "metadata": {
        "id": "6mAA2JueAj8s"
      },
      "id": "6mAA2JueAj8s",
      "execution_count": null,
      "outputs": []
    },
    {
      "cell_type": "markdown",
      "source": [
        "# Appendix: Grover parameters"
      ],
      "metadata": {
        "id": "-VCYstrbAc25"
      },
      "id": "-VCYstrbAc25"
    },
    {
      "cell_type": "code",
      "source": [
        "Lambda = 5e-1\n",
        "N = 12\n",
        "step = pow(2, - N)\n",
        "prob = 0.95\n",
        "\n",
        "deltas = np.arange(step, 1 - step, step, dtype=float)\n",
        "P = np.zeros(len(deltas), dtype=float)\n",
        "\n",
        "simplicity = np.ones(len(deltas), dtype=float)\n",
        "treshold = prob * np.ones(len(deltas), dtype=float)\n",
        "\n",
        "for i, delta in enumerate(deltas):\n",
        "    l = int(np.ceil(np.arccosh(1 / delta) / np.arccosh(1 / np.sqrt(1 - Lambda)))) // 2\n",
        "    simplicity[i] = 1/(l+1)\n",
        "    P[i] = Lambda if l == 0 else 1 - pow(delta * Chebyshev(Chebyshev(1 / delta, 1 / (2 * l + 1)) * np.sqrt(1 - Lambda), 2 * l + 1), 2)\n",
        "\n",
        "plt.xlabel(f\"delta\")\n",
        "plt.plot(deltas,P)\n",
        "plt.plot(deltas,simplicity)\n",
        "plt.plot(deltas,treshold)\n",
        "delta_Y = np.sqrt(1-prob)\n",
        "l_Y = int(np.ceil(np.arccosh(1 / delta_Y) / np.arccosh(1 / np.sqrt(1 - Lambda)))) // 2\n",
        "plt.plot(delta_Y, 1 - pow(delta_Y * Chebyshev(Chebyshev(1 / delta_Y, 1 / (2 * l_Y + 1)) * np.sqrt(1 - Lambda), 2 * l_Y + 1), 2), \"ro\")\n",
        "plt.show()"
      ],
      "metadata": {
        "id": "4FttRkcfLI9z",
        "colab": {
          "base_uri": "https://localhost:8080/",
          "height": 449
        },
        "outputId": "f6a8a3a5-0754-4abf-de2b-78ee36dc2b78"
      },
      "id": "4FttRkcfLI9z",
      "execution_count": null,
      "outputs": [
        {
          "output_type": "display_data",
          "data": {
            "text/plain": [
              "<Figure size 640x480 with 1 Axes>"
            ],
            "image/png": "[encoded data removed]"
          },
          "metadata": {}
        }
      ]
    },
    {
      "cell_type": "code",
      "source": [
        "Lambda = 1e-1\n",
        "N = 12\n",
        "step = pow(2, - N)\n",
        "prob = 0.9\n",
        "\n",
        "deltas = np.arange(step, 1 - step, step, dtype=float)\n",
        "P = np.zeros(len(deltas), dtype=float)\n",
        "\n",
        "simplicity = np.ones(len(deltas), dtype=float)\n",
        "treshold = prob * np.ones(len(deltas), dtype=float)\n",
        "\n",
        "for i, delta in enumerate(deltas):\n",
        "    l = int(np.ceil(np.arccosh(1 / delta) / np.arccosh(1 / np.sqrt(1 - Lambda)))) // 2\n",
        "    simplicity[i] = 1/(l+1)\n",
        "    P[i] = Lambda if l == 0 else 1 - pow(delta * Chebyshev(Chebyshev(1 / delta, 1 / (2 * l + 1)) * np.sqrt(1 - Lambda), 2 * l + 1), 2)\n",
        "\n",
        "plt.xlabel(f\"delta\")\n",
        "plt.plot(deltas,P)\n",
        "plt.plot(deltas,simplicity)\n",
        "plt.plot(deltas,treshold)\n",
        "delta_Y = np.sqrt(1-prob)\n",
        "l_Y = int(np.ceil(np.arccosh(1 / delta_Y) / np.arccosh(1 / np.sqrt(1 - Lambda)))) // 2\n",
        "plt.plot(delta_Y, 1 - pow(delta_Y * Chebyshev(Chebyshev(1 / delta_Y, 1 / (2 * l_Y + 1)) * np.sqrt(1 - Lambda), 2 * l_Y + 1), 2), \"ro\")\n",
        "plt.show()"
      ],
      "metadata": {
        "id": "KLvPDzoNXmQ0",
        "colab": {
          "base_uri": "https://localhost:8080/",
          "height": 449
        },
        "outputId": "d4a9ebed-1940-425f-e8da-6b1689f79c9e"
      },
      "id": "KLvPDzoNXmQ0",
      "execution_count": null,
      "outputs": [
        {
          "output_type": "display_data",
          "data": {
            "text/plain": [
              "<Figure size 640x480 with 1 Axes>"
            ],
            "image/png": "[encoded data removed]"
          },
          "metadata": {}
        }
      ]
    },
    {
      "cell_type": "code",
      "source": [
        "Lambda = 1e-5\n",
        "N = 12\n",
        "step = pow(2, - N)\n",
        "prob = 0.95\n",
        "\n",
        "deltas = np.arange(step, 1 - step, step, dtype=float)\n",
        "P = np.zeros(len(deltas), dtype=float)\n",
        "\n",
        "simplicity = np.ones(len(deltas), dtype=float)\n",
        "treshold = prob * np.ones(len(deltas), dtype=float)\n",
        "\n",
        "for i, delta in enumerate(deltas):\n",
        "    l = int(np.ceil(np.arccosh(1 / delta) / np.arccosh(1 / np.sqrt(1 - Lambda)))) // 2\n",
        "    simplicity[i] = 1/(l+1)\n",
        "    P[i] = Lambda if l == 0 else 1 - pow(delta * Chebyshev(Chebyshev(1 / delta, 1 / (2 * l + 1)) * np.sqrt(1 - Lambda), 2 * l + 1), 2)\n",
        "\n",
        "plt.xlabel(f\"delta\")\n",
        "plt.plot(deltas,P)\n",
        "plt.plot(deltas,simplicity)\n",
        "plt.plot(deltas,treshold)\n",
        "delta_Y = np.sqrt(1-prob)\n",
        "l_Y = int(np.ceil(np.arccosh(1 / delta_Y) / np.arccosh(1 / np.sqrt(1 - Lambda)))) // 2\n",
        "plt.plot(delta_Y, 1 - pow(delta_Y * Chebyshev(Chebyshev(1 / delta_Y, 1 / (2 * l_Y + 1)) * np.sqrt(1 - Lambda), 2 * l_Y + 1), 2), \"ro\")\n",
        "plt.show()"
      ],
      "metadata": {
        "colab": {
          "base_uri": "https://localhost:8080/",
          "height": 449
        },
        "id": "Q6n2QubrJ9zK",
        "outputId": "5414d3c8-6ac8-42a5-89e2-49970b84d425"
      },
      "id": "Q6n2QubrJ9zK",
      "execution_count": null,
      "outputs": [
        {
          "output_type": "display_data",
          "data": {
            "text/plain": [
              "<Figure size 640x480 with 1 Axes>"
            ],
            "image/png": "[encoded data removed]"
          },
          "metadata": {}
        }
      ]
    },
    {
      "cell_type": "code",
      "source": [
        "gate_count = { qubit: 0 for qubit in qc.qubits }\n",
        "total_gate_count = 0\n",
        "\n",
        "for gate in qc.data:\n",
        "    for qubit in gate.qubits:\n",
        "        gate_count[qubit] += 1\n",
        "        total_gate_count += 1\n",
        "\n",
        "gate_count, total_gate_count, qc.depth()"
      ],
      "metadata": {
        "colab": {
          "base_uri": "https://localhost:8080/"
        },
        "id": "JSHBt_xpCPCB",
        "outputId": "9628d34d-80c6-43cf-facf-3824d1b4f7e8"
      },
      "id": "JSHBt_xpCPCB",
      "execution_count": null,
      "outputs": [
        {
          "output_type": "execute_result",
          "data": {
            "text/plain": [
              "({Qubit(QuantumRegister(19, 'x'), 0): 29,\n",
              "  Qubit(QuantumRegister(19, 'x'), 1): 53,\n",
              "  Qubit(QuantumRegister(19, 'x'), 2): 57,\n",
              "  Qubit(QuantumRegister(19, 'x'), 3): 53,\n",
              "  Qubit(QuantumRegister(19, 'x'), 4): 89,\n",
              "  Qubit(QuantumRegister(19, 'x'), 5): 29,\n",
              "  Qubit(QuantumRegister(19, 'x'), 6): 125,\n",
              "  Qubit(QuantumRegister(19, 'x'), 7): 153,\n",
              "  Qubit(QuantumRegister(19, 'x'), 8): 177,\n",
              "  Qubit(QuantumRegister(19, 'x'), 9): 201,\n",
              "  Qubit(QuantumRegister(19, 'x'), 10): 233,\n",
              "  Qubit(QuantumRegister(19, 'x'), 11): 141,\n",
              "  Qubit(QuantumRegister(19, 'x'), 12): 233,\n",
              "  Qubit(QuantumRegister(19, 'x'), 13): 177,\n",
              "  Qubit(QuantumRegister(19, 'x'), 14): 269,\n",
              "  Qubit(QuantumRegister(19, 'x'), 15): 293,\n",
              "  Qubit(QuantumRegister(19, 'x'), 16): 293,\n",
              "  Qubit(QuantumRegister(19, 'x'), 17): 293,\n",
              "  Qubit(QuantumRegister(19, 'x'), 18): 193,\n",
              "  Qubit(QuantumRegister(7, 'y'), 0): 560,\n",
              "  Qubit(QuantumRegister(7, 'y'), 1): 557,\n",
              "  Qubit(QuantumRegister(7, 'y'), 2): 555,\n",
              "  Qubit(QuantumRegister(7, 'y'), 3): 553,\n",
              "  Qubit(QuantumRegister(7, 'y'), 4): 551,\n",
              "  Qubit(QuantumRegister(7, 'y'), 5): 549,\n",
              "  Qubit(QuantumRegister(7, 'y'), 6): 549},\n",
              " 6965,\n",
              " 3356)"
            ]
          },
          "metadata": {},
          "execution_count": 50
        }
      ]
    },
    {
      "cell_type": "code",
      "source": [
        "gate_count = { qubit: 0 for qubit in qc.qubits }\n",
        "total_gate_count = 0\n",
        "\n",
        "for gate in qc.data:\n",
        "    for qubit in gate.qubits:\n",
        "        gate_count[qubit] += 1\n",
        "        total_gate_count += 1\n",
        "\n",
        "gate_count, total_gate_count, qc.depth()"
      ],
      "metadata": {
        "colab": {
          "base_uri": "https://localhost:8080/"
        },
        "id": "MYwwNsNH3Eyi",
        "outputId": "92b8ca86-16d2-4ad7-94fa-a064c7a39b4c"
      },
      "id": "MYwwNsNH3Eyi",
      "execution_count": null,
      "outputs": [
        {
          "output_type": "execute_result",
          "data": {
            "text/plain": [
              "({Qubit(QuantumRegister(19, 'x'), 0): 29,\n",
              "  Qubit(QuantumRegister(19, 'x'), 1): 53,\n",
              "  Qubit(QuantumRegister(19, 'x'), 2): 57,\n",
              "  Qubit(QuantumRegister(19, 'x'), 3): 53,\n",
              "  Qubit(QuantumRegister(19, 'x'), 4): 89,\n",
              "  Qubit(QuantumRegister(19, 'x'), 5): 29,\n",
              "  Qubit(QuantumRegister(19, 'x'), 6): 125,\n",
              "  Qubit(QuantumRegister(19, 'x'), 7): 153,\n",
              "  Qubit(QuantumRegister(19, 'x'), 8): 177,\n",
              "  Qubit(QuantumRegister(19, 'x'), 9): 201,\n",
              "  Qubit(QuantumRegister(19, 'x'), 10): 233,\n",
              "  Qubit(QuantumRegister(19, 'x'), 11): 141,\n",
              "  Qubit(QuantumRegister(19, 'x'), 12): 233,\n",
              "  Qubit(QuantumRegister(19, 'x'), 13): 177,\n",
              "  Qubit(QuantumRegister(19, 'x'), 14): 269,\n",
              "  Qubit(QuantumRegister(19, 'x'), 15): 293,\n",
              "  Qubit(QuantumRegister(19, 'x'), 16): 293,\n",
              "  Qubit(QuantumRegister(19, 'x'), 17): 293,\n",
              "  Qubit(QuantumRegister(19, 'x'), 18): 193,\n",
              "  Qubit(QuantumRegister(7, 'y'), 0): 560,\n",
              "  Qubit(QuantumRegister(7, 'y'), 1): 557,\n",
              "  Qubit(QuantumRegister(7, 'y'), 2): 555,\n",
              "  Qubit(QuantumRegister(7, 'y'), 3): 553,\n",
              "  Qubit(QuantumRegister(7, 'y'), 4): 551,\n",
              "  Qubit(QuantumRegister(7, 'y'), 5): 549,\n",
              "  Qubit(QuantumRegister(7, 'y'), 6): 549},\n",
              " 6965,\n",
              " 3356)"
            ]
          },
          "metadata": {},
          "execution_count": 51
        }
      ]
    },
    {
      "cell_type": "code",
      "source": [],
      "metadata": {
        "id": "AEkoqYmK3sWp"
      },
      "id": "AEkoqYmK3sWp",
      "execution_count": null,
      "outputs": []
    }
  ],
  "metadata": {
    "colab": {
      "provenance": [],
      "collapsed_sections": [
        "THzaoqHo13RE",
        "FTiJALVtnQIW",
        "IPRVQYBNTx8w",
        "kZZELK6X0Djw",
        "uPdo4AqbiLkw",
        "V-voj0syK7t6"
      ]
    },
    "kernelspec": {
      "display_name": "Python 3 (ipykernel)",
      "language": "python",
      "name": "python3"
    },
    "language_info": {
      "codemirror_mode": {
        "name": "ipython",
        "version": 3
      },
      "file_extension": ".py",
      "mimetype": "text/x-python",
      "name": "python",
      "nbconvert_exporter": "python",
      "pygments_lexer": "ipython3",
      "version": "3.11.3"
    }
  },
  "nbformat": 4,
  "nbformat_minor": 5
}