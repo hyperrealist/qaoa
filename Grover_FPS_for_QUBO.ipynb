{
  "cells": [
    {
      "cell_type": "markdown",
      "source": [
        "# preparations"
      ],
      "metadata": {
        "id": "THzaoqHo13RE"
      },
      "id": "THzaoqHo13RE"
    },
    {
      "cell_type": "markdown",
      "source": [
        "## loading necessary libraries"
      ],
      "metadata": {
        "id": "IPRVQYBNTx8w"
      },
      "id": "IPRVQYBNTx8w"
    },
    {
      "cell_type": "code",
      "execution_count": 2,
      "metadata": {
        "colab": {
          "base_uri": "https://localhost:8080/"
        },
        "id": "cd0b0630",
        "outputId": "20bbaa2f-fb53-48d2-bfd2-bb482deff072"
      },
      "outputs": [
        {
          "output_type": "stream",
          "name": "stdout",
          "text": [
            "Looking in indexes: https://pypi.org/simple, https://us-python.pkg.dev/colab-wheels/public/simple/\n",
            "Collecting qiskit\n",
            "  Downloading qiskit-0.43.1.tar.gz (9.6 kB)\n",
            "  Installing build dependencies ... \u001b[?25l\u001b[?25hdone\n",
            "  Getting requirements to build wheel ... \u001b[?25l\u001b[?25hdone\n",
            "  Installing backend dependencies ... \u001b[?25l\u001b[?25hdone\n",
            "  Preparing metadata (pyproject.toml) ... \u001b[?25l\u001b[?25hdone\n",
            "Collecting qiskit-terra==0.24.1 (from qiskit)\n",
            "  Downloading qiskit_terra-0.24.1-cp310-cp310-manylinux_2_17_x86_64.manylinux2014_x86_64.whl (5.9 MB)\n",
            "\u001b[2K     \u001b[90m━━━━━━━━━━━━━━━━━━━━━━━━━━━━━━━━━━━━━━━━\u001b[0m \u001b[32m5.9/5.9 MB\u001b[0m \u001b[31m76.0 MB/s\u001b[0m eta \u001b[36m0:00:00\u001b[0m\n",
            "\u001b[?25hCollecting qiskit-aer==0.12.0 (from qiskit)\n",
            "  Downloading qiskit_aer-0.12.0-cp310-cp310-manylinux_2_17_x86_64.manylinux2014_x86_64.whl (12.8 MB)\n",
            "\u001b[2K     \u001b[90m━━━━━━━━━━━━━━━━━━━━━━━━━━━━━━━━━━━━━━━━\u001b[0m \u001b[32m12.8/12.8 MB\u001b[0m \u001b[31m78.2 MB/s\u001b[0m eta \u001b[36m0:00:00\u001b[0m\n",
            "\u001b[?25hCollecting qiskit-ibmq-provider==0.20.2 (from qiskit)\n",
            "  Downloading qiskit_ibmq_provider-0.20.2-py3-none-any.whl (241 kB)\n",
            "\u001b[2K     \u001b[90m━━━━━━━━━━━━━━━━━━━━━━━━━━━━━━━━━━━━━━\u001b[0m \u001b[32m241.5/241.5 kB\u001b[0m \u001b[31m33.8 MB/s\u001b[0m eta \u001b[36m0:00:00\u001b[0m\n",
            "\u001b[?25hRequirement already satisfied: numpy>=1.16.3 in /usr/local/lib/python3.10/dist-packages (from qiskit-aer==0.12.0->qiskit) (1.22.4)\n",
            "Requirement already satisfied: scipy>=1.0 in /usr/local/lib/python3.10/dist-packages (from qiskit-aer==0.12.0->qiskit) (1.10.1)\n",
            "Requirement already satisfied: requests>=2.19 in /usr/local/lib/python3.10/dist-packages (from qiskit-ibmq-provider==0.20.2->qiskit) (2.27.1)\n",
            "Collecting requests-ntlm<=1.1.0 (from qiskit-ibmq-provider==0.20.2->qiskit)\n",
            "  Downloading requests_ntlm-1.1.0-py2.py3-none-any.whl (5.7 kB)\n",
            "Requirement already satisfied: urllib3>=1.21.1 in /usr/local/lib/python3.10/dist-packages (from qiskit-ibmq-provider==0.20.2->qiskit) (1.26.15)\n",
            "Requirement already satisfied: python-dateutil>=2.8.0 in /usr/local/lib/python3.10/dist-packages (from qiskit-ibmq-provider==0.20.2->qiskit) (2.8.2)\n",
            "Requirement already satisfied: websocket-client>=1.5.1 in /usr/local/lib/python3.10/dist-packages (from qiskit-ibmq-provider==0.20.2->qiskit) (1.5.1)\n",
            "Collecting websockets>=10.0 (from qiskit-ibmq-provider==0.20.2->qiskit)\n",
            "  Downloading websockets-11.0.3-cp310-cp310-manylinux_2_5_x86_64.manylinux1_x86_64.manylinux_2_17_x86_64.manylinux2014_x86_64.whl (129 kB)\n",
            "\u001b[2K     \u001b[90m━━━━━━━━━━━━━━━━━━━━━━━━━━━━━━━━━━━━━━\u001b[0m \u001b[32m129.9/129.9 kB\u001b[0m \u001b[31m19.6 MB/s\u001b[0m eta \u001b[36m0:00:00\u001b[0m\n",
            "\u001b[?25hCollecting rustworkx>=0.12.0 (from qiskit-terra==0.24.1->qiskit)\n",
            "  Downloading rustworkx-0.13.0-cp310-cp310-manylinux_2_17_x86_64.manylinux2014_x86_64.whl (1.9 MB)\n",
            "\u001b[2K     \u001b[90m━━━━━━━━━━━━━━━━━━━━━━━━━━━━━━━━━━━━━━━━\u001b[0m \u001b[32m1.9/1.9 MB\u001b[0m \u001b[31m90.5 MB/s\u001b[0m eta \u001b[36m0:00:00\u001b[0m\n",
            "\u001b[?25hCollecting ply>=3.10 (from qiskit-terra==0.24.1->qiskit)\n",
            "  Downloading ply-3.11-py2.py3-none-any.whl (49 kB)\n",
            "\u001b[2K     \u001b[90m━━━━━━━━━━━━━━━━━━━━━━━━━━━━━━━━━━━━━━━━\u001b[0m \u001b[32m49.6/49.6 kB\u001b[0m \u001b[31m7.3 MB/s\u001b[0m eta \u001b[36m0:00:00\u001b[0m\n",
            "\u001b[?25hRequirement already satisfied: psutil>=5 in /usr/local/lib/python3.10/dist-packages (from qiskit-terra==0.24.1->qiskit) (5.9.5)\n",
            "Requirement already satisfied: sympy>=1.3 in /usr/local/lib/python3.10/dist-packages (from qiskit-terra==0.24.1->qiskit) (1.11.1)\n",
            "Collecting dill>=0.3 (from qiskit-terra==0.24.1->qiskit)\n",
            "  Downloading dill-0.3.6-py3-none-any.whl (110 kB)\n",
            "\u001b[2K     \u001b[90m━━━━━━━━━━━━━━━━━━━━━━━━━━━━━━━━━━━━━━\u001b[0m \u001b[32m110.5/110.5 kB\u001b[0m \u001b[31m14.5 MB/s\u001b[0m eta \u001b[36m0:00:00\u001b[0m\n",
            "\u001b[?25hCollecting stevedore>=3.0.0 (from qiskit-terra==0.24.1->qiskit)\n",
            "  Downloading stevedore-5.1.0-py3-none-any.whl (49 kB)\n",
            "\u001b[2K     \u001b[90m━━━━━━━━━━━━━━━━━━━━━━━━━━━━━━━━━━━━━━━━\u001b[0m \u001b[32m49.6/49.6 kB\u001b[0m \u001b[31m6.6 MB/s\u001b[0m eta \u001b[36m0:00:00\u001b[0m\n",
            "\u001b[?25hCollecting symengine<0.10,>=0.9 (from qiskit-terra==0.24.1->qiskit)\n",
            "  Downloading symengine-0.9.2-cp310-cp310-manylinux2010_x86_64.whl (37.5 MB)\n",
            "\u001b[2K     \u001b[90m━━━━━━━━━━━━━━━━━━━━━━━━━━━━━━━━━━━━━━━━\u001b[0m \u001b[32m37.5/37.5 MB\u001b[0m \u001b[31m22.7 MB/s\u001b[0m eta \u001b[36m0:00:00\u001b[0m\n",
            "\u001b[?25hRequirement already satisfied: six>=1.5 in /usr/local/lib/python3.10/dist-packages (from python-dateutil>=2.8.0->qiskit-ibmq-provider==0.20.2->qiskit) (1.16.0)\n",
            "Requirement already satisfied: certifi>=2017.4.17 in /usr/local/lib/python3.10/dist-packages (from requests>=2.19->qiskit-ibmq-provider==0.20.2->qiskit) (2022.12.7)\n",
            "Requirement already satisfied: charset-normalizer~=2.0.0 in /usr/local/lib/python3.10/dist-packages (from requests>=2.19->qiskit-ibmq-provider==0.20.2->qiskit) (2.0.12)\n",
            "Requirement already satisfied: idna<4,>=2.5 in /usr/local/lib/python3.10/dist-packages (from requests>=2.19->qiskit-ibmq-provider==0.20.2->qiskit) (3.4)\n",
            "Collecting ntlm-auth>=1.0.2 (from requests-ntlm<=1.1.0->qiskit-ibmq-provider==0.20.2->qiskit)\n",
            "  Downloading ntlm_auth-1.5.0-py2.py3-none-any.whl (29 kB)\n",
            "Requirement already satisfied: cryptography>=1.3 in /usr/local/lib/python3.10/dist-packages (from requests-ntlm<=1.1.0->qiskit-ibmq-provider==0.20.2->qiskit) (40.0.2)\n",
            "Collecting pbr!=2.1.0,>=2.0.0 (from stevedore>=3.0.0->qiskit-terra==0.24.1->qiskit)\n",
            "  Downloading pbr-5.11.1-py2.py3-none-any.whl (112 kB)\n",
            "\u001b[2K     \u001b[90m━━━━━━━━━━━━━━━━━━━━━━━━━━━━━━━━━━━━━━━\u001b[0m \u001b[32m112.7/112.7 kB\u001b[0m \u001b[31m9.9 MB/s\u001b[0m eta \u001b[36m0:00:00\u001b[0m\n",
            "\u001b[?25hRequirement already satisfied: mpmath>=0.19 in /usr/local/lib/python3.10/dist-packages (from sympy>=1.3->qiskit-terra==0.24.1->qiskit) (1.3.0)\n",
            "Requirement already satisfied: cffi>=1.12 in /usr/local/lib/python3.10/dist-packages (from cryptography>=1.3->requests-ntlm<=1.1.0->qiskit-ibmq-provider==0.20.2->qiskit) (1.15.1)\n",
            "Requirement already satisfied: pycparser in /usr/local/lib/python3.10/dist-packages (from cffi>=1.12->cryptography>=1.3->requests-ntlm<=1.1.0->qiskit-ibmq-provider==0.20.2->qiskit) (2.21)\n",
            "Building wheels for collected packages: qiskit\n",
            "  Building wheel for qiskit (pyproject.toml) ... \u001b[?25l\u001b[?25hdone\n",
            "  Created wheel for qiskit: filename=qiskit-0.43.1-py3-none-any.whl size=8029 sha256=b2787c5603b96d5b348c558dbb55f81f79b295698b9979b5bf500db588104417\n",
            "  Stored in directory: /root/.cache/pip/wheels/f1/f6/ad/0f2527d2cc0028cd682619f1b50a24476fd3592e0c63f87282\n",
            "Successfully built qiskit\n",
            "Installing collected packages: ply, websockets, symengine, rustworkx, pbr, ntlm-auth, dill, stevedore, requests-ntlm, qiskit-terra, qiskit-ibmq-provider, qiskit-aer, qiskit\n",
            "Successfully installed dill-0.3.6 ntlm-auth-1.5.0 pbr-5.11.1 ply-3.11 qiskit-0.43.1 qiskit-aer-0.12.0 qiskit-ibmq-provider-0.20.2 qiskit-terra-0.24.1 requests-ntlm-1.1.0 rustworkx-0.13.0 stevedore-5.1.0 symengine-0.9.2 websockets-11.0.3\n"
          ]
        }
      ],
      "source": [
        "%pip install qiskit"
      ],
      "id": "cd0b0630"
    },
    {
      "cell_type": "code",
      "source": [
        "from qiskit import QuantumCircuit, QuantumRegister, execute\n",
        "from qiskit_aer import AerSimulator\n",
        "from qiskit_aer.noise import NoiseModel, pauli_error, ReadoutError, thermal_relaxation_error, depolarizing_error\n",
        "from qiskit.quantum_info import Statevector, DensityMatrix\n",
        "\n",
        "import numpy as np\n",
        "import networkx as nx\n",
        "import matplotlib.pyplot as plt\n",
        "import time"
      ],
      "metadata": {
        "id": "dlRKQIAC6D00"
      },
      "id": "dlRKQIAC6D00",
      "execution_count": 3,
      "outputs": []
    },
    {
      "cell_type": "markdown",
      "source": [
        "## noise model based on IonQ's Aria specifications:\n",
        "depolarizing error probability is probabilities adjusted from thermal noise infidelity: $p = e^{-t/T_2}$ with gate time for $t$"
      ],
      "metadata": {
        "id": "kZZELK6X0Djw"
      },
      "id": "kZZELK6X0Djw"
    },
    {
      "cell_type": "code",
      "source": [
        "# error probabilities\n",
        "p_meas = 3.9e-3\n",
        "p_reset = 3.9e-3\n",
        "p_gate1 = 6e-4\n",
        "p_gate2 = 6e-3\n",
        "\n",
        "# thermal relaxation error (nanosecond time)\n",
        "T1s = np.random.choice(range(10, 100), 10, replace=False) # consider adjusting range to be more reasonable\n",
        "T2 = 1e9\n",
        "\n",
        "time_meas = np.random.choice(range(600, 700), 10, replace=False)\n",
        "time_u1 = 0 # virtual gate\n",
        "time_gate1 = 135e3 # u1 and u2\n",
        "time_gate2 = 600e3 # 2 qubit gate\n",
        "\n",
        "# thermal relaxation error\n",
        "ther_u1  = [thermal_relaxation_error(t1 * 1e9, T2, time_u1)\n",
        "              for t1 in T1s]\n",
        "ther_gate1  = [thermal_relaxation_error(t1 * 1e9, T2, time_gate1)\n",
        "              for t1 in T1s]\n",
        "ther_gate2 = [[thermal_relaxation_error(t1a * 1e9, T2, time_gate2).expand(\n",
        "             thermal_relaxation_error(t1b * 1e9, T2, time_gate2))\n",
        "              for t1a in T1s]\n",
        "               for t1b in T1s]\n",
        "\n",
        "# depolarizing error\n",
        "dep_reset = depolarizing_error(p_reset, 1)\n",
        "dep_gate1 = depolarizing_error(p_gate1 - 1.34990888e-4, 1)\n",
        "dep_gate2 = depolarizing_error(p_gate2 - 5.99820036e-4, 2)\n",
        "\n",
        "# readout error\n",
        "er_meas = ReadoutError([[1 - p_meas, p_meas], [p_meas, 1 - p_meas]])\n",
        "\n",
        "# creating the noise model\n",
        "fake_aria = NoiseModel()\n",
        "\n",
        "for j in range(10):\n",
        "    fake_aria.add_quantum_error(ther_u1[j].compose(dep_gate1), \"u1\", [j])\n",
        "    fake_aria.add_quantum_error(ther_gate1[j].compose(dep_gate1), \"u2\", [j])\n",
        "    fake_aria.add_quantum_error(ther_gate1[j].compose(dep_gate1), \"u3\", [j])\n",
        "    for k in range(10):\n",
        "        fake_aria.add_quantum_error(ther_gate2[j][k].compose(dep_gate2), \"cx\", [j, k])\n",
        "fake_aria.add_all_qubit_quantum_error(dep_reset, \"reset\")\n",
        "fake_aria.add_all_qubit_readout_error(er_meas)"
      ],
      "metadata": {
        "id": "zTeDgrXH0Dq1"
      },
      "id": "zTeDgrXH0Dq1",
      "execution_count": 4,
      "outputs": []
    },
    {
      "cell_type": "markdown",
      "source": [
        "## miscellaneous"
      ],
      "metadata": {
        "id": "3Lt1OKYJ0OrK"
      },
      "id": "3Lt1OKYJ0OrK"
    },
    {
      "cell_type": "code",
      "source": [
        "#graph plotter\n",
        "def createGraph(GraphLaplacian: list[list[int]]):\n",
        "    Edges = []\n",
        "    for i, row in enumerate(GraphLaplacian):\n",
        "        for j, v in enumerate(row[:i]):\n",
        "            if v == - 1:\n",
        "                Edges.append([i, j])\n",
        "    Graph = nx.Graph()\n",
        "    Graph.add_edges_from(Edges)\n",
        "    nx.draw_networkx(Graph)"
      ],
      "metadata": {
        "id": "J5zjcjRb12hr"
      },
      "id": "J5zjcjRb12hr",
      "execution_count": 5,
      "outputs": []
    },
    {
      "cell_type": "markdown",
      "source": [
        "### Grover parameter finder: this optimizes `delta` $\\in (0, 1)$ so that the query complexity is minimal for a given pair of target probability and ratio, `P` and `Lambda`"
      ],
      "metadata": {
        "id": "4JOxrrxxqNcT"
      },
      "id": "4JOxrrxxqNcT"
    },
    {
      "cell_type": "code",
      "source": [
        "def Chebyshev(x: float, L:  float):\n",
        "    return np.cos(L * np.arccos(x)) if x <= 1 else np.cosh(L * np.arccosh(x))\n",
        "\n",
        "def GroverParameterOptimizer(P: float, Lambda: float, N: int):\n",
        "    step, L, p = pow(2, - N), 0, 0\n",
        "    done = False\n",
        "    while p < P:\n",
        "        L += 1\n",
        "        delta = step\n",
        "        l = int(np.ceil(np.arccosh(1 / delta) / np.arccosh(1 / np.sqrt(1 - Lambda)))) >> 1\n",
        "        while l > L:\n",
        "            delta += step\n",
        "            l = int(np.ceil(np.arccosh(1 / delta) / np.arccosh(1 / np.sqrt(1 - Lambda)))) >> 1\n",
        "        candidate = delta\n",
        "        while delta < 1:\n",
        "            p_new = 1 - pow(delta * Chebyshev(Chebyshev(1 / delta, 1 / (2 * l + 1)) * np.sqrt(1 - Lambda), 2 * l + 1), 2)\n",
        "            if p_new >= p:\n",
        "                p = p_new\n",
        "                candidate = delta\n",
        "            delta += step\n",
        "            l = int(np.ceil(np.arccosh(1 / delta) / np.arccosh(1 / np.sqrt(1 - Lambda)))) >> 1\n",
        "\n",
        "    delta = candidate\n",
        "    l = int(np.ceil(np.arccosh(1 / delta) / np.arccosh(1 / np.sqrt(1 - Lambda)))) >> 1\n",
        "    p = 1 - pow(delta * Chebyshev(Chebyshev(1 / delta, 1 / (2 * l + 1)) * np.sqrt(1 - Lambda), 2 * l + 1), 2)\n",
        "\n",
        "    return delta, l, p"
      ],
      "metadata": {
        "id": "mLZxhHb_0Oyl"
      },
      "id": "mLZxhHb_0Oyl",
      "execution_count": 6,
      "outputs": []
    },
    {
      "cell_type": "markdown",
      "metadata": {
        "id": "6df7161c"
      },
      "source": [
        "# circuits"
      ],
      "id": "6df7161c"
    },
    {
      "cell_type": "markdown",
      "source": [
        "### custom multi-conrolled phase gate with $O (n)$ depth and no ancillas\n",
        "\n",
        "based on [arXiv:2203.11882v2](https://arxiv.org/abs/2203.11882)"
      ],
      "metadata": {
        "id": "L8fMh5gvk9Np"
      },
      "id": "L8fMh5gvk9Np"
    },
    {
      "cell_type": "code",
      "source": [
        "def P_gate(n: int, phase: float):\n",
        "    QRegX = QuantumRegister(n)\n",
        "\n",
        "    QC = QuantumCircuit(QRegX)\n",
        "\n",
        "    for q in QRegX[1:-1]:\n",
        "        QC.cx(QRegX[-1], q)\n",
        "\n",
        "    theta = phase / 2\n",
        "    for q in reversed(QRegX[1:-1]):\n",
        "        QC.rz(- theta / 2, q)\n",
        "        theta /= 2\n",
        "\n",
        "    for q in reversed(QRegX[1:-1]):\n",
        "        QC.cx(QRegX[-1], q)\n",
        "\n",
        "    theta = phase / 2\n",
        "    for q in reversed(QRegX[1:-1]):\n",
        "        QC.rz(theta / 2, q)\n",
        "        theta /= 2\n",
        "\n",
        "    QC.rz(phase * (1 - pow(2, 2 - n)) / 2, QRegX[-1])\n",
        "\n",
        "    QC.label = f\"P_gate_{n}\"\n",
        "\n",
        "    return QC.to_gate()\n",
        "\n",
        "def R_gate(n: int):\n",
        "    QRegX = QuantumRegister(n, \"q\")\n",
        "\n",
        "    QC = QuantumCircuit(QRegX)\n",
        "\n",
        "    theta = np.pi / 2\n",
        "    for q in reversed(QRegX[1:-1]):\n",
        "        QC.crx(theta, q, QRegX[-1])\n",
        "        theta /= 2\n",
        "\n",
        "    QC.label = f\"R_gate_{n}\"\n",
        "\n",
        "    return QC.to_gate()\n",
        "\n",
        "def Q_gate(n: int):\n",
        "    QRegX = QuantumRegister(n, \"q\")\n",
        "\n",
        "    QC = QuantumCircuit(QRegX)\n",
        "\n",
        "    if n == 2:\n",
        "        QC.crx(np.pi, QRegX[0], QRegX[1])\n",
        "    elif n > 2:\n",
        "\n",
        "        for j in range(n - 2, 1, - 1):\n",
        "            Rj = R_gate(j+1)\n",
        "            Rj.label = f\"R_{j+1}\"\n",
        "            QC.append(Rj, QRegX[:j+1])\n",
        "            QC.crx(np.pi * pow(2, 1 - j), QRegX[0], QRegX[j])\n",
        "\n",
        "        QC.crx(np.pi, QRegX[0], QRegX[1])\n",
        "\n",
        "        for j in range(2, n - 1):\n",
        "            QC.append(R_gate(j+1).inverse(), QRegX[:j+1])\n",
        "\n",
        "        QC.label = f\"Q_gate_{n}\"\n",
        "\n",
        "    return QC.to_gate()\n",
        "\n",
        "def CustomMCP(n: int, phase: float):\n",
        "\n",
        "    QRegX = QuantumRegister(n)\n",
        "\n",
        "    QC = QuantumCircuit(QRegX)\n",
        "\n",
        "    Pn = P_gate(n, phase)\n",
        "    Pn.label = \"Pn\"\n",
        "\n",
        "    Qn = Q_gate(n)\n",
        "    Qn.label = \"Qn\"\n",
        "\n",
        "    PnI = Pn.inverse()\n",
        "    PnI.label = \"PnI\"\n",
        "\n",
        "    QnI = Qn.inverse()\n",
        "    QnI.label = \"QnI\"\n",
        "\n",
        "    QC.h(QRegX)\n",
        "    QC.x(QRegX)\n",
        "    QC.append(Pn, QRegX)\n",
        "    QC.cx(QRegX[-1], QRegX[0])\n",
        "    QC.rz(- phase * pow(2, 2 - n), QRegX[0])\n",
        "    QC.cx(QRegX[-1], QRegX[0])\n",
        "    QC.rz(phase * pow(2, 2 - n), QRegX[0])\n",
        "    QC.rz(phase * pow(2, 2 - n), QRegX[-1])\n",
        "    QC.append(Qn, QRegX)\n",
        "    QC.append(PnI, QRegX)\n",
        "    QC.append(QnI, QRegX)\n",
        "    QC.x(QRegX)\n",
        "    QC.h(QRegX)\n",
        "\n",
        "    return QC.to_gate()"
      ],
      "metadata": {
        "id": "uoZhYVo5lEyS"
      },
      "id": "uoZhYVo5lEyS",
      "execution_count": 7,
      "outputs": []
    },
    {
      "cell_type": "markdown",
      "source": [
        "### half of the cost oracle"
      ],
      "metadata": {
        "id": "paoRRJ1Y-TRF"
      },
      "id": "paoRRJ1Y-TRF"
    },
    {
      "cell_type": "code",
      "execution_count": 8,
      "metadata": {
        "id": "a5526b40"
      },
      "outputs": [],
      "source": [
        "def CostOracle(QuadraticForm: list[list[int]], y: int, digits: int):\n",
        "\n",
        "    QRegX = QuantumRegister(len(QuadraticForm))\n",
        "    QRegY = QuantumRegister(digits)\n",
        "\n",
        "    QC = QuantumCircuit(QRegX, QRegY)\n",
        "\n",
        "    QC.h(QRegY)\n",
        "\n",
        "    # adding y-1-sum(Q)-trace/4 to the anicillas\n",
        "    theta = np.pi * (y - 1 - QuadraticForm.sum() - np.trace(QuadraticForm)/4)\n",
        "    for q in reversed(QRegY):\n",
        "        QC.rz(theta, q)\n",
        "        theta /= 2\n",
        "\n",
        "    # subtracting (C(x)+sum(Q)+trace/4) from the anicillas\n",
        "    for i, p in enumerate(QRegX):\n",
        "\n",
        "        if np.sum(QuadraticForm[i]) != 0:\n",
        "            # double-check this for loop for general QUBOs\n",
        "            theta = - np.sum(QuadraticForm[i]) * np.pi\n",
        "            for q in reversed(QRegY):\n",
        "                QC.cx(q, r)\n",
        "                QC.rz(- theta, p)\n",
        "                QC.cx(q, r)\n",
        "                QC.rz(theta, p)\n",
        "                theta /= 2\n",
        "\n",
        "        for j, r in enumerate(QRegX[i + 1:]):\n",
        "            if QuadraticForm[i][i + 1 + j] != 0:\n",
        "                QC.cx(p, r)\n",
        "                theta = QuadraticForm[i][i + 1 + j] * np.pi / 2\n",
        "                for q in reversed(QRegY):\n",
        "                    QC.cx(q, r)\n",
        "                    QC.rz(- theta, r)\n",
        "                    QC.cx(q, r)\n",
        "                    QC.rz(theta, r)\n",
        "                    theta /= 2\n",
        "                QC.cx(p, r)\n",
        "\n",
        "    # Modified Inverse Quantum Fourier Transform\n",
        "    for i, q in enumerate(reversed(QRegY)):\n",
        "        QC.rz((pow(2, - i) - 1) * np.pi / 2, q)\n",
        "        theta = np.pi / 2\n",
        "        for r in QRegY[digits-i:]:\n",
        "            theta /= 2\n",
        "            QC.cx(r, q)\n",
        "            QC.rz(theta, q)\n",
        "            QC.cx(r, q)\n",
        "        QC.h(q)\n",
        "\n",
        "    return QC.to_gate()"
      ],
      "id": "a5526b40"
    },
    {
      "cell_type": "markdown",
      "metadata": {
        "id": "993346e4"
      },
      "source": [
        "### Grover Fixed Point Search for gerenal QUBO problems"
      ],
      "id": "993346e4"
    },
    {
      "cell_type": "code",
      "execution_count": 9,
      "metadata": {
        "id": "7785745f"
      },
      "outputs": [],
      "source": [
        "def GroverForQUBO(QuadraticForm: list[list[int]], digits: int, y: int, P: float, Lambda: float, noise: bool):\n",
        "\n",
        "    delta, l, _ = GroverParameterOptimizer(P, Lambda, 10)\n",
        "    gamma = 1 / np.sqrt(1 - pow(np.cosh(np.arccosh(1 / delta) / (2 * l + 1)), - 2))\n",
        "    angles = [2 * np.arctan(gamma / np.tan(2 * np.pi * j / (2 * l + 1))) for j in range(1, l + 1)]\n",
        "\n",
        "    CostGate = CostOracle(QuadraticForm, y, digits)\n",
        "    CostGateInverse = CostGate.inverse()\n",
        "\n",
        "    # one quantum register for each vertex\n",
        "    QRegX = QuantumRegister(len(QuadraticForm))\n",
        "\n",
        "    # quantum registers to digitize y\n",
        "    QRegY = QuantumRegister(digits)\n",
        "\n",
        "    QC = QuantumCircuit(QRegX, QRegY)\n",
        "\n",
        "    QC.h(QRegX)\n",
        "\n",
        "    for alpha, beta in zip(angles, reversed(angles)):\n",
        "\n",
        "        # S_t (beta)\n",
        "        QC.append(CostGate, QRegX[:] + QRegY[:])\n",
        "        QC.rz(beta, QRegY[0])\n",
        "        QC.append(CostGateInverse, QRegX[:] + QRegY[:])\n",
        "\n",
        "        # S_s (alpha)\n",
        "        QC.append(CustomMCP(len(QuadraticForm), alpha), QRegX)\n",
        "\n",
        "    if noise:\n",
        "        QC.save_density_matrix(qubits=QRegX, label=f\"rho\")\n",
        "        simulator = AerSimulator(method=\"density_matrix\", noise_model=fake_aria)\n",
        "        psi = execute(QC, simulator).result().data()[\"rho\"].probabilities()\n",
        "    else:\n",
        "        QC.save_statevector()\n",
        "        simulator = AerSimulator(method=\"statevector\")\n",
        "        psi = Statevector(execute(QC, simulator).result().get_statevector()).probabilities(np.arange(len(QRegX)))\n",
        "\n",
        "    return psi"
      ],
      "id": "7785745f"
    },
    {
      "cell_type": "markdown",
      "metadata": {
        "id": "7ca40d78"
      },
      "source": [
        "# parameters & testing:"
      ],
      "id": "7ca40d78"
    },
    {
      "cell_type": "code",
      "execution_count": 10,
      "metadata": {
        "colab": {
          "base_uri": "https://localhost:8080/",
          "height": 406
        },
        "id": "149f166a",
        "outputId": "45f6a5a1-c46f-4e08-b69a-a27a17caa4ea",
        "scrolled": true
      },
      "outputs": [
        {
          "output_type": "display_data",
          "data": {
            "text/plain": [
              "<Figure size 640x480 with 1 Axes>"
            ],
            "image/png": "[encoded data removed]"
          },
          "metadata": {}
        }
      ],
      "source": [
        "# graph size\n",
        "NumberOfVerticies = 7 # must be <= 18 to fit in Aria\n",
        "edge_probability = 5e-1\n",
        "\n",
        "# random, connected graph\n",
        "disconnected = True\n",
        "while disconnected:\n",
        "    GraphLaplacian = np.zeros((NumberOfVerticies, NumberOfVerticies), dtype=int)\n",
        "    for i in range(NumberOfVerticies):\n",
        "        for j in range(i + 1, NumberOfVerticies):\n",
        "            if np.random.rand() < edge_probability:\n",
        "                GraphLaplacian[i][j] = GraphLaplacian[j][i] = - 1\n",
        "        GraphLaplacian[i][i] = - np.sum(GraphLaplacian[i])\n",
        "    disconnected = (NumberOfVerticies != np.linalg.matrix_rank(GraphLaplacian) + 1)\n",
        "\n",
        "NumberOfEdges = np.trace(GraphLaplacian) >> 1\n",
        "\n",
        "# Erdos-Edwards bound for connected graphs\n",
        "y = (2 * NumberOfEdges + NumberOfVerticies - 1) >> 2\n",
        "\n",
        "digits = 1 + int(np.ceil(np.log2(max(y, NumberOfEdges + 1 - y)))) if NumberOfVerticies > 2 else 2\n",
        "\n",
        "createGraph(GraphLaplacian)\n",
        "\n",
        "\n",
        "\n",
        "# classical maxcut computation:\n",
        "maxdeg = [0, 0]\n",
        "for i in range(NumberOfVerticies):\n",
        "    if GraphLaplacian[i][i] > maxdeg[1]:\n",
        "        maxdeg = [i, GraphLaplacian[i][i]]\n",
        "\n",
        "if maxdeg[0] + 1 != NumberOfVerticies:\n",
        "    GraphLaplacian[[maxdeg[0], -1], :] = GraphLaplacian[[-1, maxdeg[0]], :]\n",
        "    GraphLaplacian[:, [maxdeg[0], -1]] = GraphLaplacian[:, [-1, maxdeg[0]]]\n",
        "\n",
        "Q = GraphLaplacian[np.ix_(np.arange(NumberOfVerticies - 1),np.arange(NumberOfVerticies - 1))]\n",
        "\n",
        "MaxCut, Lambda = y, 0\n",
        "for x in range(1 << (NumberOfVerticies - 1)):\n",
        "    conf = np.array([(x >> i)&1 for i in range(NumberOfVerticies - 1)])\n",
        "    cut = np.matmul(conf, np.matmul(Q, np.transpose(conf)))\n",
        "    if cut >= y:\n",
        "        Lambda += pow(2, 1 - NumberOfVerticies)\n",
        "        if cut > MaxCut:\n",
        "            MaxCut = cut"
      ],
      "id": "149f166a"
    },
    {
      "cell_type": "code",
      "source": [
        "P = 0.9 # lower bound for the target probability\n",
        "delta, l, P = GroverParameterOptimizer(P, Lambda, 10)\n",
        "print(f\"MaxCut\\ty\\tLambda\\tdigits\\tdelta\\tl\\tprob\\n{MaxCut}\\t{y}\\t{round(Lambda, 2)}\\t{digits}\\t{round(delta, 2)}\\t{l}\\t{round(P, 5) * 100}%\")"
      ],
      "metadata": {
        "colab": {
          "base_uri": "https://localhost:8080/"
        },
        "id": "LEwbShaA-Kfp",
        "outputId": "a1229f9a-c26e-4a77-fbac-3c553619e5dd"
      },
      "id": "LEwbShaA-Kfp",
      "execution_count": 11,
      "outputs": [
        {
          "output_type": "stream",
          "name": "stdout",
          "text": [
            "MaxCut\ty\tLambda\tdigits\tdelta\tl\tprob\n",
            "9\t7\t0.41\t4\t0.43\t1\t100.0%\n"
          ]
        }
      ]
    },
    {
      "cell_type": "markdown",
      "metadata": {
        "id": "02eec6db"
      },
      "source": [
        "### simulation:"
      ],
      "id": "02eec6db"
    },
    {
      "cell_type": "code",
      "execution_count": 15,
      "metadata": {
        "colab": {
          "base_uri": "https://localhost:8080/"
        },
        "id": "016ec09c",
        "outputId": "5a6922bf-4045-483f-e239-72ad6d4bbf4a"
      },
      "outputs": [
        {
          "output_type": "stream",
          "name": "stdout",
          "text": [
            "\n",
            "computation with Grover Fixed Point Search...\n",
            "\n",
            "done in 0.33 seconds\n",
            "\n"
          ]
        }
      ],
      "source": [
        "noise = True\n",
        "noise = False\n",
        "\n",
        "print(f\"\\ncomputation with Grover Fixed Point Search...\\n\")\n",
        "start_time = time.time()\n",
        "psi = GroverForQUBO(GraphLaplacian, digits, y, P, Lambda, noise)\n",
        "end_time = time.time()\n",
        "print(f\"done in {round(end_time - start_time, 2)} seconds\\n\")"
      ],
      "id": "016ec09c"
    },
    {
      "cell_type": "code",
      "source": [
        "s = \"simulation with noise\\n\" if noise else \"simulation without noise\\n\"\n",
        "s += f\"\\nthe graph:\\n----------\\nMaxCut\\t\\t\\t= {MaxCut}\\nnumber of edges\\t\\t= {np.trace(GraphLaplacian) >> 1}\\nErdos-Edwards bound\\t= {y}\\n\\n\"\n",
        "for row in GraphLaplacian:\n",
        "    s += f\"{row.view()}\\n\"\n",
        "s += \"\\n\"\n",
        "s += f\"Grover parameters:\\n------------------\\nLambda\\t= {round(Lambda, 3)}\\ndelta\\t= {round(delta, 2)}\\nl\\t= {l}\\n\\n\"\n",
        "s += f\"results with Grover:\\n--------------------\\n\\n\"\n",
        "\n",
        "M = var = success = 0\n",
        "distribution = {}\n",
        "random_chance = {}\n",
        "for i in range(MaxCut + 1):\n",
        "    distribution[i] = random_chance[i] = 0\n",
        "\n",
        "for i, p in enumerate(psi):\n",
        "    conf = [(i >> j)&1 for j in range(NumberOfVerticies)]\n",
        "    cut = np.matmul(conf, np.matmul(GraphLaplacian, np.transpose(conf)))\n",
        "    distribution[cut] += p\n",
        "    random_chance[cut] += pow(2, - NumberOfVerticies)\n",
        "    M += p * cut\n",
        "    var += p * cut * cut\n",
        "    if cut >= y:\n",
        "        success += p\n",
        "var -= M*M\n",
        "\n",
        "m, sigma = 0, 0\n",
        "difference = {}\n",
        "for cut in range(MaxCut + 1):\n",
        "    difference[cut] = distribution[cut] - random_chance[cut]\n",
        "    m += cut * random_chance[cut]\n",
        "    sigma += cut * cut * random_chance[cut]\n",
        "\n",
        "sigma -= m*m\n",
        "sign_m = \"+\" if M >= m else \"-\"\n",
        "sign_sigma = \"+\" if var >= sigma else \"-\"\n",
        "\n",
        "s += f\"expectation\\t= {round(M, 2)}\\t({m} {sign_m} {round(abs(M - m), 2)})\\nvariance\\t= {round(np.sqrt(var), 2)}\\t({round(np.sqrt(sigma), 1)} {sign_sigma} {round(abs(np.sqrt(var) - np.sqrt(sigma)), 2)})\\n\\n\"\n",
        "s += f\"success probability = {round(success * 100, 2)}% (theoretical value = {round(P, 2) * 100}%, random change = {round(Lambda, 2) * 100}%)\\n\"\n",
        "\n",
        "print(s)"
      ],
      "metadata": {
        "colab": {
          "base_uri": "https://localhost:8080/"
        },
        "id": "rNZDf4p-p3yI",
        "outputId": "e5033dd4-1090-4620-931a-331e1a7f2cdd"
      },
      "id": "rNZDf4p-p3yI",
      "execution_count": 16,
      "outputs": [
        {
          "output_type": "stream",
          "name": "stdout",
          "text": [
            "simulation without noise\n",
            "\n",
            "the graph:\n",
            "----------\n",
            "MaxCut\t\t\t= 9\n",
            "number of edges\t\t= 12\n",
            "Erdos-Edwards bound\t= 7\n",
            "\n",
            "[ 2 -1  0  0 -1  0  0]\n",
            "[-1  4 -1  0  0 -1 -1]\n",
            "[ 0 -1  3 -1  0  0 -1]\n",
            "[ 0  0 -1  3 -1  0 -1]\n",
            "[-1  0  0 -1  4 -1 -1]\n",
            "[ 0 -1  0  0 -1  3 -1]\n",
            "[ 0 -1 -1 -1 -1 -1  5]\n",
            "\n",
            "Grover parameters:\n",
            "------------------\n",
            "Lambda\t= 0.406\n",
            "delta\t= 0.43\n",
            "l\t= 1\n",
            "\n",
            "results with Grover:\n",
            "--------------------\n",
            "\n",
            "expectation\t= 7.61\t(6.0 + 1.61)\n",
            "variance\t= 0.69\t(1.7 - 1.05)\n",
            "\n",
            "success probability = 99.96% (theoretical value = 100.0%, random change = 41.0%)\n",
            "\n"
          ]
        }
      ]
    },
    {
      "cell_type": "code",
      "source": [
        "fig, axs = plt.subplots(1, 2)\n",
        "\n",
        "axs[0].bar(distribution.keys(),\n",
        "              distribution.values(),\n",
        "              width=0.5,\n",
        "              color=\"midnightblue\",\n",
        "              tick_label=[i for i in range(MaxCut + 1)])\n",
        "axs[0].set(xlabel=f\"after Grover\", ylabel=f\"probabilities\")\n",
        "\n",
        "axs[1].bar(distribution.keys(),\n",
        "              random_chance.values(),\n",
        "              width=0.5,\n",
        "              color=\"red\",\n",
        "              tick_label=[i for i in range(MaxCut + 1)])\n",
        "axs[1].set(xlabel=f\"before Grover\")\n",
        "\n",
        "plt.show()"
      ],
      "metadata": {
        "colab": {
          "base_uri": "https://localhost:8080/",
          "height": 449
        },
        "id": "ZIXBoQB_3z82",
        "outputId": "86487ad3-5c87-45b9-c0db-9ddd8e5bac42"
      },
      "id": "ZIXBoQB_3z82",
      "execution_count": 17,
      "outputs": [
        {
          "output_type": "display_data",
          "data": {
            "text/plain": [
              "<Figure size 640x480 with 2 Axes>"
            ],
            "image/png": "[encoded data removed]"
          },
          "metadata": {}
        }
      ]
    },
    {
      "cell_type": "code",
      "source": [
        "plt.bar(difference.keys(),\n",
        "        difference.values(),\n",
        "        width=0.5,\n",
        "        color=\"green\",\n",
        "        tick_label=[i for i in range(MaxCut + 1)])\n",
        "plt.title(f\"cut distribution change\")\n",
        "plt.ylabel(f\"probabilities\")\n",
        "plt.show()"
      ],
      "metadata": {
        "id": "4HSl-4AU3Etl",
        "colab": {
          "base_uri": "https://localhost:8080/",
          "height": 452
        },
        "outputId": "75976657-7b06-41c9-8b04-706fdfc55d0d"
      },
      "id": "4HSl-4AU3Etl",
      "execution_count": 18,
      "outputs": [
        {
          "output_type": "display_data",
          "data": {
            "text/plain": [
              "<Figure size 640x480 with 1 Axes>"
            ],
            "image/png": "[encoded data removed]"
          },
          "metadata": {}
        }
      ]
    },
    {
      "cell_type": "markdown",
      "source": [
        "## portfolio optimization"
      ],
      "metadata": {
        "id": "LquV_OpOCMbN"
      },
      "id": "LquV_OpOCMbN"
    },
    {
      "cell_type": "code",
      "source": [],
      "metadata": {
        "id": "SGu_LpEBD7cl"
      },
      "id": "SGu_LpEBD7cl",
      "execution_count": null,
      "outputs": []
    }
  ],
  "metadata": {
    "colab": {
      "provenance": [],
      "collapsed_sections": [
        "IPRVQYBNTx8w",
        "kZZELK6X0Djw"
      ]
    },
    "kernelspec": {
      "display_name": "Python 3 (ipykernel)",
      "language": "python",
      "name": "python3"
    },
    "language_info": {
      "codemirror_mode": {
        "name": "ipython",
        "version": 3
      },
      "file_extension": ".py",
      "mimetype": "text/x-python",
      "name": "python",
      "nbconvert_exporter": "python",
      "pygments_lexer": "ipython3",
      "version": "3.11.3"
    }
  },
  "nbformat": 4,
  "nbformat_minor": 5
}