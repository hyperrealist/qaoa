{
  "cells": [
    {
      "cell_type": "markdown",
      "source": [
        "# preparations"
      ],
      "metadata": {
        "id": "THzaoqHo13RE"
      },
      "id": "THzaoqHo13RE"
    },
    {
      "cell_type": "markdown",
      "source": [
        "## install Qiskit"
      ],
      "metadata": {
        "id": "FTiJALVtnQIW"
      },
      "id": "FTiJALVtnQIW"
    },
    {
      "cell_type": "code",
      "source": [
        "%pip install qiskit"
      ],
      "metadata": {
        "id": "asSgzYHnnT8E",
        "colab": {
          "base_uri": "https://localhost:8080/"
        },
        "outputId": "dfc5c7d2-cbcc-4b79-ca9c-e44a93acf6ea"
      },
      "id": "asSgzYHnnT8E",
      "execution_count": 1,
      "outputs": [
        {
          "output_type": "stream",
          "name": "stdout",
          "text": [
            "Looking in indexes: https://pypi.org/simple, https://us-python.pkg.dev/colab-wheels/public/simple/\n",
            "Collecting qiskit\n",
            "  Downloading qiskit-0.43.1.tar.gz (9.6 kB)\n",
            "  Installing build dependencies ... \u001b[?25l\u001b[?25hdone\n",
            "  Getting requirements to build wheel ... \u001b[?25l\u001b[?25hdone\n",
            "  Installing backend dependencies ... \u001b[?25l\u001b[?25hdone\n",
            "  Preparing metadata (pyproject.toml) ... \u001b[?25l\u001b[?25hdone\n",
            "Collecting qiskit-terra==0.24.1 (from qiskit)\n",
            "  Downloading qiskit_terra-0.24.1-cp310-cp310-manylinux_2_17_x86_64.manylinux2014_x86_64.whl (5.9 MB)\n",
            "\u001b[2K     \u001b[90m━━━━━━━━━━━━━━━━━━━━━━━━━━━━━━━━━━━━━━━━\u001b[0m \u001b[32m5.9/5.9 MB\u001b[0m \u001b[31m20.1 MB/s\u001b[0m eta \u001b[36m0:00:00\u001b[0m\n",
            "\u001b[?25hCollecting qiskit-aer==0.12.0 (from qiskit)\n",
            "  Downloading qiskit_aer-0.12.0-cp310-cp310-manylinux_2_17_x86_64.manylinux2014_x86_64.whl (12.8 MB)\n",
            "\u001b[2K     \u001b[90m━━━━━━━━━━━━━━━━━━━━━━━━━━━━━━━━━━━━━━━━\u001b[0m \u001b[32m12.8/12.8 MB\u001b[0m \u001b[31m31.4 MB/s\u001b[0m eta \u001b[36m0:00:00\u001b[0m\n",
            "\u001b[?25hCollecting qiskit-ibmq-provider==0.20.2 (from qiskit)\n",
            "  Downloading qiskit_ibmq_provider-0.20.2-py3-none-any.whl (241 kB)\n",
            "\u001b[2K     \u001b[90m━━━━━━━━━━━━━━━━━━━━━━━━━━━━━━━━━━━━━━\u001b[0m \u001b[32m241.5/241.5 kB\u001b[0m \u001b[31m21.6 MB/s\u001b[0m eta \u001b[36m0:00:00\u001b[0m\n",
            "\u001b[?25hRequirement already satisfied: numpy>=1.16.3 in /usr/local/lib/python3.10/dist-packages (from qiskit-aer==0.12.0->qiskit) (1.22.4)\n",
            "Requirement already satisfied: scipy>=1.0 in /usr/local/lib/python3.10/dist-packages (from qiskit-aer==0.12.0->qiskit) (1.10.1)\n",
            "Requirement already satisfied: requests>=2.19 in /usr/local/lib/python3.10/dist-packages (from qiskit-ibmq-provider==0.20.2->qiskit) (2.27.1)\n",
            "Collecting requests-ntlm<=1.1.0 (from qiskit-ibmq-provider==0.20.2->qiskit)\n",
            "  Downloading requests_ntlm-1.1.0-py2.py3-none-any.whl (5.7 kB)\n",
            "Requirement already satisfied: urllib3>=1.21.1 in /usr/local/lib/python3.10/dist-packages (from qiskit-ibmq-provider==0.20.2->qiskit) (1.26.15)\n",
            "Requirement already satisfied: python-dateutil>=2.8.0 in /usr/local/lib/python3.10/dist-packages (from qiskit-ibmq-provider==0.20.2->qiskit) (2.8.2)\n",
            "Requirement already satisfied: websocket-client>=1.5.1 in /usr/local/lib/python3.10/dist-packages (from qiskit-ibmq-provider==0.20.2->qiskit) (1.5.1)\n",
            "Collecting websockets>=10.0 (from qiskit-ibmq-provider==0.20.2->qiskit)\n",
            "  Downloading websockets-11.0.3-cp310-cp310-manylinux_2_5_x86_64.manylinux1_x86_64.manylinux_2_17_x86_64.manylinux2014_x86_64.whl (129 kB)\n",
            "\u001b[2K     \u001b[90m━━━━━━━━━━━━━━━━━━━━━━━━━━━━━━━━━━━━━━\u001b[0m \u001b[32m129.9/129.9 kB\u001b[0m \u001b[31m12.0 MB/s\u001b[0m eta \u001b[36m0:00:00\u001b[0m\n",
            "\u001b[?25hCollecting rustworkx>=0.12.0 (from qiskit-terra==0.24.1->qiskit)\n",
            "  Downloading rustworkx-0.13.0-cp310-cp310-manylinux_2_17_x86_64.manylinux2014_x86_64.whl (1.9 MB)\n",
            "\u001b[2K     \u001b[90m━━━━━━━━━━━━━━━━━━━━━━━━━━━━━━━━━━━━━━━━\u001b[0m \u001b[32m1.9/1.9 MB\u001b[0m \u001b[31m75.4 MB/s\u001b[0m eta \u001b[36m0:00:00\u001b[0m\n",
            "\u001b[?25hCollecting ply>=3.10 (from qiskit-terra==0.24.1->qiskit)\n",
            "  Downloading ply-3.11-py2.py3-none-any.whl (49 kB)\n",
            "\u001b[2K     \u001b[90m━━━━━━━━━━━━━━━━━━━━━━━━━━━━━━━━━━━━━━━━\u001b[0m \u001b[32m49.6/49.6 kB\u001b[0m \u001b[31m5.4 MB/s\u001b[0m eta \u001b[36m0:00:00\u001b[0m\n",
            "\u001b[?25hRequirement already satisfied: psutil>=5 in /usr/local/lib/python3.10/dist-packages (from qiskit-terra==0.24.1->qiskit) (5.9.5)\n",
            "Requirement already satisfied: sympy>=1.3 in /usr/local/lib/python3.10/dist-packages (from qiskit-terra==0.24.1->qiskit) (1.11.1)\n",
            "Collecting dill>=0.3 (from qiskit-terra==0.24.1->qiskit)\n",
            "  Downloading dill-0.3.6-py3-none-any.whl (110 kB)\n",
            "\u001b[2K     \u001b[90m━━━━━━━━━━━━━━━━━━━━━━━━━━━━━━━━━━━━━━\u001b[0m \u001b[32m110.5/110.5 kB\u001b[0m \u001b[31m13.5 MB/s\u001b[0m eta \u001b[36m0:00:00\u001b[0m\n",
            "\u001b[?25hCollecting stevedore>=3.0.0 (from qiskit-terra==0.24.1->qiskit)\n",
            "  Downloading stevedore-5.1.0-py3-none-any.whl (49 kB)\n",
            "\u001b[2K     \u001b[90m━━━━━━━━━━━━━━━━━━━━━━━━━━━━━━━━━━━━━━━━\u001b[0m \u001b[32m49.6/49.6 kB\u001b[0m \u001b[31m4.5 MB/s\u001b[0m eta \u001b[36m0:00:00\u001b[0m\n",
            "\u001b[?25hCollecting symengine<0.10,>=0.9 (from qiskit-terra==0.24.1->qiskit)\n",
            "  Downloading symengine-0.9.2-cp310-cp310-manylinux2010_x86_64.whl (37.5 MB)\n",
            "\u001b[2K     \u001b[90m━━━━━━━━━━━━━━━━━━━━━━━━━━━━━━━━━━━━━━━━\u001b[0m \u001b[32m37.5/37.5 MB\u001b[0m \u001b[31m21.8 MB/s\u001b[0m eta \u001b[36m0:00:00\u001b[0m\n",
            "\u001b[?25hRequirement already satisfied: six>=1.5 in /usr/local/lib/python3.10/dist-packages (from python-dateutil>=2.8.0->qiskit-ibmq-provider==0.20.2->qiskit) (1.16.0)\n",
            "Requirement already satisfied: certifi>=2017.4.17 in /usr/local/lib/python3.10/dist-packages (from requests>=2.19->qiskit-ibmq-provider==0.20.2->qiskit) (2022.12.7)\n",
            "Requirement already satisfied: charset-normalizer~=2.0.0 in /usr/local/lib/python3.10/dist-packages (from requests>=2.19->qiskit-ibmq-provider==0.20.2->qiskit) (2.0.12)\n",
            "Requirement already satisfied: idna<4,>=2.5 in /usr/local/lib/python3.10/dist-packages (from requests>=2.19->qiskit-ibmq-provider==0.20.2->qiskit) (3.4)\n",
            "Collecting ntlm-auth>=1.0.2 (from requests-ntlm<=1.1.0->qiskit-ibmq-provider==0.20.2->qiskit)\n",
            "  Downloading ntlm_auth-1.5.0-py2.py3-none-any.whl (29 kB)\n",
            "Requirement already satisfied: cryptography>=1.3 in /usr/local/lib/python3.10/dist-packages (from requests-ntlm<=1.1.0->qiskit-ibmq-provider==0.20.2->qiskit) (40.0.2)\n",
            "Collecting pbr!=2.1.0,>=2.0.0 (from stevedore>=3.0.0->qiskit-terra==0.24.1->qiskit)\n",
            "  Downloading pbr-5.11.1-py2.py3-none-any.whl (112 kB)\n",
            "\u001b[2K     \u001b[90m━━━━━━━━━━━━━━━━━━━━━━━━━━━━━━━━━━━━━━\u001b[0m \u001b[32m112.7/112.7 kB\u001b[0m \u001b[31m12.9 MB/s\u001b[0m eta \u001b[36m0:00:00\u001b[0m\n",
            "\u001b[?25hRequirement already satisfied: mpmath>=0.19 in /usr/local/lib/python3.10/dist-packages (from sympy>=1.3->qiskit-terra==0.24.1->qiskit) (1.3.0)\n",
            "Requirement already satisfied: cffi>=1.12 in /usr/local/lib/python3.10/dist-packages (from cryptography>=1.3->requests-ntlm<=1.1.0->qiskit-ibmq-provider==0.20.2->qiskit) (1.15.1)\n",
            "Requirement already satisfied: pycparser in /usr/local/lib/python3.10/dist-packages (from cffi>=1.12->cryptography>=1.3->requests-ntlm<=1.1.0->qiskit-ibmq-provider==0.20.2->qiskit) (2.21)\n",
            "Building wheels for collected packages: qiskit\n",
            "  Building wheel for qiskit (pyproject.toml) ... \u001b[?25l\u001b[?25hdone\n",
            "  Created wheel for qiskit: filename=qiskit-0.43.1-py3-none-any.whl size=8029 sha256=83b4a6017eb9b97fa7729107394df2799597c2133de0d1674514af27a683203a\n",
            "  Stored in directory: /root/.cache/pip/wheels/f1/f6/ad/0f2527d2cc0028cd682619f1b50a24476fd3592e0c63f87282\n",
            "Successfully built qiskit\n",
            "Installing collected packages: ply, websockets, symengine, rustworkx, pbr, ntlm-auth, dill, stevedore, requests-ntlm, qiskit-terra, qiskit-ibmq-provider, qiskit-aer, qiskit\n",
            "Successfully installed dill-0.3.6 ntlm-auth-1.5.0 pbr-5.11.1 ply-3.11 qiskit-0.43.1 qiskit-aer-0.12.0 qiskit-ibmq-provider-0.20.2 qiskit-terra-0.24.1 requests-ntlm-1.1.0 rustworkx-0.13.0 stevedore-5.1.0 symengine-0.9.2 websockets-11.0.3\n"
          ]
        }
      ]
    },
    {
      "cell_type": "markdown",
      "source": [
        "## loading necessary libraries"
      ],
      "metadata": {
        "id": "IPRVQYBNTx8w"
      },
      "id": "IPRVQYBNTx8w"
    },
    {
      "cell_type": "code",
      "source": [
        "from qiskit import QuantumCircuit, QuantumRegister, execute, transpile\n",
        "from qiskit.providers.aer import AerSimulator\n",
        "from qiskit.providers.aer.noise import NoiseModel, pauli_error, ReadoutError, thermal_relaxation_error, depolarizing_error\n",
        "from qiskit.quantum_info import Statevector, DensityMatrix\n",
        "\n",
        "import numpy as np\n",
        "import networkx as nx\n",
        "import matplotlib.pyplot as plt\n",
        "import time"
      ],
      "metadata": {
        "id": "dlRKQIAC6D00"
      },
      "id": "dlRKQIAC6D00",
      "execution_count": 2,
      "outputs": []
    },
    {
      "cell_type": "markdown",
      "source": [
        "## noise models:"
      ],
      "metadata": {
        "id": "kZZELK6X0Djw"
      },
      "id": "kZZELK6X0Djw"
    },
    {
      "cell_type": "markdown",
      "source": [
        "### IonQ's Aria specifications:\n",
        "depolarizing error probability is probabilities adjusted from thermal noise infidelity: $p = e^{-t/T_2}$ with gate time for $t$"
      ],
      "metadata": {
        "id": "uPdo4AqbiLkw"
      },
      "id": "uPdo4AqbiLkw"
    },
    {
      "cell_type": "code",
      "source": [
        "# error probabilities\n",
        "p_meas = 3.9e-3\n",
        "p_reset = 3.9e-3\n",
        "p_gate1 = 6e-4\n",
        "p_gate2 = 6e-3\n",
        "\n",
        "# thermal relaxation error (nanosecond time)\n",
        "T1s = np.random.choice(range(10, 100), 10, replace=False) # consider adjusting range to be more reasonable\n",
        "T2 = 1e9\n",
        "\n",
        "time_meas = np.random.choice(range(600, 700), 10, replace=False)\n",
        "time_u1 = 0 # virtual gate\n",
        "time_gate1 = 135e3 # u1 and u2\n",
        "time_gate2 = 600e3 # 2 qubit gate\n",
        "\n",
        "# thermal relaxation error\n",
        "ther_u1  = [thermal_relaxation_error(t1 * 1e9, T2, time_u1)\n",
        "              for t1 in T1s]\n",
        "ther_gate1  = [thermal_relaxation_error(t1 * 1e9, T2, time_gate1)\n",
        "              for t1 in T1s]\n",
        "ther_gate2 = [[thermal_relaxation_error(t1a * 1e9, T2, time_gate2).expand(\n",
        "             thermal_relaxation_error(t1b * 1e9, T2, time_gate2))\n",
        "              for t1a in T1s]\n",
        "               for t1b in T1s]\n",
        "\n",
        "# depolarizing error\n",
        "dep_reset = depolarizing_error(p_reset, 1)\n",
        "dep_gate1 = depolarizing_error(p_gate1 - 1.34990888e-4, 1)\n",
        "dep_gate2 = depolarizing_error(p_gate2 - 5.99820036e-4, 2)\n",
        "\n",
        "# readout error\n",
        "er_meas = ReadoutError([[1 - p_meas, p_meas], [p_meas, 1 - p_meas]])\n",
        "\n",
        "# creating the noise model\n",
        "fake_aria = NoiseModel()\n",
        "\n",
        "for j in range(10):\n",
        "    fake_aria.add_quantum_error(ther_u1[j].compose(dep_gate1), \"u1\", [j])\n",
        "    fake_aria.add_quantum_error(ther_gate1[j].compose(dep_gate1), \"u2\", [j])\n",
        "    fake_aria.add_quantum_error(ther_gate1[j].compose(dep_gate1), \"u3\", [j])\n",
        "    for k in range(10):\n",
        "        fake_aria.add_quantum_error(ther_gate2[j][k].compose(dep_gate2), \"cx\", [j, k])\n",
        "fake_aria.add_all_qubit_quantum_error(dep_reset, \"reset\")\n",
        "fake_aria.add_all_qubit_readout_error(er_meas)"
      ],
      "metadata": {
        "id": "zTeDgrXH0Dq1"
      },
      "id": "zTeDgrXH0Dq1",
      "execution_count": 3,
      "outputs": []
    },
    {
      "cell_type": "markdown",
      "source": [],
      "metadata": {
        "id": "-ae4ao1_iK16"
      },
      "id": "-ae4ao1_iK16"
    },
    {
      "cell_type": "markdown",
      "source": [
        "### IonQ's Harmony specifications:\n",
        "\n",
        "(it's basically all noise compared to Aria)"
      ],
      "metadata": {
        "id": "V-voj0syK7t6"
      },
      "id": "V-voj0syK7t6"
    },
    {
      "cell_type": "code",
      "source": [
        "h_p_meas = 1.8e-3\n",
        "h_p_reset = 1.8e-3\n",
        "h_p_gate1 = 4e-3\n",
        "h_p_gate2 = 2.7e-2\n",
        "\n",
        "# thermal relaxation error (nanosecond time)\n",
        "h_T1s = np.random.choice(range(10, 100), 10, replace=False) # consider adjusting range to be more reasonable\n",
        "h_T2 = 1e9\n",
        "\n",
        "h_time_meas = np.random.choice(range(600, 700), 10, replace=False) # assumed same as aria\n",
        "h_time_u1 = 0 # virtual gate?\n",
        "h_time_gate1 = 1e4 # u1 and u2\n",
        "h_time_gate2 = 2.1e5 # 2 qubit gate\n",
        "\n",
        "# thermal relaxation error\n",
        "h_ther_u1  = [thermal_relaxation_error(t1 * 1e9, h_T2, h_time_u1)\n",
        "              for t1 in h_T1s]\n",
        "h_ther_gate1  = [thermal_relaxation_error(t1 * 1e9, h_T2, h_time_gate1)\n",
        "              for t1 in h_T1s]\n",
        "h_ther_gate2 = [[thermal_relaxation_error(t1a * 1e9, h_T2, h_time_gate2).expand(\n",
        "             thermal_relaxation_error(t1b * 1e9, h_T2, h_time_gate2))\n",
        "              for t1a in h_T1s]\n",
        "               for t1b in h_T1s]\n",
        "\n",
        "# depolarizing error\n",
        "h_dep_reset = depolarizing_error(h_p_reset, 1)\n",
        "h_dep_gate1 = depolarizing_error(h_p_gate1 - 9.99995e-6, 1)\n",
        "h_dep_gate2 = depolarizing_error(h_p_gate2 - 2.09977952e-4, 2)\n",
        "\n",
        "# readout error\n",
        "h_er_meas = ReadoutError([[1 - p_meas, p_meas], [p_meas, 1 - p_meas]])\n",
        "\n",
        "fake_harmony = NoiseModel()\n",
        "\n",
        "for j in range(10):\n",
        "    fake_harmony.add_quantum_error(h_ther_u1[j].compose(h_dep_gate1), \"u1\", [j])\n",
        "    fake_harmony.add_quantum_error(h_ther_gate1[j].compose(h_dep_gate1), \"u2\", [j])\n",
        "    fake_harmony.add_quantum_error(h_ther_gate1[j].compose(h_dep_gate1), \"u3\", [j])\n",
        "    for k in range(10):\n",
        "        fake_harmony.add_quantum_error(h_ther_gate2[j][k].compose(h_dep_gate2), \"cx\", [j, k])\n",
        "fake_harmony.add_all_qubit_quantum_error(h_dep_reset, \"reset\")\n",
        "fake_harmony.add_all_qubit_readout_error(h_er_meas)"
      ],
      "metadata": {
        "id": "hW-zPO3mK5-d"
      },
      "id": "hW-zPO3mK5-d",
      "execution_count": 4,
      "outputs": []
    },
    {
      "cell_type": "markdown",
      "source": [
        "## miscellaneous"
      ],
      "metadata": {
        "id": "3Lt1OKYJ0OrK"
      },
      "id": "3Lt1OKYJ0OrK"
    },
    {
      "cell_type": "code",
      "source": [
        "#graph plotter\n",
        "def createGraph(GraphLaplacian: list[list[int]]):\n",
        "    Edges = []\n",
        "    for i, row in enumerate(GraphLaplacian):\n",
        "        for j, v in enumerate(row[:i]):\n",
        "            if v == - 1:\n",
        "                Edges.append([i, j])\n",
        "    Graph = nx.Graph()\n",
        "    Graph.add_edges_from(Edges)\n",
        "    nx.draw_networkx(Graph)"
      ],
      "metadata": {
        "id": "J5zjcjRb12hr"
      },
      "id": "J5zjcjRb12hr",
      "execution_count": 5,
      "outputs": []
    },
    {
      "cell_type": "markdown",
      "source": [
        "### Grover parameter finder: this optimizes `delta` $\\in (0, 1)$ so that the query complexity is minimal for a given pair of target probability and ratio, `P` and `Lambda`"
      ],
      "metadata": {
        "id": "4JOxrrxxqNcT"
      },
      "id": "4JOxrrxxqNcT"
    },
    {
      "cell_type": "code",
      "source": [
        "def Chebyshev(x: float, L:  float):\n",
        "    return np.cos(L * np.arccos(x)) if x <= 1 else np.cosh(L * np.arccosh(x))\n",
        "\n",
        "def GroverParameterOptimizer(P: float, Lambda: float, N: int):\n",
        "    step, L, p = pow(2, - N), 0, 0\n",
        "    done = False\n",
        "    while p < P:\n",
        "        L += 1\n",
        "        delta = step\n",
        "        l = int(np.ceil(np.arccosh(1 / delta) / np.arccosh(1 / np.sqrt(1 - Lambda)))) >> 1\n",
        "        while l > L:\n",
        "            delta += step\n",
        "            l = int(np.ceil(np.arccosh(1 / delta) / np.arccosh(1 / np.sqrt(1 - Lambda)))) >> 1\n",
        "        candidate = delta\n",
        "        while delta < 1:\n",
        "            p_new = 1 - pow(delta * Chebyshev(Chebyshev(1 / delta, 1 / (2 * l + 1)) * np.sqrt(1 - Lambda), 2 * l + 1), 2)\n",
        "            if p_new >= p:\n",
        "                p = p_new\n",
        "                candidate = delta\n",
        "            delta += step\n",
        "            l = int(np.ceil(np.arccosh(1 / delta) / np.arccosh(1 / np.sqrt(1 - Lambda)))) >> 1\n",
        "\n",
        "    delta = candidate\n",
        "    l = int(np.ceil(np.arccosh(1 / delta) / np.arccosh(1 / np.sqrt(1 - Lambda)))) >> 1\n",
        "    p = 1 - pow(delta * Chebyshev(Chebyshev(1 / delta, 1 / (2 * l + 1)) * np.sqrt(1 - Lambda), 2 * l + 1), 2)\n",
        "\n",
        "    return delta, l, p"
      ],
      "metadata": {
        "id": "mLZxhHb_0Oyl"
      },
      "id": "mLZxhHb_0Oyl",
      "execution_count": 6,
      "outputs": []
    },
    {
      "cell_type": "markdown",
      "metadata": {
        "id": "6df7161c"
      },
      "source": [
        "# Grover circuits"
      ],
      "id": "6df7161c"
    },
    {
      "cell_type": "markdown",
      "metadata": {
        "id": "993346e4"
      },
      "source": [
        "### Grover Fixed Point Search for gerenal Quadratic Binary Optimization problems"
      ],
      "id": "993346e4"
    },
    {
      "cell_type": "code",
      "execution_count": 133,
      "metadata": {
        "id": "7785745f"
      },
      "outputs": [],
      "source": [
        "def GroverForQUBO(QuadraticForm: list[list[int]], digits: int, y: int, delta: float, Lambda: float, noise: bool):\n",
        "\n",
        "    l = int(np.ceil(np.arccosh(1 / delta) / np.arccosh(1 / np.sqrt(1 - Lambda)))) >> 1\n",
        "    gamma = 1 / np.sqrt(1 - pow(np.cosh(np.arccosh(1 / delta) / (2 * l + 1)), - 2))\n",
        "    angles = [2 * np.arctan(gamma / np.tan(2 * np.pi * j / (2 * l + 1))) for j in range(1, l + 1)]\n",
        "\n",
        "    # one quantum register for each vertex\n",
        "    QRegX = QuantumRegister(len(QuadraticForm), \"x\")\n",
        "\n",
        "    # quantum registers to digitize cut values\n",
        "    QRegY = QuantumRegister(digits, \"y\")\n",
        "\n",
        "    QC = QuantumCircuit(QRegX, QRegY)\n",
        "\n",
        "    QC.h(QRegX)\n",
        "    QC.h(QRegY)\n",
        "\n",
        "    # adding y-1-(sum(Q)+trace(Q))/4 to the anicillas + moving phase here from QFT; this could have gone into HalfCostOracle, but this it's cheaper this way\n",
        "    theta = (y - 1/2 - (QuadraticForm.sum() + np.trace(QuadraticForm))/4) * np.pi\n",
        "    for i, q in enumerate(reversed(QRegY)):\n",
        "        QC.rz(theta - np.pi/2, q)\n",
        "        theta /= 2\n",
        "\n",
        "    for alpha, beta in zip(angles, reversed(angles)):\n",
        "\n",
        "        # S_t (beta)\n",
        "        for i, p in enumerate(QRegX):\n",
        "\n",
        "            if np.sum(QuadraticForm[i]) != 0:\n",
        "                theta = np.sum(QuadraticForm[i]) * np.pi\n",
        "                for q in reversed(QRegY):\n",
        "                    theta /= 2\n",
        "                    QC.rz(- theta, p)\n",
        "                    QC.cx(q, p)\n",
        "                    QC.rz(theta, p)\n",
        "                    QC.cx(q, p)\n",
        "\n",
        "            for j, r in enumerate(QRegX[i + 1:]):\n",
        "                if QuadraticForm[i][i + 1 + j] != 0:\n",
        "                    QC.cx(p, r)\n",
        "                    theta = QuadraticForm[i][i + 1 + j] * np.pi\n",
        "                    for q in reversed(QRegY):\n",
        "                        theta /= 2\n",
        "                        QC.rz(theta, r)\n",
        "                        QC.cx(q, r)\n",
        "                        QC.rz(- theta, r)\n",
        "                        QC.cx(q, r)\n",
        "                    QC.cx(p, r)\n",
        "\n",
        "        for i, q in enumerate(reversed(QRegY)):\n",
        "            theta = np.pi / 2\n",
        "            for r in QRegY[len(QRegY) - i:]:\n",
        "                theta /= 2\n",
        "                QC.cx(r, q)\n",
        "                QC.rz(theta, q)\n",
        "                QC.cx(r, q)\n",
        "            QC.h(q)\n",
        "\n",
        "        QC.rz(beta, QRegY[0])\n",
        "\n",
        "        for i, q in enumerate(QRegY):\n",
        "            QC.h(q)\n",
        "            theta = np.pi / 2\n",
        "            for r in QRegY[i+1:]:\n",
        "                theta /= 2\n",
        "                QC.cx(r, q)\n",
        "                QC.rz(- theta, q)\n",
        "                QC.cx(r, q)\n",
        "\n",
        "        for i, p in enumerate(reversed(QRegX)):\n",
        "\n",
        "            for j, r in enumerate(reversed(QRegX[len(QRegX) - i:])):\n",
        "                if QuadraticForm[- i - 1][- j - 1] != 0:\n",
        "                    QC.cx(p, r)\n",
        "                    theta = QuadraticForm[- i - 1][- j - 1] * np.pi\n",
        "                    for q in reversed(QRegY):\n",
        "                        theta /= 2\n",
        "                        QC.cx(q, r)\n",
        "                        QC.rz(theta, r)\n",
        "                        QC.cx(q, r)\n",
        "                        QC.rz(- theta, r)\n",
        "                    QC.cx(p, r)\n",
        "\n",
        "            if np.sum(QuadraticForm[- i - 1]) != 0:\n",
        "                theta = np.sum(QuadraticForm[- i - 1]) * np.pi\n",
        "                for q in reversed(QRegY):\n",
        "                    theta /= 2\n",
        "                    QC.cx(q, p)\n",
        "                    QC.rz(- theta, p)\n",
        "                    QC.cx(q, p)\n",
        "                    QC.rz(theta, p)\n",
        "\n",
        "        # S_s (alpha)\n",
        "        QC.h(QRegX)\n",
        "        QC.x(QRegX)\n",
        "        QC.mcp(alpha, QRegX[:-1], QRegX[-1])\n",
        "        QC.x(QRegX)\n",
        "        QC.h(QRegX)\n",
        "\n",
        "    if noise:\n",
        "        QC.save_density_matrix(qubits=QRegX,\n",
        "                               label=f\"rho\")\n",
        "        simulator = AerSimulator(method=\"density_matrix\",\n",
        "                                 #noise_model=fake_aria)\n",
        "                                 noise_model=fake_harmony)\n",
        "        QC = transpile(circuits=QC,\n",
        "                       backend=simulator,\n",
        "                       optimization_level=3)\n",
        "        psi = simulator.run(QC, shots=1).result().data()[\"rho\"].probabilities()\n",
        "    else:\n",
        "        QC.save_statevector()\n",
        "        simulator = AerSimulator(method=\"statevector\")\n",
        "        psi = Statevector(execute(QC, simulator).result().get_statevector()).probabilities(np.arange(len(QRegX)))\n",
        "\n",
        "    return psi"
      ],
      "id": "7785745f"
    },
    {
      "cell_type": "markdown",
      "metadata": {
        "id": "7ca40d78"
      },
      "source": [
        "# parameters & testing for MaxCut:"
      ],
      "id": "7ca40d78"
    },
    {
      "cell_type": "code",
      "execution_count": 134,
      "metadata": {
        "id": "149f166a",
        "scrolled": true,
        "colab": {
          "base_uri": "https://localhost:8080/",
          "height": 406
        },
        "outputId": "2e8f072f-f071-46a3-dd13-78b4266a5d84"
      },
      "outputs": [
        {
          "output_type": "display_data",
          "data": {
            "text/plain": [
              "<Figure size 640x480 with 1 Axes>"
            ],
            "image/png": "[encoded data removed]"
          },
          "metadata": {}
        }
      ],
      "source": [
        "# graph size\n",
        "NumberOfVerticies = 5 # must be <= 17 to fit in Aria\n",
        "edge_probability = 5e-1\n",
        "\n",
        "# random, connected graph\n",
        "disconnected = True\n",
        "while disconnected:\n",
        "    GraphLaplacian = np.zeros((NumberOfVerticies, NumberOfVerticies), dtype=int)\n",
        "    for i in range(NumberOfVerticies):\n",
        "        for j in range(i + 1, NumberOfVerticies):\n",
        "            if np.random.rand() < edge_probability:\n",
        "                GraphLaplacian[i][j] = GraphLaplacian[j][i] = - 1\n",
        "        GraphLaplacian[i][i] = - np.sum(GraphLaplacian[i])\n",
        "    disconnected = (NumberOfVerticies != np.linalg.matrix_rank(GraphLaplacian) + 1)\n",
        "\n",
        "NumberOfEdges = np.trace(GraphLaplacian) >> 1\n",
        "\n",
        "# Erdos-Edwards bound for connected graphs\n",
        "ErdosEdwards = (2 * NumberOfEdges + NumberOfVerticies - 1) >> 2\n",
        "\n",
        "createGraph(GraphLaplacian)\n",
        "\n",
        "# let's get rid of the vertex with the highest degree\n",
        "maxdeg = [0, 0]\n",
        "for i in range(NumberOfVerticies):\n",
        "    if GraphLaplacian[i][i] > maxdeg[1]:\n",
        "        maxdeg = [i, GraphLaplacian[i][i]]\n",
        "if maxdeg[0] + 1 != NumberOfVerticies:\n",
        "    GraphLaplacian[[maxdeg[0], -1], :] = GraphLaplacian[[-1, maxdeg[0]], :]\n",
        "    GraphLaplacian[:, [maxdeg[0], -1]] = GraphLaplacian[:, [-1, maxdeg[0]]]\n",
        "Q = GraphLaplacian[np.ix_(np.arange(NumberOfVerticies - 1), np.arange(NumberOfVerticies - 1))]\n",
        "\n",
        "\n",
        "# MaxCut and the cut-function\n",
        "MaxCut = ErdosEdwards\n",
        "cuts = {}\n",
        "for x in range(1 << (NumberOfVerticies - 1)):\n",
        "    conf = np.array([(x >> i)&1 for i in range(NumberOfVerticies - 1)])\n",
        "    cuts[x] = np.matmul(conf, np.matmul(Q, np.transpose(conf)))\n",
        "    if cuts[x] > MaxCut:\n",
        "        MaxCut = cuts[x]\n",
        "\n",
        "# cut disctibution and ratios\n",
        "appriximation_ratio, Lambda_a, Lambda_e = 0.9, 0, 0\n",
        "random_chance = {}\n",
        "for i in range(MaxCut + 1):\n",
        "    random_chance[i] = 0\n",
        "\n",
        "dp = pow(2, 1 - NumberOfVerticies)\n",
        "for x in range(1 << (NumberOfVerticies - 1)):\n",
        "    random_chance[cuts[x]] += dp\n",
        "    if cuts[x] >= ErdosEdwards:\n",
        "        Lambda_e += dp\n",
        "    if cuts[x] >= appriximation_ratio * MaxCut:\n",
        "        Lambda_a += dp\n",
        "\n",
        "#Lambda, y = Lambda_a, MaxCut*appriximation_ratio\n",
        "Lambda, y = Lambda_e, ErdosEdwards #for Erdős-Edwards\n",
        "\n",
        "m, sigma = np.trace(GraphLaplacian) / 4, 0\n",
        "for cut in random_chance:\n",
        "    sigma += pow(cut - m, 2) * random_chance[cut]\n",
        "\n",
        "sigma = np.sqrt(sigma)\n",
        "\n",
        "digits = 1 + int(np.ceil(np.log2(max(y, NumberOfEdges + 1 - y)))) if NumberOfVerticies > 2 else 2"
      ],
      "id": "149f166a"
    },
    {
      "cell_type": "code",
      "source": [
        "P = 0.9 # lower bound for the target probability\n",
        "delta, l, prob = GroverParameterOptimizer(P, Lambda, 10)\n",
        "print(f\"MaxCut\\ttarget cut\\tLambda\\ttarget probability\\tdelta\\tl\\tdigits\\n{MaxCut}\\t{y}\\t\\t{np.round(Lambda, 2)}\\t{prob:.2%}\\t\\t\\t{np.round(delta, 2)}\\t{l}\\t{digits}\")"
      ],
      "metadata": {
        "id": "LEwbShaA-Kfp",
        "colab": {
          "base_uri": "https://localhost:8080/"
        },
        "outputId": "8dbb3f86-46b1-4a80-92a3-f050b0621f46"
      },
      "id": "LEwbShaA-Kfp",
      "execution_count": 135,
      "outputs": [
        {
          "output_type": "stream",
          "name": "stdout",
          "text": [
            "MaxCut\ttarget cut\tLambda\ttarget probability\tdelta\tl\tdigits\n",
            "5\t3\t\t0.5\t100.00%\t\t\t0.27\t1\t3\n"
          ]
        }
      ]
    },
    {
      "cell_type": "markdown",
      "metadata": {
        "id": "02eec6db"
      },
      "source": [
        "### simulation:"
      ],
      "id": "02eec6db"
    },
    {
      "cell_type": "code",
      "execution_count": 139,
      "metadata": {
        "colab": {
          "base_uri": "https://localhost:8080/"
        },
        "id": "016ec09c",
        "outputId": "44a2fb85-e647-4432-ade3-240f3ca205dc"
      },
      "outputs": [
        {
          "output_type": "stream",
          "name": "stdout",
          "text": [
            "\n",
            "computation with Grover Fixed Point Search...\n",
            "\n",
            "done in 1.68 seconds\n",
            "\n"
          ]
        }
      ],
      "source": [
        "noise = True\n",
        "#noise = False\n",
        "\n",
        "print(f\"\\ncomputation with Grover Fixed Point Search...\\n\")\n",
        "start_time = time.time()\n",
        "psi = GroverForQUBO(Q, digits, y, delta, Lambda, noise)\n",
        "end_time = time.time()\n",
        "print(f\"done in {np.round(end_time - start_time, 2)} seconds\\n\")"
      ],
      "id": "016ec09c"
    },
    {
      "cell_type": "code",
      "source": [
        "s = f\"simulation with noise\\n\" if noise else f\"simulation without noise\\n\"\n",
        "s += f\"\\nthe graph:\\n----------\\nMaxCut\\t\\t\\t= {MaxCut}\\nnumber of edges\\t\\t= {NumberOfEdges}\\nErdős-Edwards bound\\t= {ErdosEdwards}\\ntarget cut\\t\\t= {y} ({y/MaxCut:.1%} of Maxcut)\\n\\nthe graph Laplacian:\\n--------------------\\n\\n\"\n",
        "for row in GraphLaplacian:\n",
        "    s += f\"{row.view()}\\n\"\n",
        "s += f\"\\nGrover parameters:\\n------------------\\nLambda\\t= {np.round(Lambda, 2)}\\ndelta\\t= {np.round(delta, 2)}\\nl\\t= {l}\\n\\nresults with Grover:\\n--------------------\\n\\n\"\n",
        "\n",
        "distribution = {}\n",
        "for i in range(MaxCut + 1):\n",
        "    distribution[i] = 0\n",
        "\n",
        "M = success = 0\n",
        "for x, p in enumerate(psi):\n",
        "    distribution[cuts[x]] += p\n",
        "    M += cuts[x] * p\n",
        "    if cuts[x] >= y:\n",
        "        success += p\n",
        "\n",
        "var = 0\n",
        "for cut in distribution:\n",
        "    var += pow(cut - M, 2) * distribution[cut]\n",
        "var = np.sqrt(var)\n",
        "\n",
        "sign_m = \"+\" if M >= m else \"-\"\n",
        "sign_sigma = \"+\" if var >= sigma else \"-\"\n",
        "\n",
        "difference = {}\n",
        "for cut in range(MaxCut + 1):\n",
        "    difference[cut] = distribution[cut] - random_chance[cut]\n",
        "\n",
        "s += f\"expectation\\t= {np.round(M, 2)}\\t({m} {sign_m} {np.round(abs(M - m), 2)})\\nvariance\\t= {np.round(var, 2)}\\t({np.round(sigma, 1)} {sign_sigma} {np.round(abs(var - sigma), 2)})\\n\\nsuccess probability = {success:.2%} (theoretical value = {prob:.2%}, random chance = {Lambda:.2%})\\n\"\n",
        "\n",
        "print(s)"
      ],
      "metadata": {
        "colab": {
          "base_uri": "https://localhost:8080/"
        },
        "id": "rNZDf4p-p3yI",
        "outputId": "ca95c4c2-e32e-4b8a-8ef9-7f48fb880978"
      },
      "id": "rNZDf4p-p3yI",
      "execution_count": 140,
      "outputs": [
        {
          "output_type": "stream",
          "name": "stdout",
          "text": [
            "simulation with noise\n",
            "\n",
            "the graph:\n",
            "----------\n",
            "MaxCut\t\t\t= 5\n",
            "number of edges\t\t= 5\n",
            "Erdős-Edwards bound\t= 3\n",
            "target cut\t\t= 3 (60.0% of Maxcut)\n",
            "\n",
            "the graph Laplacian:\n",
            "--------------------\n",
            "\n",
            "[ 1  0  0  0 -1]\n",
            "[ 0  2 -1 -1  0]\n",
            "[ 0 -1  2  0 -1]\n",
            "[ 0 -1  0  2 -1]\n",
            "[-1  0 -1 -1  3]\n",
            "\n",
            "Grover parameters:\n",
            "------------------\n",
            "Lambda\t= 0.5\n",
            "delta\t= 0.27\n",
            "l\t= 1\n",
            "\n",
            "results with Grover:\n",
            "--------------------\n",
            "\n",
            "expectation\t= 2.59\t(2.5 + 0.09)\n",
            "variance\t= 1.13\t(1.1 + 0.01)\n",
            "\n",
            "success probability = 54.76% (theoretical value = 100.00%, random chance = 50.00%)\n",
            "\n"
          ]
        }
      ]
    },
    {
      "cell_type": "code",
      "source": [
        "fig, axs = plt.subplots(1, 2)\n",
        "\n",
        "axs[0].bar(distribution.keys(),\n",
        "              distribution.values(),\n",
        "              width=0.5,\n",
        "              color=\"midnightblue\",\n",
        "              tick_label=[i for i in range(MaxCut + 1)])\n",
        "axs[0].set(xlabel=f\"after Grover\", ylabel=f\"probabilities\")\n",
        "\n",
        "axs[1].bar(distribution.keys(),\n",
        "              random_chance.values(),\n",
        "              width=0.5,\n",
        "              color=\"red\",\n",
        "              tick_label=[i for i in range(MaxCut + 1)])\n",
        "axs[1].set(xlabel=f\"before Grover\")\n",
        "\n",
        "plt.show()"
      ],
      "metadata": {
        "colab": {
          "base_uri": "https://localhost:8080/",
          "height": 449
        },
        "id": "ZIXBoQB_3z82",
        "outputId": "1ecfc67c-d916-4990-931f-961eeeeb9249"
      },
      "id": "ZIXBoQB_3z82",
      "execution_count": 21,
      "outputs": [
        {
          "output_type": "display_data",
          "data": {
            "text/plain": [
              "<Figure size 640x480 with 2 Axes>"
            ],
            "image/png": "[encoded data removed]"
          },
          "metadata": {}
        }
      ]
    },
    {
      "cell_type": "code",
      "source": [
        "plt.bar(difference.keys(),\n",
        "        difference.values(),\n",
        "        width=0.5,\n",
        "        color=\"green\",\n",
        "        tick_label=[i for i in range(MaxCut + 1)])\n",
        "plt.title(f\"cut distribution change\")\n",
        "plt.ylabel(f\"probabilities\")\n",
        "plt.show()"
      ],
      "metadata": {
        "id": "4HSl-4AU3Etl",
        "colab": {
          "base_uri": "https://localhost:8080/",
          "height": 452
        },
        "outputId": "422a42a3-fb4a-4aa0-ac54-db349897e1b7"
      },
      "id": "4HSl-4AU3Etl",
      "execution_count": null,
      "outputs": [
        {
          "output_type": "display_data",
          "data": {
            "text/plain": [
              "<Figure size 640x480 with 1 Axes>"
            ],
            "image/png": "[encoded data removed]"
          },
          "metadata": {}
        }
      ]
    },
    {
      "cell_type": "markdown",
      "source": [
        "## portfolio optimization"
      ],
      "metadata": {
        "id": "LquV_OpOCMbN"
      },
      "id": "LquV_OpOCMbN"
    },
    {
      "cell_type": "code",
      "source": [
        "Lambda = 0.56\n",
        "N = 12\n",
        "step = pow(2, - N)\n",
        "\n",
        "deltas = np.arange(step, 1 - step, step, dtype=float)\n",
        "P = np.zeros(len(deltas), dtype=float)\n",
        "\n",
        "simplicity = np.ones(len(deltas), dtype=float)\n",
        "treshold = 0.9 * np.ones(len(deltas), dtype=float)\n",
        "\n",
        "for i, delta in enumerate(deltas):\n",
        "    l = int(np.ceil(np.arccosh(1 / delta) / np.arccosh(1 / np.sqrt(1 - Lambda)))) >> 1\n",
        "    simplicity[i] = 1.1 if l == 0 else 1/l\n",
        "    P[i] = Lambda if l == 0 else 1 - pow(delta * Chebyshev(Chebyshev(1 / delta, 1 / (2 * l + 1)) * np.sqrt(1 - Lambda), 2 * l + 1), 2)\n",
        "\n",
        "plt.xlabel(f\"delta\")\n",
        "plt.plot(deltas,P)\n",
        "plt.plot(deltas,simplicity)\n",
        "plt.plot(deltas,treshold)\n",
        "plt.show()"
      ],
      "metadata": {
        "id": "4FttRkcfLI9z",
        "colab": {
          "base_uri": "https://localhost:8080/",
          "height": 449
        },
        "outputId": "a488b000-51ee-4de1-fe42-af9b9d79d38c"
      },
      "id": "4FttRkcfLI9z",
      "execution_count": null,
      "outputs": [
        {
          "output_type": "display_data",
          "data": {
            "text/plain": [
              "<Figure size 640x480 with 1 Axes>"
            ],
            "image/png": "[encoded data removed]"
          },
          "metadata": {}
        }
      ]
    },
    {
      "cell_type": "code",
      "source": [],
      "metadata": {
        "id": "KLvPDzoNXmQ0"
      },
      "id": "KLvPDzoNXmQ0",
      "execution_count": null,
      "outputs": []
    }
  ],
  "metadata": {
    "colab": {
      "provenance": [],
      "collapsed_sections": [
        "FTiJALVtnQIW",
        "IPRVQYBNTx8w",
        "kZZELK6X0Djw",
        "3Lt1OKYJ0OrK",
        "4JOxrrxxqNcT"
      ]
    },
    "kernelspec": {
      "display_name": "Python 3 (ipykernel)",
      "language": "python",
      "name": "python3"
    },
    "language_info": {
      "codemirror_mode": {
        "name": "ipython",
        "version": 3
      },
      "file_extension": ".py",
      "mimetype": "text/x-python",
      "name": "python",
      "nbconvert_exporter": "python",
      "pygments_lexer": "ipython3",
      "version": "3.11.3"
    }
  },
  "nbformat": 4,
  "nbformat_minor": 5
}