{
  "cells": [
    {
      "cell_type": "markdown",
      "source": [
        "# preparations"
      ],
      "metadata": {
        "id": "THzaoqHo13RE"
      },
      "id": "THzaoqHo13RE"
    },
    {
      "cell_type": "markdown",
      "source": [
        "## install Qiskit"
      ],
      "metadata": {
        "id": "FTiJALVtnQIW"
      },
      "id": "FTiJALVtnQIW"
    },
    {
      "cell_type": "code",
      "source": [
        "%pip install qiskit"
      ],
      "metadata": {
        "id": "asSgzYHnnT8E",
        "colab": {
          "base_uri": "https://localhost:8080/"
        },
        "outputId": "eb6fc578-79d0-4f83-f2ba-29d0674bf3e3"
      },
      "id": "asSgzYHnnT8E",
      "execution_count": null,
      "outputs": [
        {
          "output_type": "stream",
          "name": "stdout",
          "text": [
            "Looking in indexes: https://pypi.org/simple, https://us-python.pkg.dev/colab-wheels/public/simple/\n",
            "Requirement already satisfied: qiskit in /usr/local/lib/python3.10/dist-packages (0.43.1)\n",
            "Requirement already satisfied: qiskit-terra==0.24.1 in /usr/local/lib/python3.10/dist-packages (from qiskit) (0.24.1)\n",
            "Requirement already satisfied: qiskit-aer==0.12.0 in /usr/local/lib/python3.10/dist-packages (from qiskit) (0.12.0)\n",
            "Requirement already satisfied: qiskit-ibmq-provider==0.20.2 in /usr/local/lib/python3.10/dist-packages (from qiskit) (0.20.2)\n",
            "Requirement already satisfied: numpy>=1.16.3 in /usr/local/lib/python3.10/dist-packages (from qiskit-aer==0.12.0->qiskit) (1.22.4)\n",
            "Requirement already satisfied: scipy>=1.0 in /usr/local/lib/python3.10/dist-packages (from qiskit-aer==0.12.0->qiskit) (1.10.1)\n",
            "Requirement already satisfied: requests>=2.19 in /usr/local/lib/python3.10/dist-packages (from qiskit-ibmq-provider==0.20.2->qiskit) (2.27.1)\n",
            "Requirement already satisfied: requests-ntlm<=1.1.0 in /usr/local/lib/python3.10/dist-packages (from qiskit-ibmq-provider==0.20.2->qiskit) (1.1.0)\n",
            "Requirement already satisfied: urllib3>=1.21.1 in /usr/local/lib/python3.10/dist-packages (from qiskit-ibmq-provider==0.20.2->qiskit) (1.26.15)\n",
            "Requirement already satisfied: python-dateutil>=2.8.0 in /usr/local/lib/python3.10/dist-packages (from qiskit-ibmq-provider==0.20.2->qiskit) (2.8.2)\n",
            "Requirement already satisfied: websocket-client>=1.5.1 in /usr/local/lib/python3.10/dist-packages (from qiskit-ibmq-provider==0.20.2->qiskit) (1.5.1)\n",
            "Requirement already satisfied: websockets>=10.0 in /usr/local/lib/python3.10/dist-packages (from qiskit-ibmq-provider==0.20.2->qiskit) (11.0.3)\n",
            "Requirement already satisfied: rustworkx>=0.12.0 in /usr/local/lib/python3.10/dist-packages (from qiskit-terra==0.24.1->qiskit) (0.13.0)\n",
            "Requirement already satisfied: ply>=3.10 in /usr/local/lib/python3.10/dist-packages (from qiskit-terra==0.24.1->qiskit) (3.11)\n",
            "Requirement already satisfied: psutil>=5 in /usr/local/lib/python3.10/dist-packages (from qiskit-terra==0.24.1->qiskit) (5.9.5)\n",
            "Requirement already satisfied: sympy>=1.3 in /usr/local/lib/python3.10/dist-packages (from qiskit-terra==0.24.1->qiskit) (1.11.1)\n",
            "Requirement already satisfied: dill>=0.3 in /usr/local/lib/python3.10/dist-packages (from qiskit-terra==0.24.1->qiskit) (0.3.6)\n",
            "Requirement already satisfied: stevedore>=3.0.0 in /usr/local/lib/python3.10/dist-packages (from qiskit-terra==0.24.1->qiskit) (5.1.0)\n",
            "Requirement already satisfied: symengine<0.10,>=0.9 in /usr/local/lib/python3.10/dist-packages (from qiskit-terra==0.24.1->qiskit) (0.9.2)\n",
            "Requirement already satisfied: six>=1.5 in /usr/local/lib/python3.10/dist-packages (from python-dateutil>=2.8.0->qiskit-ibmq-provider==0.20.2->qiskit) (1.16.0)\n",
            "Requirement already satisfied: certifi>=2017.4.17 in /usr/local/lib/python3.10/dist-packages (from requests>=2.19->qiskit-ibmq-provider==0.20.2->qiskit) (2022.12.7)\n",
            "Requirement already satisfied: charset-normalizer~=2.0.0 in /usr/local/lib/python3.10/dist-packages (from requests>=2.19->qiskit-ibmq-provider==0.20.2->qiskit) (2.0.12)\n",
            "Requirement already satisfied: idna<4,>=2.5 in /usr/local/lib/python3.10/dist-packages (from requests>=2.19->qiskit-ibmq-provider==0.20.2->qiskit) (3.4)\n",
            "Requirement already satisfied: ntlm-auth>=1.0.2 in /usr/local/lib/python3.10/dist-packages (from requests-ntlm<=1.1.0->qiskit-ibmq-provider==0.20.2->qiskit) (1.5.0)\n",
            "Requirement already satisfied: cryptography>=1.3 in /usr/local/lib/python3.10/dist-packages (from requests-ntlm<=1.1.0->qiskit-ibmq-provider==0.20.2->qiskit) (40.0.2)\n",
            "Requirement already satisfied: pbr!=2.1.0,>=2.0.0 in /usr/local/lib/python3.10/dist-packages (from stevedore>=3.0.0->qiskit-terra==0.24.1->qiskit) (5.11.1)\n",
            "Requirement already satisfied: mpmath>=0.19 in /usr/local/lib/python3.10/dist-packages (from sympy>=1.3->qiskit-terra==0.24.1->qiskit) (1.3.0)\n",
            "Requirement already satisfied: cffi>=1.12 in /usr/local/lib/python3.10/dist-packages (from cryptography>=1.3->requests-ntlm<=1.1.0->qiskit-ibmq-provider==0.20.2->qiskit) (1.15.1)\n",
            "Requirement already satisfied: pycparser in /usr/local/lib/python3.10/dist-packages (from cffi>=1.12->cryptography>=1.3->requests-ntlm<=1.1.0->qiskit-ibmq-provider==0.20.2->qiskit) (2.21)\n"
          ]
        }
      ]
    },
    {
      "cell_type": "markdown",
      "source": [
        "## loading necessary libraries"
      ],
      "metadata": {
        "id": "IPRVQYBNTx8w"
      },
      "id": "IPRVQYBNTx8w"
    },
    {
      "cell_type": "code",
      "source": [
        "from qiskit import QuantumCircuit, QuantumRegister, execute, transpile\n",
        "from qiskit.providers.aer import AerSimulator\n",
        "from qiskit.providers.aer.noise import NoiseModel, pauli_error, ReadoutError, thermal_relaxation_error, depolarizing_error\n",
        "from qiskit.quantum_info import Statevector, DensityMatrix\n",
        "\n",
        "import numpy as np\n",
        "import networkx as nx\n",
        "import matplotlib.pyplot as plt\n",
        "import time"
      ],
      "metadata": {
        "id": "dlRKQIAC6D00"
      },
      "id": "dlRKQIAC6D00",
      "execution_count": null,
      "outputs": []
    },
    {
      "cell_type": "markdown",
      "source": [
        "## noise models:"
      ],
      "metadata": {
        "id": "kZZELK6X0Djw"
      },
      "id": "kZZELK6X0Djw"
    },
    {
      "cell_type": "markdown",
      "source": [
        "### IonQ's Aria specifications:\n",
        "depolarizing error probability is probabilities adjusted from thermal noise infidelity: $p = e^{-t/T_2}$ with gate time for $t$"
      ],
      "metadata": {
        "id": "uPdo4AqbiLkw"
      },
      "id": "uPdo4AqbiLkw"
    },
    {
      "cell_type": "code",
      "source": [
        "# error probabilities\n",
        "p_meas = 3.9e-3\n",
        "p_reset = 3.9e-3\n",
        "p_gate1 = 6e-4\n",
        "p_gate2 = 6e-3\n",
        "\n",
        "# thermal relaxation error (nanosecond time)\n",
        "T1s = np.random.choice(range(10, 100), 10, replace=False) # consider adjusting range to be more reasonable\n",
        "T2 = 1e9\n",
        "\n",
        "time_meas = np.random.choice(range(600, 700), 10, replace=False)\n",
        "time_u1 = 0 # virtual gate\n",
        "time_gate1 = 135e3 # u1 and u2\n",
        "time_gate2 = 600e3 # 2 qubit gate\n",
        "\n",
        "# thermal relaxation error\n",
        "ther_u1  = [thermal_relaxation_error(t1 * 1e9, T2, time_u1)\n",
        "              for t1 in T1s]\n",
        "ther_gate1  = [thermal_relaxation_error(t1 * 1e9, T2, time_gate1)\n",
        "              for t1 in T1s]\n",
        "ther_gate2 = [[thermal_relaxation_error(t1a * 1e9, T2, time_gate2).expand(\n",
        "             thermal_relaxation_error(t1b * 1e9, T2, time_gate2))\n",
        "              for t1a in T1s]\n",
        "               for t1b in T1s]\n",
        "\n",
        "# depolarizing error\n",
        "dep_reset = depolarizing_error(p_reset, 1)\n",
        "dep_gate1 = depolarizing_error(p_gate1 - 1.34990888e-4, 1)\n",
        "dep_gate2 = depolarizing_error(p_gate2 - 5.99820036e-4, 2)\n",
        "\n",
        "# readout error\n",
        "er_meas = ReadoutError([[1 - p_meas, p_meas], [p_meas, 1 - p_meas]])\n",
        "\n",
        "# creating the noise model\n",
        "fake_aria = NoiseModel()\n",
        "\n",
        "for j in range(10):\n",
        "    fake_aria.add_quantum_error(ther_u1[j].compose(dep_gate1), \"u1\", [j])\n",
        "    fake_aria.add_quantum_error(ther_gate1[j].compose(dep_gate1), \"u2\", [j])\n",
        "    fake_aria.add_quantum_error(ther_gate1[j].compose(dep_gate1), \"u3\", [j])\n",
        "    for k in range(10):\n",
        "        fake_aria.add_quantum_error(ther_gate2[j][k].compose(dep_gate2), \"cx\", [j, k])\n",
        "fake_aria.add_all_qubit_quantum_error(dep_reset, \"reset\")\n",
        "fake_aria.add_all_qubit_readout_error(er_meas)"
      ],
      "metadata": {
        "id": "zTeDgrXH0Dq1"
      },
      "id": "zTeDgrXH0Dq1",
      "execution_count": null,
      "outputs": []
    },
    {
      "cell_type": "markdown",
      "source": [],
      "metadata": {
        "id": "-ae4ao1_iK16"
      },
      "id": "-ae4ao1_iK16"
    },
    {
      "cell_type": "markdown",
      "source": [
        "### IonQ's Harmony specifications:\n",
        "\n",
        "(it's basically all noise compared to Aria)"
      ],
      "metadata": {
        "id": "V-voj0syK7t6"
      },
      "id": "V-voj0syK7t6"
    },
    {
      "cell_type": "code",
      "source": [
        "h_p_meas = 1.8e-3\n",
        "h_p_reset = 1.8e-3\n",
        "h_p_gate1 = 4e-3\n",
        "h_p_gate2 = 2.7e-2\n",
        "\n",
        "# thermal relaxation error (nanosecond time)\n",
        "h_T1s = np.random.choice(range(10, 100), 10, replace=False) # consider adjusting range to be more reasonable\n",
        "h_T2 = 1e9\n",
        "\n",
        "h_time_meas = np.random.choice(range(600, 700), 10, replace=False) # assumed same as aria\n",
        "h_time_u1 = 0 # virtual gate?\n",
        "h_time_gate1 = 1e4 # u1 and u2\n",
        "h_time_gate2 = 2.1e5 # 2 qubit gate\n",
        "\n",
        "# thermal relaxation error\n",
        "h_ther_u1  = [thermal_relaxation_error(t1 * 1e9, h_T2, h_time_u1)\n",
        "              for t1 in h_T1s]\n",
        "h_ther_gate1  = [thermal_relaxation_error(t1 * 1e9, h_T2, h_time_gate1)\n",
        "              for t1 in h_T1s]\n",
        "h_ther_gate2 = [[thermal_relaxation_error(t1a * 1e9, h_T2, h_time_gate2).expand(\n",
        "             thermal_relaxation_error(t1b * 1e9, h_T2, h_time_gate2))\n",
        "              for t1a in h_T1s]\n",
        "               for t1b in h_T1s]\n",
        "\n",
        "# depolarizing error\n",
        "h_dep_reset = depolarizing_error(h_p_reset, 1)\n",
        "h_dep_gate1 = depolarizing_error(h_p_gate1 - 9.99995e-6, 1)\n",
        "h_dep_gate2 = depolarizing_error(h_p_gate2 - 2.09977952e-4, 2)\n",
        "\n",
        "# readout error\n",
        "h_er_meas = ReadoutError([[1 - p_meas, p_meas], [p_meas, 1 - p_meas]])\n",
        "\n",
        "fake_harmony = NoiseModel()\n",
        "\n",
        "for j in range(10):\n",
        "    fake_harmony.add_quantum_error(h_ther_u1[j].compose(h_dep_gate1), \"u1\", [j])\n",
        "    fake_harmony.add_quantum_error(h_ther_gate1[j].compose(h_dep_gate1), \"u2\", [j])\n",
        "    fake_harmony.add_quantum_error(h_ther_gate1[j].compose(h_dep_gate1), \"u3\", [j])\n",
        "    for k in range(10):\n",
        "        fake_harmony.add_quantum_error(h_ther_gate2[j][k].compose(h_dep_gate2), \"cx\", [j, k])\n",
        "fake_harmony.add_all_qubit_quantum_error(h_dep_reset, \"reset\")\n",
        "fake_harmony.add_all_qubit_readout_error(h_er_meas)"
      ],
      "metadata": {
        "id": "hW-zPO3mK5-d"
      },
      "id": "hW-zPO3mK5-d",
      "execution_count": null,
      "outputs": []
    },
    {
      "cell_type": "markdown",
      "source": [
        "## miscellaneous"
      ],
      "metadata": {
        "id": "3Lt1OKYJ0OrK"
      },
      "id": "3Lt1OKYJ0OrK"
    },
    {
      "cell_type": "markdown",
      "source": [
        "### Grover parameter finder: this optimizes `delta` $\\in (0, 1)$ so that the query complexity is minimal for a given pair of target probability and ratio, `P` and `Lambda`\n",
        "\n",
        "note #1: for target probability $\\sim$ 90%, it helps as long as `Lambda` $\\gg$ `1e-4`\n",
        "\n",
        "note #2: there ought to be a simpler, analytic version of this"
      ],
      "metadata": {
        "id": "4JOxrrxxqNcT"
      },
      "id": "4JOxrrxxqNcT"
    },
    {
      "cell_type": "code",
      "source": [
        "def Chebyshev(x: float, L:  float):\n",
        "    return np.cos(L * np.arccos(x)) if x <= 1 else np.cosh(L * np.arccosh(x))\n",
        "\n",
        "def GroverParameterOptimizer(P: float, Lambda: float, N: int):\n",
        "    step, L, p = pow(2, - N), 0, 0\n",
        "    done = False\n",
        "    while p < P:\n",
        "        L += 1\n",
        "        delta = step\n",
        "        l = int(np.ceil(np.arccosh(1 / delta) / np.arccosh(1 / np.sqrt(1 - Lambda)))) >> 1\n",
        "        while l > L:\n",
        "            delta += step\n",
        "            l = int(np.ceil(np.arccosh(1 / delta) / np.arccosh(1 / np.sqrt(1 - Lambda)))) >> 1\n",
        "        candidate = delta\n",
        "        while delta < 1:\n",
        "            p_new = 1 - pow(delta * Chebyshev(Chebyshev(1 / delta, 1 / (2 * l + 1)) * np.sqrt(1 - Lambda), 2 * l + 1), 2)\n",
        "            if p_new >= p:\n",
        "                p = p_new\n",
        "                candidate = delta\n",
        "            delta += step\n",
        "            l = int(np.ceil(np.arccosh(1 / delta) / np.arccosh(1 / np.sqrt(1 - Lambda)))) >> 1\n",
        "\n",
        "    delta = candidate\n",
        "    l = int(np.ceil(np.arccosh(1 / delta) / np.arccosh(1 / np.sqrt(1 - Lambda)))) >> 1\n",
        "    p = 1 - pow(delta * Chebyshev(Chebyshev(1 / delta, 1 / (2 * l + 1)) * np.sqrt(1 - Lambda), 2 * l + 1), 2)\n",
        "\n",
        "    return delta, l, p"
      ],
      "metadata": {
        "id": "mLZxhHb_0Oyl"
      },
      "id": "mLZxhHb_0Oyl",
      "execution_count": null,
      "outputs": []
    },
    {
      "cell_type": "markdown",
      "source": [
        "### graph plotter"
      ],
      "metadata": {
        "id": "GplV2yT9M-0t"
      },
      "id": "GplV2yT9M-0t"
    },
    {
      "cell_type": "code",
      "source": [
        "def createGraph(GraphLaplacian: list[list[int]]):\n",
        "    Edges = []\n",
        "    for i, row in enumerate(GraphLaplacian):\n",
        "        for j, v in enumerate(row[:i]):\n",
        "            if v == - 1:\n",
        "                Edges.append([i, j])\n",
        "    Graph = nx.Graph()\n",
        "    Graph.add_edges_from(Edges)\n",
        "    nx.draw_networkx(Graph)"
      ],
      "metadata": {
        "id": "J5zjcjRb12hr"
      },
      "id": "J5zjcjRb12hr",
      "execution_count": null,
      "outputs": []
    },
    {
      "cell_type": "markdown",
      "metadata": {
        "id": "993346e4"
      },
      "source": [
        "# Grover Fixed Point Search for gerenal Quadratic Binary Optimization problems"
      ],
      "id": "993346e4"
    },
    {
      "cell_type": "code",
      "execution_count": null,
      "metadata": {
        "id": "7785745f"
      },
      "outputs": [],
      "source": [
        "def GroverForQUBO(QuadraticForm: list[list[int]], digits: int, threshold: int, delta: float, Lambda: float, noise: bool):\n",
        "\n",
        "    l = int(np.ceil(np.arccosh(1 / delta) / np.arccosh(1 / np.sqrt(1 - Lambda)))) >> 1\n",
        "    gamma = 1 / np.sqrt(1 - pow(np.cosh(np.arccosh(1 / delta) / (2 * l + 1)), - 2))\n",
        "    angles = [2 * np.arctan(gamma / np.tan(2 * np.pi * j / (2 * l + 1))) for j in range(1, l + 1)]\n",
        "\n",
        "    # one quantum register for each vertex\n",
        "    QRegX = QuantumRegister(len(QuadraticForm), \"x\")\n",
        "\n",
        "    # quantum registers to digitize cut values\n",
        "    QRegY = QuantumRegister(digits, \"y\")\n",
        "\n",
        "    QC = QuantumCircuit(QRegX, QRegY)\n",
        "\n",
        "    QC.h(QRegX[:] + QRegY[:])\n",
        "\n",
        "    # adding threshold-1-(sum(Q)+trace(Q))/4 to the anicillas + moving phase here from QFT; this could have gone into HalfCostOracle, but this it's cheaper this way\n",
        "    theta = (threshold - 1/2 - (QuadraticForm.sum() + np.trace(QuadraticForm))/4) * np.pi\n",
        "    for i, q in enumerate(reversed(QRegY)):\n",
        "        QC.rz(theta - np.pi/2, q)\n",
        "        theta /= 2\n",
        "\n",
        "    for alpha, beta in zip(angles, reversed(angles)):\n",
        "\n",
        "        # S_t (beta)\n",
        "        for i, p in enumerate(QRegX):\n",
        "\n",
        "            if np.sum(QuadraticForm[i]) != 0:\n",
        "                theta = np.sum(QuadraticForm[i]) * np.pi\n",
        "                for q in reversed(QRegY):\n",
        "                    theta /= 2\n",
        "                    QC.rz(- theta, p)\n",
        "                    QC.cx(q, p)\n",
        "                    QC.rz(theta, p)\n",
        "                    QC.cx(q, p)\n",
        "\n",
        "            for j, r in enumerate(QRegX[i + 1:]):\n",
        "                if QuadraticForm[i][i + 1 + j] != 0:\n",
        "                    QC.cx(p, r)\n",
        "                    theta = QuadraticForm[i][i + 1 + j] * np.pi\n",
        "                    for q in reversed(QRegY):\n",
        "                        theta /= 2\n",
        "                        QC.rz(theta, r)\n",
        "                        QC.cx(q, r)\n",
        "                        QC.rz(- theta, r)\n",
        "                        QC.cx(q, r)\n",
        "                    QC.cx(p, r)\n",
        "\n",
        "        for i, q in enumerate(reversed(QRegY)):\n",
        "            theta = np.pi / 2\n",
        "            for r in QRegY[len(QRegY) - i:]:\n",
        "                theta /= 2\n",
        "                QC.cx(r, q)\n",
        "                QC.rz(theta, q)\n",
        "                QC.cx(r, q)\n",
        "            QC.h(q)\n",
        "\n",
        "        QC.rz(beta, QRegY[0])\n",
        "\n",
        "        for i, q in enumerate(QRegY):\n",
        "            QC.h(q)\n",
        "            theta = np.pi / 2\n",
        "            for r in QRegY[i+1:]:\n",
        "                theta /= 2\n",
        "                QC.cx(r, q)\n",
        "                QC.rz(- theta, q)\n",
        "                QC.cx(r, q)\n",
        "\n",
        "        for i, p in enumerate(reversed(QRegX)):\n",
        "\n",
        "            for j, r in enumerate(reversed(QRegX[len(QRegX) - i:])):\n",
        "                if QuadraticForm[- i - 1][- j - 1] != 0:\n",
        "                    QC.cx(p, r)\n",
        "                    theta = QuadraticForm[- i - 1][- j - 1] * np.pi\n",
        "                    for q in reversed(QRegY):\n",
        "                        theta /= 2\n",
        "                        QC.cx(q, r)\n",
        "                        QC.rz(theta, r)\n",
        "                        QC.cx(q, r)\n",
        "                        QC.rz(- theta, r)\n",
        "                    QC.cx(p, r)\n",
        "\n",
        "            if np.sum(QuadraticForm[- i - 1]) != 0:\n",
        "                theta = np.sum(QuadraticForm[- i - 1]) * np.pi\n",
        "                for q in reversed(QRegY):\n",
        "                    theta /= 2\n",
        "                    QC.cx(q, p)\n",
        "                    QC.rz(- theta, p)\n",
        "                    QC.cx(q, p)\n",
        "                    QC.rz(theta, p)\n",
        "\n",
        "        # S_s (alpha)\n",
        "        QC.ry(np.pi/2, QRegX)\n",
        "        QC.mcp(alpha, QRegX[1:], QRegX[0])\n",
        "        QC.ry(- np.pi/2, QRegX)\n",
        "\n",
        "    if noise:\n",
        "        QC.save_density_matrix(qubits=QRegX,\n",
        "                               label=f\"rho\")\n",
        "        simulator = AerSimulator(method=\"density_matrix\",\n",
        "                                 noise_model=fake_aria)\n",
        "                                 #noise_model=fake_harmony)\n",
        "        QC = transpile(circuits=QC,\n",
        "                       backend=simulator,\n",
        "                       optimization_level=3)\n",
        "        psi = simulator.run(QC, shots=1).result().data()[\"rho\"].probabilities()\n",
        "    else:\n",
        "        QC.save_statevector()\n",
        "        simulator = AerSimulator(method=\"statevector\")\n",
        "        psi = Statevector(execute(QC, simulator).result().get_statevector()).probabilities(np.arange(len(QRegX)))\n",
        "\n",
        "    return psi"
      ],
      "id": "7785745f"
    },
    {
      "cell_type": "markdown",
      "metadata": {
        "id": "7ca40d78"
      },
      "source": [
        "# parameters & testing for MaxCut:"
      ],
      "id": "7ca40d78"
    },
    {
      "cell_type": "code",
      "execution_count": null,
      "metadata": {
        "id": "149f166a",
        "scrolled": true,
        "colab": {
          "base_uri": "https://localhost:8080/",
          "height": 406
        },
        "outputId": "f0e6ed25-9447-4f38-ecdc-c78f4f95e4ef"
      },
      "outputs": [
        {
          "output_type": "display_data",
          "data": {
            "text/plain": [
              "<Figure size 640x480 with 1 Axes>"
            ],
            "image/png": "[encoded data removed]"
          },
          "metadata": {}
        }
      ],
      "source": [
        "# graph size\n",
        "NumberOfVerticies = 5 # must be <= 17 to fit in Aria\n",
        "edge_probability = 5e-1\n",
        "\n",
        "# random, connected graph\n",
        "disconnected = True\n",
        "while disconnected:\n",
        "    GraphLaplacian = np.zeros((NumberOfVerticies, NumberOfVerticies), dtype=int)\n",
        "    for i in range(NumberOfVerticies):\n",
        "        for j in range(i + 1, NumberOfVerticies):\n",
        "            if np.random.rand() < edge_probability:\n",
        "                GraphLaplacian[i][j] = GraphLaplacian[j][i] = - 1\n",
        "        GraphLaplacian[i][i] = - np.sum(GraphLaplacian[i])\n",
        "    disconnected = (NumberOfVerticies != np.linalg.matrix_rank(GraphLaplacian) + 1)\n",
        "\n",
        "NumberOfEdges = np.trace(GraphLaplacian) >> 1\n",
        "\n",
        "# Erdos-Edwards bound for connected graphs\n",
        "threshold = ErdosEdwards = int(np.ceil((2 * NumberOfEdges + NumberOfVerticies - 1)/4))\n",
        "\n",
        "createGraph(GraphLaplacian)\n",
        "\n",
        "# let's get rid of the vertex with the highest degree\n",
        "maxdeg = [0, 0]\n",
        "for i in range(NumberOfVerticies):\n",
        "    if GraphLaplacian[i][i] > maxdeg[1]:\n",
        "        maxdeg = [i, GraphLaplacian[i][i]]\n",
        "if maxdeg[0] + 1 != NumberOfVerticies:\n",
        "    GraphLaplacian[[maxdeg[0], -1], :] = GraphLaplacian[[-1, maxdeg[0]], :]\n",
        "    GraphLaplacian[:, [maxdeg[0], -1]] = GraphLaplacian[:, [-1, maxdeg[0]]]\n",
        "\n",
        "Q = GraphLaplacian[np.ix_(np.arange(NumberOfVerticies - 1), np.arange(NumberOfVerticies - 1))]\n",
        "\n",
        "\n",
        "# cut-function and MaxCut\n",
        "cuts = {}\n",
        "for x in range(1 << (NumberOfVerticies - 1)):\n",
        "    conf = np.array([(x >> i)&1 for i in range(NumberOfVerticies - 1)])\n",
        "    cuts[x] = np.matmul(conf, np.matmul(Q, np.transpose(conf)))\n",
        "MaxCut = max(cuts.values())\n",
        "\n",
        "# cut disctibution and ratios\n",
        "random_chance, Lambda, dp = {i: 0 for i in range(MaxCut + 1)}, 0, pow(2, 1 - NumberOfVerticies)\n",
        "for x in range(1 << (NumberOfVerticies - 1)):\n",
        "    random_chance[cuts[x]] += dp\n",
        "    if cuts[x] >= ErdosEdwards:\n",
        "        Lambda += dp\n",
        "\n",
        "m, sigma = np.trace(GraphLaplacian) / 4, 0\n",
        "for cut in random_chance:\n",
        "    sigma += pow(cut - m, 2) * random_chance[cut]\n",
        "\n",
        "sigma = np.sqrt(sigma)\n",
        "\n",
        "digits = 1 + int(np.ceil(np.log2(max(ErdosEdwards, NumberOfEdges + 1 - ErdosEdwards)))) if NumberOfVerticies > 2 else 2"
      ],
      "id": "149f166a"
    },
    {
      "cell_type": "code",
      "source": [
        "P = 0.9 # lower bound for the target probability\n",
        "delta, l, prob = GroverParameterOptimizer(P, Lambda, 10)\n",
        "print(f\"MaxCut\\tthreshold\\tLambda\\ttarget probability\\tdelta\\tl\\tdigits\\n{MaxCut}\\t{threshold}\\t\\t{np.round(Lambda, 2)}\\t{prob:.2%}\\t\\t\\t{np.round(delta, 2)}\\t{l}\\t{digits}\")"
      ],
      "metadata": {
        "id": "LEwbShaA-Kfp",
        "colab": {
          "base_uri": "https://localhost:8080/"
        },
        "outputId": "aee4dab3-91a8-4ef8-d096-0bfc368cbf84"
      },
      "id": "LEwbShaA-Kfp",
      "execution_count": null,
      "outputs": [
        {
          "output_type": "stream",
          "name": "stdout",
          "text": [
            "MaxCut\tthreshold\tLambda\ttarget probability\tdelta\tl\tdigits\n",
            "5\t5\t\t0.25\t99.39%\t\t\t0.87\t1\t4\n"
          ]
        }
      ]
    },
    {
      "cell_type": "markdown",
      "metadata": {
        "id": "02eec6db"
      },
      "source": [
        "### simulation:"
      ],
      "id": "02eec6db"
    },
    {
      "cell_type": "code",
      "execution_count": null,
      "metadata": {
        "colab": {
          "base_uri": "https://localhost:8080/"
        },
        "id": "016ec09c",
        "outputId": "6c3b5d3a-e126-4350-e5e4-806cd32133d5"
      },
      "outputs": [
        {
          "output_type": "stream",
          "name": "stdout",
          "text": [
            "\n",
            "computation with Grover Fixed Point Search...\n",
            "\n",
            "done in 2.71 seconds\n",
            "\n"
          ]
        }
      ],
      "source": [
        "noise = True\n",
        "#noise = False\n",
        "\n",
        "print(f\"\\ncomputation with Grover Fixed Point Search...\\n\")\n",
        "start_time = time.time()\n",
        "psi = GroverForQUBO(Q, digits, threshold, delta, Lambda, noise)\n",
        "end_time = time.time()\n",
        "print(f\"done in {np.round(end_time - start_time, 2)} seconds\\n\")"
      ],
      "id": "016ec09c"
    },
    {
      "cell_type": "code",
      "source": [
        "s = f\"simulation with noise\\n\" if noise else f\"simulation without noise\\n\"\n",
        "s += f\"\\nthe graph:\\n----------\\nMaxCut\\t\\t\\t= {MaxCut}\\nnumber of edges\\t\\t= {NumberOfEdges}\\nErdős-Edwards bound\\t= {ErdosEdwards}\\nthreshold\\t\\t= {threshold} ({threshold/MaxCut:.1%} of Maxcut)\\n\\nthe graph Laplacian:\\n--------------------\\n\\n\"\n",
        "s += f\"\".join([f\"{row.view()}\\n\" for row in GraphLaplacian])\n",
        "s += f\"\\nGrover parameters:\\n------------------\\nLambda\\t= {np.round(Lambda, 2)}\\ndelta\\t= {np.round(delta, 2)}\\nl\\t= {l}\\n\\nresults with Grover:\\n--------------------\\n\\n\"\n",
        "distribution, success = {cut: np.sum([p if cuts[x] == cut else 0 for x, p in enumerate(psi)]) for cut in range(MaxCut + 1)}, np.sum([p if cuts[x] >= threshold else 0 for x, p in enumerate(psi)])\n",
        "M, var = np.sum([cut * distribution[cut] for cut in distribution]), np.sum([cut * cut * distribution[cut] for cut in distribution])\n",
        "var, difference, sign_m, sign_sigma = np.sqrt(var-M*M), {cut: distribution[cut] - random_chance[cut] for cut in range(MaxCut + 1)}, \"+\" if M >= m else \"-\", \"+\" if np.sqrt(var-M*M) >= sigma else \"-\"\n",
        "s += f\"expectation\\t= {np.round(M, 2)}\\t({m} {sign_m} {np.round(abs(M - m), 2)})\\nvariance\\t= {np.round(var, 2)}\\t({np.round(sigma, 1)} {sign_sigma} {np.round(abs(var - sigma), 2)})\\n\\nsuccess probability = {success:.2%} (theoretical value = {prob:.2%}, random chance = {Lambda:.2%})\\n\"\n",
        "print(s)"
      ],
      "metadata": {
        "colab": {
          "base_uri": "https://localhost:8080/"
        },
        "id": "rNZDf4p-p3yI",
        "outputId": "e2445592-a263-413f-b1de-5e308019650e"
      },
      "id": "rNZDf4p-p3yI",
      "execution_count": null,
      "outputs": [
        {
          "output_type": "stream",
          "name": "stdout",
          "text": [
            "simulation with noise\n",
            "\n",
            "the graph:\n",
            "----------\n",
            "MaxCut\t\t\t= 5\n",
            "number of edges\t\t= 7\n",
            "Erdős-Edwards bound\t= 5\n",
            "threshold\t\t= 5 (100.0% of Maxcut)\n",
            "\n",
            "the graph Laplacian:\n",
            "--------------------\n",
            "\n",
            "[ 2  0  0 -1 -1]\n",
            "[ 0  2 -1  0 -1]\n",
            "[ 0 -1  3 -1 -1]\n",
            "[-1  0 -1  3 -1]\n",
            "[-1 -1 -1 -1  4]\n",
            "\n",
            "Grover parameters:\n",
            "------------------\n",
            "Lambda\t= 0.25\n",
            "delta\t= 0.87\n",
            "l\t= 1\n",
            "\n",
            "results with Grover:\n",
            "--------------------\n",
            "\n",
            "expectation\t= 4.11\t(3.5 + 0.61)\n",
            "variance\t= 1.29\t(1.3 - 0.03)\n",
            "\n",
            "success probability = 57.20% (theoretical value = 99.39%, random chance = 25.00%)\n",
            "\n"
          ]
        }
      ]
    },
    {
      "cell_type": "code",
      "source": [
        "fig, axs = plt.subplots(1, 2)\n",
        "\n",
        "axs[0].bar(distribution.keys(),\n",
        "              distribution.values(),\n",
        "              width=0.5,\n",
        "              color=\"midnightblue\",\n",
        "              tick_label=[i for i in range(MaxCut + 1)])\n",
        "axs[0].set(xlabel=f\"after Grover\", ylabel=f\"probabilities\")\n",
        "\n",
        "axs[1].bar(distribution.keys(),\n",
        "              random_chance.values(),\n",
        "              width=0.5,\n",
        "              color=\"red\",\n",
        "              tick_label=[i for i in range(MaxCut + 1)])\n",
        "axs[1].set(xlabel=f\"before Grover\")\n",
        "\n",
        "plt.show()"
      ],
      "metadata": {
        "colab": {
          "base_uri": "https://localhost:8080/",
          "height": 449
        },
        "id": "ZIXBoQB_3z82",
        "outputId": "a4206379-6927-48e8-d698-06f00b5ba17a"
      },
      "id": "ZIXBoQB_3z82",
      "execution_count": null,
      "outputs": [
        {
          "output_type": "display_data",
          "data": {
            "text/plain": [
              "<Figure size 640x480 with 2 Axes>"
            ],
            "image/png": "[encoded data removed]"
          },
          "metadata": {}
        }
      ]
    },
    {
      "cell_type": "code",
      "source": [
        "plt.bar(difference.keys(),\n",
        "        difference.values(),\n",
        "        width=0.5,\n",
        "        color=\"green\",\n",
        "        tick_label=[i for i in range(MaxCut + 1)])\n",
        "plt.title(f\"cut distribution change\")\n",
        "plt.ylabel(f\"probabilities\")\n",
        "plt.show()"
      ],
      "metadata": {
        "id": "4HSl-4AU3Etl",
        "colab": {
          "base_uri": "https://localhost:8080/",
          "height": 452
        },
        "outputId": "bc9805a5-8fdf-41de-8eef-15b42ab53562"
      },
      "id": "4HSl-4AU3Etl",
      "execution_count": null,
      "outputs": [
        {
          "output_type": "display_data",
          "data": {
            "text/plain": [
              "<Figure size 640x480 with 1 Axes>"
            ],
            "image/png": "[encoded data removed]"
          },
          "metadata": {}
        }
      ]
    },
    {
      "cell_type": "markdown",
      "source": [
        "## portfolio optimization"
      ],
      "metadata": {
        "id": "LquV_OpOCMbN"
      },
      "id": "LquV_OpOCMbN"
    },
    {
      "cell_type": "code",
      "source": [
        "Lambda = 3.5e-1\n",
        "N = 12\n",
        "step = pow(2, - N)\n",
        "prob = 0.99\n",
        "\n",
        "deltas = np.arange(step, 1 - step, step, dtype=float)\n",
        "P = np.zeros(len(deltas), dtype=float)\n",
        "\n",
        "simplicity = np.ones(len(deltas), dtype=float)\n",
        "treshold = prob * np.ones(len(deltas), dtype=float)\n",
        "\n",
        "for i, delta in enumerate(deltas):\n",
        "    l = int(np.ceil(np.arccosh(1 / delta) / np.arccosh(1 / np.sqrt(1 - Lambda)))) >> 1\n",
        "    simplicity[i] = 1/(l+1)\n",
        "    P[i] = Lambda if l == 0 else 1 - pow(delta * Chebyshev(Chebyshev(1 / delta, 1 / (2 * l + 1)) * np.sqrt(1 - Lambda), 2 * l + 1), 2)\n",
        "\n",
        "plt.xlabel(f\"delta\")\n",
        "plt.plot(deltas,P)\n",
        "plt.plot(deltas,simplicity)\n",
        "plt.plot(deltas,treshold)\n",
        "l_Y = int(np.ceil(np.arccosh(1 / np.sqrt(1-prob)) / np.arccosh(1 / np.sqrt(1 - Lambda)))) >> 1\n",
        "delta_Y = np.sqrt(1-prob)\n",
        "plt.plot(delta_Y, 1 - pow(delta_Y * Chebyshev(Chebyshev(1 / delta_Y, 1 / (2 * l_Y + 1)) * np.sqrt(1 - Lambda), 2 * l_Y + 1), 2), \"ro\")\n",
        "plt.show()"
      ],
      "metadata": {
        "id": "4FttRkcfLI9z",
        "colab": {
          "base_uri": "https://localhost:8080/",
          "height": 449
        },
        "outputId": "c1a4e219-3805-4741-d614-66eceb660ab1"
      },
      "id": "4FttRkcfLI9z",
      "execution_count": null,
      "outputs": [
        {
          "output_type": "display_data",
          "data": {
            "text/plain": [
              "<Figure size 640x480 with 1 Axes>"
            ],
            "image/png": "[encoded data removed]"
          },
          "metadata": {}
        }
      ]
    },
    {
      "cell_type": "code",
      "source": [
        "Lambda = 1e-1\n",
        "N = 12\n",
        "step = pow(2, - N)\n",
        "prob = 0.9\n",
        "\n",
        "deltas = np.arange(step, 1 - step, step, dtype=float)\n",
        "P = np.zeros(len(deltas), dtype=float)\n",
        "\n",
        "simplicity = np.ones(len(deltas), dtype=float)\n",
        "treshold = prob * np.ones(len(deltas), dtype=float)\n",
        "\n",
        "for i, delta in enumerate(deltas):\n",
        "    l = int(np.ceil(np.arccosh(1 / delta) / np.arccosh(1 / np.sqrt(1 - Lambda)))) >> 1\n",
        "    simplicity[i] = 1/(l+1)\n",
        "    P[i] = Lambda if l == 0 else 1 - pow(delta * Chebyshev(Chebyshev(1 / delta, 1 / (2 * l + 1)) * np.sqrt(1 - Lambda), 2 * l + 1), 2)\n",
        "\n",
        "plt.xlabel(f\"delta\")\n",
        "plt.plot(deltas,P)\n",
        "plt.plot(deltas,simplicity)\n",
        "plt.plot(deltas,treshold)\n",
        "l_Y = int(np.ceil(np.arccosh(1 / np.sqrt(1-prob)) / np.arccosh(1 / np.sqrt(1 - Lambda)))) >> 1\n",
        "delta_Y = np.sqrt(1-prob)\n",
        "plt.plot(delta_Y, 1 - pow(delta_Y * Chebyshev(Chebyshev(1 / delta_Y, 1 / (2 * l_Y + 1)) * np.sqrt(1 - Lambda), 2 * l_Y + 1), 2), \"ro\")\n",
        "plt.show()"
      ],
      "metadata": {
        "id": "KLvPDzoNXmQ0",
        "colab": {
          "base_uri": "https://localhost:8080/",
          "height": 449
        },
        "outputId": "80dc2892-7cfa-49df-9a91-dc3eac9293ab"
      },
      "id": "KLvPDzoNXmQ0",
      "execution_count": null,
      "outputs": [
        {
          "output_type": "display_data",
          "data": {
            "text/plain": [
              "<Figure size 640x480 with 1 Axes>"
            ],
            "image/png": "[encoded data removed]"
          },
          "metadata": {}
        }
      ]
    },
    {
      "cell_type": "code",
      "source": [
        "Lambda = 1e-5\n",
        "N = 12\n",
        "step = pow(2, - N)\n",
        "prob = 0.95\n",
        "\n",
        "deltas = np.arange(step, 1 - step, step, dtype=float)\n",
        "P = np.zeros(len(deltas), dtype=float)\n",
        "\n",
        "simplicity = np.ones(len(deltas), dtype=float)\n",
        "treshold = prob * np.ones(len(deltas), dtype=float)\n",
        "\n",
        "for i, delta in enumerate(deltas):\n",
        "    l = int(np.ceil(np.arccosh(1 / delta) / np.arccosh(1 / np.sqrt(1 - Lambda)))) >> 1\n",
        "    simplicity[i] = 1/(l+1)\n",
        "    P[i] = Lambda if l == 0 else 1 - pow(delta * Chebyshev(Chebyshev(1 / delta, 1 / (2 * l + 1)) * np.sqrt(1 - Lambda), 2 * l + 1), 2)\n",
        "\n",
        "plt.xlabel(f\"delta\")\n",
        "plt.plot(deltas,P)\n",
        "plt.plot(deltas,simplicity)\n",
        "plt.plot(deltas,treshold)\n",
        "l_Y = int(np.ceil(np.arccosh(1 / np.sqrt(1-prob)) / np.arccosh(1 / np.sqrt(1 - Lambda)))) >> 1\n",
        "delta_Y = np.sqrt(1-prob)\n",
        "plt.plot(delta_Y, 1 - pow(delta_Y * Chebyshev(Chebyshev(1 / delta_Y, 1 / (2 * l_Y + 1)) * np.sqrt(1 - Lambda), 2 * l_Y + 1), 2), \"ro\")\n",
        "plt.show()"
      ],
      "metadata": {
        "colab": {
          "base_uri": "https://localhost:8080/",
          "height": 449
        },
        "id": "Q6n2QubrJ9zK",
        "outputId": "5fc32f76-385d-451d-aa13-9ab496d691f3"
      },
      "id": "Q6n2QubrJ9zK",
      "execution_count": null,
      "outputs": [
        {
          "output_type": "display_data",
          "data": {
            "text/plain": [
              "<Figure size 640x480 with 1 Axes>"
            ],
            "image/png": "[encoded data removed]"
          },
          "metadata": {}
        }
      ]
    },
    {
      "cell_type": "code",
      "source": [],
      "metadata": {
        "id": "j5WX122TKFGS"
      },
      "id": "j5WX122TKFGS",
      "execution_count": null,
      "outputs": []
    }
  ],
  "metadata": {
    "colab": {
      "provenance": [],
      "collapsed_sections": [
        "THzaoqHo13RE",
        "FTiJALVtnQIW",
        "IPRVQYBNTx8w",
        "kZZELK6X0Djw",
        "3Lt1OKYJ0OrK"
      ]
    },
    "kernelspec": {
      "display_name": "Python 3 (ipykernel)",
      "language": "python",
      "name": "python3"
    },
    "language_info": {
      "codemirror_mode": {
        "name": "ipython",
        "version": 3
      },
      "file_extension": ".py",
      "mimetype": "text/x-python",
      "name": "python",
      "nbconvert_exporter": "python",
      "pygments_lexer": "ipython3",
      "version": "3.11.3"
    }
  },
  "nbformat": 4,
  "nbformat_minor": 5
}