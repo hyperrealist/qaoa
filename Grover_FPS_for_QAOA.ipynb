{
 "cells": [
  {
   "cell_type": "code",
   "execution_count": 1,
   "id": "cd0b0630",
   "metadata": {},
   "outputs": [],
   "source": [
    "from qiskit import QuantumCircuit, QuantumRegister, ClassicalRegister, transpile\n",
    "from qiskit_aer import AerSimulator\n",
    "from qiskit_aer.noise import NoiseModel, pauli_error\n",
    "\n",
    "import numpy as np"
   ]
  },
  {
   "cell_type": "markdown",
   "id": "e0d0b205",
   "metadata": {},
   "source": [
    "#### this function builds a Quantum Fourier Transform gate\n",
    "(this should be double with a qiskit library too, but I couldn't convert later circuits to gate that way)"
   ]
  },
  {
   "cell_type": "code",
   "execution_count": 2,
   "id": "5890cf2e",
   "metadata": {},
   "outputs": [],
   "source": [
    "def QuantumFourierTransform(digits: int):\n",
    "    \n",
    "    QRegY = QuantumRegister(digits)\n",
    "    \n",
    "    QC = QuantumCircuit(QRegY)\n",
    "\n",
    "    for i in range(len(QRegY)):\n",
    "        QC.h(QRegY[i])\n",
    "\n",
    "        theta = np.pi / 2\n",
    "        for j in range(i + 1, len(QRegY)):\n",
    "            QC.cp(theta, QRegY[j], QRegY[i])\n",
    "            theta /= 2\n",
    "    \n",
    "    for i in range(digits >> 1):\n",
    "        QC.swap(QRegY[i],QRegY[- (i + 1)])\n",
    "    \n",
    "    return QC.to_gate()"
   ]
  },
  {
   "cell_type": "markdown",
   "id": "6df7161c",
   "metadata": {},
   "source": [
    "#### the following function builds a gate (oracle) that transforms $| x \\rangle | y \\rangle$ to $| x \\rangle | y - f(x) \\rangle$"
   ]
  },
  {
   "cell_type": "code",
   "execution_count": 3,
   "id": "a5526b40",
   "metadata": {},
   "outputs": [],
   "source": [
    "def EnergyOracle(GraphLaplacian: list[list[int]], digits: int):\n",
    "\n",
    "    QRegX = QuantumRegister(len(GraphLaplacian))\n",
    "    QRegY = QuantumRegister(digits)\n",
    "    \n",
    "    QFT = QuantumFourierTransform(digits)\n",
    "\n",
    "    QC = QuantumCircuit(QRegX, QRegY)\n",
    "    QC.append(QFT, QRegY)\n",
    "\n",
    "    # Phasers\n",
    "    for i in range(len(GraphLaplacian)):\n",
    "        theta = - GraphLaplacian[i][i] * np.pi\n",
    "        for j in range(len(QRegY)):\n",
    "            QC.cp(theta, QRegX[i], QRegY[j])\n",
    "            theta /= 2\n",
    "\n",
    "        for j in range(i + 1, len(GraphLaplacian[i])):\n",
    "            if GraphLaplacian[i][j] != 0:\n",
    "                theta = - 2 * GraphLaplacian[i][j] * np.pi\n",
    "                for k in range(len(QRegY)):\n",
    "                    QC.mcp(theta, [QRegX[i], QRegX[j]], QRegY[k])\n",
    "                    theta /= 2\n",
    "\n",
    "    QC.append(QFT.inverse(), QRegY)\n",
    "\n",
    "    return QC.to_gate()"
   ]
  },
  {
   "cell_type": "markdown",
   "id": "a748a38c",
   "metadata": {},
   "source": [
    "#### the following creates the Grover fixed point circuit, $S_L = G \\left( \\alpha_l, \\beta_l \\right) \\cdots G \\left( \\alpha_1, \\beta_1 \\right) H^{\\otimes n}$"
   ]
  },
  {
   "cell_type": "code",
   "execution_count": 4,
   "id": "1b82aef9",
   "metadata": {},
   "outputs": [],
   "source": [
    "def GroverFixedPointGate(GraphLaplacian: list[list[int]], digits: int, l: int, delta: float):\n",
    "\n",
    "    gamma = np.sqrt(1 - 1 / pow(np.cosh(np.arccosh(1 / delta) / (2 * l + 1)), 2))\n",
    "\n",
    "    alpha = [2 * np.arctan(1 / (gamma * np.tan(2 * np.pi * j / (2 * l + 1)))) for j in range(1, l + 1)]\n",
    "    \n",
    "    U_f = EnergyOracle(GraphLaplacian, digits)\n",
    "\n",
    "    QRegX = QuantumRegister(len(GraphLaplacian), \"x\")\n",
    "    QRegY = QuantumRegister(digits, \"y\")\n",
    "\n",
    "    QC = QuantumCircuit(QRegX, QRegY)\n",
    "\n",
    "    QC.h(QRegX)\n",
    "\n",
    "    for j in range(l):\n",
    "        # S_t (beta)\n",
    "        QC.append(U_f, QRegX[:] + QRegY[:])\n",
    "        QC.p(alpha[l - 1 - j], QRegY[0])\n",
    "        if i != l - 1: # the last one is not needed\n",
    "            QC.append(U_f.inverse(), QRegX[:] + QRegY[:])\n",
    "        \n",
    "        # S_s (alpha)\n",
    "        QC.h(QRegX)\n",
    "        QC.x(QRegX)\n",
    "        # can we improve on mcp???\n",
    "        QC.mcp(alpha[j], QRegX[:-1], QRegX[-1])\n",
    "        QC.x(QRegX)\n",
    "        QC.h(QRegX)\n",
    "\n",
    "    return QC.to_gate()"
   ]
  },
  {
   "cell_type": "markdown",
   "id": "993346e4",
   "metadata": {},
   "source": [
    "#### the following builds the circuit for the new QAOA"
   ]
  },
  {
   "cell_type": "code",
   "execution_count": 5,
   "id": "7785745f",
   "metadata": {},
   "outputs": [],
   "source": [
    "def GroverQAOACircuit(GraphLaplacian: list[list[int]], digits: int, y: int, delta: float, l: int, bangs: list[list[int]], ShotNumber: int):\n",
    "\n",
    "    # one quantum/classical register pair for each vertex\n",
    "    QRegX = QuantumRegister(len(GraphLaplacian), \"x\")\n",
    "    ClRegX = ClassicalRegister(len(GraphLaplacian), \"cl-x\")\n",
    "\n",
    "    # quantum registers to digitize y\n",
    "    QRegY = QuantumRegister(digits, \"y\")\n",
    "\n",
    "    QC = QuantumCircuit(QRegX, QRegY, ClRegX)\n",
    "\n",
    "    GroverMixer = GroverFixedPointGate(GraphLaplacian, digits, l, delta)\n",
    "    GroverMixer.label = \"GroverMixer\"\n",
    "    InverseGroverMixer = GroverMixer.inverse()\n",
    "    InverseGroverMixer.label = \"GroverMixerInverse\"\n",
    "\n",
    "    for i in range(len(QRegX)):\n",
    "        QC.initialize([1, 0], QRegX[i])\n",
    "\n",
    "    for i in range(len(QRegY)):\n",
    "        # y - 1 is used, so states with f(x) >= y are flagged\n",
    "        QC.initialize([1 - ((y - 1) >> (digits - i - 1))%2, ((y - 1) >> (digits - i - 1))%2], QRegY[i])\n",
    "\n",
    "    QC.append(GroverMixer, QRegX[:] + QRegY[:])\n",
    "\n",
    "    # the bangs / p = len(bangs) / going backward per convention\n",
    "    for k in range(len(bangs) - 1, - 1, - 1):\n",
    "\n",
    "        # this implements the phase-bang\n",
    "        for i in range(digits):\n",
    "            QC.p(bangs[k][1] * (1 << (digits - 1 - i)), QRegY[i])\n",
    "\n",
    "        # this is the Grover-bang\n",
    "        QC.append(InverseGroverMixer, QRegX[:] + QRegY[:])\n",
    "        QC.x(QRegX)\n",
    "        # can we improve on mcp???\n",
    "        QC.mcp(bangs[k][0], QRegX[:-1], QRegX[-1])\n",
    "        QC.x(QRegX)\n",
    "        QC.append(GroverMixer, QRegX[:] + QRegY[:])\n",
    "\n",
    "    QC.measure(QRegX, ClRegX)\n",
    "    \n",
    "    # error probabilities\n",
    "    p_reset = 0.03\n",
    "    p_meas = 0.1\n",
    "    p_gate1 = 0.05\n",
    "\n",
    "    # QuantumError objects (???)\n",
    "    error_reset = pauli_error([('X', p_reset), ('I', 1 - p_reset)])\n",
    "    error_meas = pauli_error([('X',p_meas), ('I', 1 - p_meas)])\n",
    "    error_gate1 = pauli_error([('X',p_gate1), ('I', 1 - p_gate1)])\n",
    "    error_gate2 = error_gate1.tensor(error_gate1)\n",
    "    \n",
    "    # errors to noise model\n",
    "    noise_bit_flip = NoiseModel()\n",
    "    noise_bit_flip.add_all_qubit_quantum_error(error_reset, \"reset\")\n",
    "    noise_bit_flip.add_all_qubit_quantum_error(error_meas, \"measure\")\n",
    "    noise_bit_flip.add_all_qubit_quantum_error(error_gate1, [\"u1\", \"u2\", \"u3\"])\n",
    "    noise_bit_flip.add_all_qubit_quantum_error(error_gate2, [\"cx\"])\n",
    "\n",
    "    # simulation\n",
    "    noisy_simulator = AerSimulator(noise_model=noise_bit_flip)\n",
    "    compiled_QC = transpile(QC, noisy_simulator)    \n",
    "    counts = noisy_simulator.run(compiled_QC, shots=ShotNumber).result().get_counts(compiled_QC)\n",
    "    \n",
    "    results = [[np.array([int(x) for x in s[::-1]]), 0, counts[s] * 100 / ShotNumber] for s in counts]\n",
    "    for c in results:\n",
    "        c[1] = np.matmul(c[0], np.matmul(GraphLaplacian, np.transpose(c[0])))\n",
    "\n",
    "    return results"
   ]
  },
  {
   "cell_type": "markdown",
   "id": "7364edf6",
   "metadata": {},
   "source": [
    "## TESTING:"
   ]
  },
  {
   "cell_type": "markdown",
   "id": "7ca40d78",
   "metadata": {},
   "source": [
    "### parameters"
   ]
  },
  {
   "cell_type": "code",
   "execution_count": 6,
   "id": "149f166a",
   "metadata": {
    "scrolled": true
   },
   "outputs": [
    {
     "name": "stdout",
     "output_type": "stream",
     "text": [
      "number of components = 1\n"
     ]
    }
   ],
   "source": [
    "# independent inputs\n",
    "NumberOfVerticies = 8\n",
    "RootLambda = 1/2 # ratio of good states to all states\n",
    "P_L = 0.9\n",
    "ShotNumber = 1\n",
    "BetaGrid = 3\n",
    "GammaGrid = 3\n",
    "\n",
    "# from the input we compute the following\n",
    "delta = np.sqrt(1 - P_L)\n",
    "l = int(np.ceil(np.arccosh(1 / delta) / np.arccosh(1 / np.sqrt(1 - RootLambda * RootLambda)))) >> 1\n",
    "\n",
    "# create large, random graph\n",
    "GraphLaplacian = np.zeros((NumberOfVerticies, NumberOfVerticies), dtype=int)\n",
    "for i in range(NumberOfVerticies):\n",
    "    for j in range(i + 1, NumberOfVerticies):\n",
    "        if np.random.randint(0, 2) == 1:\n",
    "            GraphLaplacian[i][j] = - 1\n",
    "            GraphLaplacian[j][i] = - 1\n",
    "    GraphLaplacian[i][i] = - np.sum(GraphLaplacian[i])\n",
    "\n",
    "           \n",
    "NumberOfEdges = np.trace(GraphLaplacian) >> 1\n",
    "\n",
    "NumberOfComponents = NumberOfVerticies - np.linalg.matrix_rank(GraphLaplacian)\n",
    "print(\"number of components =\",NumberOfComponents)\n",
    "\n",
    "y = (4 * NumberOfVerticies + int(np.sqrt(8 * NumberOfVerticies + 1) - 1)) // 8 if NumberOfComponents == 1 else (2 * NumberOfVerticies + NumberOfEdges - 1) // 4 # one less then the Erdos-Edwards bound\n",
    "digits = int(np.ceil(np.log2(NumberOfEdges))) + 1 # + 1 for the sign"
   ]
  },
  {
   "cell_type": "code",
   "execution_count": 13,
   "id": "fa61add2",
   "metadata": {},
   "outputs": [
    {
     "name": "stdout",
     "output_type": "stream",
     "text": [
      "the adjacency matrix:\n",
      "[[0 1 1 0 1 1 1 1]\n",
      " [1 0 0 0 0 0 1 0]\n",
      " [1 0 0 0 0 0 1 0]\n",
      " [0 0 0 0 1 1 0 1]\n",
      " [1 0 0 1 0 1 0 0]\n",
      " [1 0 0 1 1 0 0 1]\n",
      " [1 1 1 0 0 0 0 0]\n",
      " [1 0 0 1 0 1 0 0]]\n"
     ]
    },
    {
     "data": {
      "image/png": "[encoded data removed]",
      "text/plain": [
       "<Figure size 640x480 with 1 Axes>"
      ]
     },
     "metadata": {},
     "output_type": "display_data"
    }
   ],
   "source": [
    "import networkx as nx\n",
    "import matplotlib.pyplot as plt\n",
    "\n",
    "def createGraph(adjM):\n",
    "  edges=[]\n",
    "  noofvertices=len(adjM)\n",
    "  for mat in adjM:\n",
    "    if len(mat)>noofvertices or len(mat)<noofvertices:\n",
    "      print(\"False Adjacency Matrix\")\n",
    "      return 0\n",
    "  for i in range(len(adjM)):\n",
    "    mat=adjM[i]\n",
    "    for j in range(len(mat)):\n",
    "      if mat[j]==1:\n",
    "        temp=[i,j]\n",
    "        edges.append(temp)\n",
    "  G=nx.Graph()\n",
    "  G.add_edges_from(edges)\n",
    "  nx.draw_networkx(G)\n",
    "  plt.show()\n",
    "\n",
    "A = np.zeros((NumberOfVerticies, NumberOfVerticies), dtype=int)\n",
    "for i in range(NumberOfVerticies):\n",
    "    for j in range(i + 1, NumberOfVerticies):\n",
    "        A[i][j] = A[j][i] = - GraphLaplacian[i][j]\n",
    "\n",
    "print(\"the adjacency matrix:\")\n",
    "print(A.view())\n",
    "createGraph(A)"
   ]
  },
  {
   "cell_type": "markdown",
   "id": "02eec6db",
   "metadata": {},
   "source": [
    "### results: naive bang-bang optimization with $p = 1$"
   ]
  },
  {
   "cell_type": "code",
   "execution_count": null,
   "id": "016ec09c",
   "metadata": {},
   "outputs": [],
   "source": [
    "print(\"\\nthe graph Laplacian:\\n\")\n",
    "print(GraphLaplacian.view(),\"\\n\")\n",
    "print(\"number of components\\t=\",NumberOfComponents,\"\\n\")\n",
    "print(\"cut threshold\\t\\t=\",y)\n",
    "print(\"Grover query complexity\\t=\",l)\n",
    "print(\"square root of lambda\\t=\",RootLambda)\n",
    "print(\"P_L\\t\\t\\t=\",P_L * 100,\"%\")\n",
    "print(\"BetaGrid\\t\\t=\",BetaGrid)\n",
    "print(\"GammaGrid\\t\\t=\",GammaGrid,\"\\n\")\n",
    "\n",
    "x = []\n",
    "MaxCut = 0\n",
    "\n",
    "step = 0\n",
    "total_step = BetaGrid * GammaGrid\n",
    "\n",
    "for i in range(BetaGrid):\n",
    "    for j in range(GammaGrid):\n",
    "            counts = GroverQAOACircuit(GraphLaplacian, digits, y, delta, l, [[2 * np.pi * i / BetaGrid, np.pi * j / GammaGrid]], 1)\n",
    "            cut = np.matmul(counts[0][0], np.matmul(GraphLaplacian, np.transpose(counts[0][0])))\n",
    "            if cut >= MaxCut:\n",
    "                if cut > MaxCut:\n",
    "                    x = [[counts[0][0], [2 * np.pi * i / BetaGrid, np.pi * j / GammaGrid]]]\n",
    "                    MaxCut = cut\n",
    "                else:\n",
    "                    x.append([counts[0][0], [2 * np.pi * i / BetaGrid, np.pi * j / GammaGrid]])\n",
    "            step += 1\n",
    "            print(\"progess =\",str(int((step * 100) / total_step)) + \"%\")\n",
    "\n",
    "print(\"\\nMaxCut =\",MaxCut,\"\\n\")\n",
    "print(\"configurations:\\n\")\n",
    "for c in x:\n",
    "    print(\"x\\t=\",c[0].view(),\"\\nangles\\t=\",c[1],\"\\n\")\n",
    "print()"
   ]
  },
  {
   "cell_type": "code",
   "execution_count": null,
   "id": "db282c0e",
   "metadata": {},
   "outputs": [],
   "source": []
  }
 ],
 "metadata": {
  "kernelspec": {
   "display_name": "Python 3 (ipykernel)",
   "language": "python",
   "name": "python3"
  },
  "language_info": {
   "codemirror_mode": {
    "name": "ipython",
    "version": 3
   },
   "file_extension": ".py",
   "mimetype": "text/x-python",
   "name": "python",
   "nbconvert_exporter": "python",
   "pygments_lexer": "ipython3",
   "version": "3.11.3"
  }
 },
 "nbformat": 4,
 "nbformat_minor": 5
}
