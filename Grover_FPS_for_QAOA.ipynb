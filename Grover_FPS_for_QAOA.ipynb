{
  "cells": [
    {
      "cell_type": "code",
      "execution_count": 17,
      "id": "cd0b0630",
      "metadata": {
        "colab": {
          "base_uri": "https://localhost:8080/"
        },
        "id": "cd0b0630",
        "outputId": "0bc8532f-7fc5-4fa4-9723-97e47b599875"
      },
      "outputs": [
        {
          "output_type": "stream",
          "name": "stdout",
          "text": [
            "Looking in indexes: https://pypi.org/simple, https://us-python.pkg.dev/colab-wheels/public/simple/\n",
            "Requirement already satisfied: qiskit in /usr/local/lib/python3.10/dist-packages (0.43.0)\n",
            "Requirement already satisfied: qiskit-terra==0.24.0 in /usr/local/lib/python3.10/dist-packages (from qiskit) (0.24.0)\n",
            "Requirement already satisfied: qiskit-aer==0.12.0 in /usr/local/lib/python3.10/dist-packages (from qiskit) (0.12.0)\n",
            "Requirement already satisfied: qiskit-ibmq-provider==0.20.2 in /usr/local/lib/python3.10/dist-packages (from qiskit) (0.20.2)\n",
            "Requirement already satisfied: numpy>=1.16.3 in /usr/local/lib/python3.10/dist-packages (from qiskit-aer==0.12.0->qiskit) (1.22.4)\n",
            "Requirement already satisfied: scipy>=1.0 in /usr/local/lib/python3.10/dist-packages (from qiskit-aer==0.12.0->qiskit) (1.10.1)\n",
            "Requirement already satisfied: requests>=2.19 in /usr/local/lib/python3.10/dist-packages (from qiskit-ibmq-provider==0.20.2->qiskit) (2.27.1)\n",
            "Requirement already satisfied: requests-ntlm<=1.1.0 in /usr/local/lib/python3.10/dist-packages (from qiskit-ibmq-provider==0.20.2->qiskit) (1.1.0)\n",
            "Requirement already satisfied: urllib3>=1.21.1 in /usr/local/lib/python3.10/dist-packages (from qiskit-ibmq-provider==0.20.2->qiskit) (1.26.15)\n",
            "Requirement already satisfied: python-dateutil>=2.8.0 in /usr/local/lib/python3.10/dist-packages (from qiskit-ibmq-provider==0.20.2->qiskit) (2.8.2)\n",
            "Requirement already satisfied: websocket-client>=1.5.1 in /usr/local/lib/python3.10/dist-packages (from qiskit-ibmq-provider==0.20.2->qiskit) (1.5.1)\n",
            "Requirement already satisfied: websockets>=10.0 in /usr/local/lib/python3.10/dist-packages (from qiskit-ibmq-provider==0.20.2->qiskit) (11.0.3)\n",
            "Requirement already satisfied: rustworkx>=0.12.0 in /usr/local/lib/python3.10/dist-packages (from qiskit-terra==0.24.0->qiskit) (0.12.1)\n",
            "Requirement already satisfied: ply>=3.10 in /usr/local/lib/python3.10/dist-packages (from qiskit-terra==0.24.0->qiskit) (3.11)\n",
            "Requirement already satisfied: psutil>=5 in /usr/local/lib/python3.10/dist-packages (from qiskit-terra==0.24.0->qiskit) (5.9.5)\n",
            "Requirement already satisfied: sympy>=1.3 in /usr/local/lib/python3.10/dist-packages (from qiskit-terra==0.24.0->qiskit) (1.11.1)\n",
            "Requirement already satisfied: dill>=0.3 in /usr/local/lib/python3.10/dist-packages (from qiskit-terra==0.24.0->qiskit) (0.3.6)\n",
            "Requirement already satisfied: stevedore>=3.0.0 in /usr/local/lib/python3.10/dist-packages (from qiskit-terra==0.24.0->qiskit) (5.1.0)\n",
            "Requirement already satisfied: symengine<0.10,>=0.9 in /usr/local/lib/python3.10/dist-packages (from qiskit-terra==0.24.0->qiskit) (0.9.2)\n",
            "Requirement already satisfied: six>=1.5 in /usr/local/lib/python3.10/dist-packages (from python-dateutil>=2.8.0->qiskit-ibmq-provider==0.20.2->qiskit) (1.16.0)\n",
            "Requirement already satisfied: certifi>=2017.4.17 in /usr/local/lib/python3.10/dist-packages (from requests>=2.19->qiskit-ibmq-provider==0.20.2->qiskit) (2022.12.7)\n",
            "Requirement already satisfied: charset-normalizer~=2.0.0 in /usr/local/lib/python3.10/dist-packages (from requests>=2.19->qiskit-ibmq-provider==0.20.2->qiskit) (2.0.12)\n",
            "Requirement already satisfied: idna<4,>=2.5 in /usr/local/lib/python3.10/dist-packages (from requests>=2.19->qiskit-ibmq-provider==0.20.2->qiskit) (3.4)\n",
            "Requirement already satisfied: ntlm-auth>=1.0.2 in /usr/local/lib/python3.10/dist-packages (from requests-ntlm<=1.1.0->qiskit-ibmq-provider==0.20.2->qiskit) (1.5.0)\n",
            "Requirement already satisfied: cryptography>=1.3 in /usr/local/lib/python3.10/dist-packages (from requests-ntlm<=1.1.0->qiskit-ibmq-provider==0.20.2->qiskit) (40.0.2)\n",
            "Requirement already satisfied: pbr!=2.1.0,>=2.0.0 in /usr/local/lib/python3.10/dist-packages (from stevedore>=3.0.0->qiskit-terra==0.24.0->qiskit) (5.11.1)\n",
            "Requirement already satisfied: mpmath>=0.19 in /usr/local/lib/python3.10/dist-packages (from sympy>=1.3->qiskit-terra==0.24.0->qiskit) (1.3.0)\n",
            "Requirement already satisfied: cffi>=1.12 in /usr/local/lib/python3.10/dist-packages (from cryptography>=1.3->requests-ntlm<=1.1.0->qiskit-ibmq-provider==0.20.2->qiskit) (1.15.1)\n",
            "Requirement already satisfied: pycparser in /usr/local/lib/python3.10/dist-packages (from cffi>=1.12->cryptography>=1.3->requests-ntlm<=1.1.0->qiskit-ibmq-provider==0.20.2->qiskit) (2.21)\n"
          ]
        }
      ],
      "source": [
        "%pip install qiskit\n",
        "\n",
        "from qiskit import QuantumCircuit, QuantumRegister, ClassicalRegister, transpile, Aer\n",
        "from qiskit_aer import AerSimulator\n",
        "from qiskit_aer.noise import NoiseModel, pauli_error, ReadoutError, thermal_relaxation_error, depolarizing_error\n",
        "\n",
        "import numpy as np\n",
        "import random\n",
        "\n",
        "from multiprocessing import Pool\n",
        "import tqdm"
      ]
    },
    {
      "cell_type": "markdown",
      "id": "e0d0b205",
      "metadata": {
        "id": "e0d0b205"
      },
      "source": [
        "#### this function builds a Quantum Fourier Transform* gate\n",
        "\n",
        "*it's a modified version without swaps"
      ]
    },
    {
      "cell_type": "code",
      "execution_count": 2,
      "id": "5890cf2e",
      "metadata": {
        "id": "5890cf2e"
      },
      "outputs": [],
      "source": [
        "def QuantumFourierTransform(digits: int):\n",
        "    \n",
        "    QRegY = QuantumRegister(digits)\n",
        "    \n",
        "    QC = QuantumCircuit(QRegY)\n",
        "\n",
        "    for i, q in enumerate(QRegY):\n",
        "        QC.h(q)\n",
        "\n",
        "        theta = np.pi / 2\n",
        "        for r in QRegY[i + 1:]:\n",
        "            QC.cp(theta, r, q)\n",
        "            theta /= 2\n",
        "    \n",
        "    return QC.to_gate()"
      ]
    },
    {
      "cell_type": "markdown",
      "id": "6df7161c",
      "metadata": {
        "id": "6df7161c"
      },
      "source": [
        "#### the following function builds a oracle, $U_C$, such that $U_C | x \\rangle | y \\rangle = | x \\rangle | y - C (x) \\rangle$\n",
        "\n",
        "todo: we can probably save some circuit by removing the swap-gates in QFT and reshuffling gates here"
      ]
    },
    {
      "cell_type": "code",
      "execution_count": 3,
      "id": "a5526b40",
      "metadata": {
        "id": "a5526b40"
      },
      "outputs": [],
      "source": [
        "def EnergyOracle(GraphLaplacian: list[list[int]], digits: int):\n",
        "\n",
        "    QRegX = QuantumRegister(len(GraphLaplacian))\n",
        "    QRegY = QuantumRegister(digits)\n",
        "    \n",
        "    QC = QuantumCircuit(QRegX, QRegY)\n",
        "\n",
        "    QFT = QuantumFourierTransform(digits)\n",
        "    QC.append(QFT, QRegY)\n",
        "    \n",
        "    # Phasers\n",
        "    for i, v in enumerate(GraphLaplacian):\n",
        "        theta = - np.pi * v[i]\n",
        "        # QRegY is reversed below to save on swaps in QFT\n",
        "        for q in reversed(QRegY):\n",
        "            QC.cp(theta, QRegX[i], q)\n",
        "            theta /= 2\n",
        "\n",
        "        for j, w in enumerate(GraphLaplacian[i][i + 1:]):\n",
        "            if w != 0:\n",
        "                theta = - 2 * np.pi * w\n",
        "                # QRegY is reversed below to save on swaps in QFT\n",
        "                for q in reversed(QRegY):\n",
        "                    QC.mcp(theta, [QRegX[i], QRegX[i + 1 + j]], q)\n",
        "                    theta /= 2\n",
        "\n",
        "    QC.append(QFT.inverse(), QRegY)\n",
        "\n",
        "    return QC.to_gate()"
      ]
    },
    {
      "cell_type": "markdown",
      "id": "a748a38c",
      "metadata": {
        "id": "a748a38c"
      },
      "source": [
        "#### the following creates the Grover fixed point circuit, $S_L = G \\left( \\alpha_l, \\beta_l \\right) \\cdots G \\left( \\alpha_1, \\beta_1 \\right) H^{\\otimes n}$"
      ]
    },
    {
      "cell_type": "code",
      "execution_count": 4,
      "id": "1b82aef9",
      "metadata": {
        "id": "1b82aef9"
      },
      "outputs": [],
      "source": [
        "def GroverFixedPointGate(GraphLaplacian: list[list[int]], digits: int, l: int, delta: float):\n",
        "\n",
        "    L = 2*l + 1\n",
        "    gamma = np.sqrt(1 - 1 / pow(np.cosh(np.arccosh(1/delta) / L), 2))\n",
        "\n",
        "    alpha = [2 * np.arctan(1 / (gamma * np.tan(2 * np.pi * j / L))) for j in range(1, l + 1)]\n",
        "    \n",
        "    U_C = EnergyOracle(GraphLaplacian, digits)\n",
        "    U_C_inverse = U_C.inverse()\n",
        "\n",
        "    QRegX = QuantumRegister(len(GraphLaplacian), \"x\")\n",
        "    QRegY = QuantumRegister(digits, \"y\")\n",
        "\n",
        "    QC = QuantumCircuit(QRegX, QRegY)\n",
        "\n",
        "    QC.h(QRegX)\n",
        "\n",
        "    for i, (a, b) in enumerate(zip(alpha, reversed(alpha))):\n",
        "\n",
        "        # S_t (beta)\n",
        "        QC.append(U_C, QRegX[:] + QRegY[:])\n",
        "        QC.p(- b, QRegY[0])\n",
        "        if i != l - 1:\n",
        "            QC.append(U_C_inverse, QRegX[:] + QRegY[:])\n",
        "        \n",
        "        # S_s (alpha)\n",
        "        QC.h(QRegX)\n",
        "        QC.x(QRegX)\n",
        "        QC.mcp(a, QRegX[:-1], QRegX[-1])\n",
        "        QC.x(QRegX)\n",
        "        QC.h(QRegX)\n",
        "\n",
        "    return QC.to_gate()"
      ]
    },
    {
      "cell_type": "markdown",
      "source": [
        "### adding a noise model based on IonQ's Aria specifications:"
      ],
      "metadata": {
        "id": "zmdl1cBYwmN7"
      },
      "id": "zmdl1cBYwmN7"
    },
    {
      "cell_type": "code",
      "source": [
        "# error probabilities\n",
        "p_meas = 0.39/100\n",
        "p_reset = 0.39/100\n",
        "p_gate1 = 0.06/100\n",
        "p_gate2 = 0.6/100\n",
        "\n",
        "# thermal relaxation error (nanosecond time)\n",
        "T1s = random.sample(range(10, 100, 1), 10) # consider adjusting range to be more reasonable\n",
        "T2 = 1e9\n",
        "\n",
        "time_meas = random.sample(range(600, 700, 1), 10)\n",
        "time_u1 = 0 # virtual gate?\n",
        "time_gate1 = 135e3 # u1 and u2\n",
        "time_gate2 = 600e3 # 2 qubit gate"
      ],
      "metadata": {
        "id": "9feLiiF6wo8g"
      },
      "id": "9feLiiF6wo8g",
      "execution_count": 7,
      "outputs": []
    },
    {
      "cell_type": "markdown",
      "source": [
        "### depolarizing error probability is probabilities adjusted from thermal noise infidelity: $p = e^{-t/T_2}$ with gate time for t"
      ],
      "metadata": {
        "id": "Acf3DSPxxA4E"
      },
      "id": "Acf3DSPxxA4E"
    },
    {
      "cell_type": "code",
      "source": [
        "# thermal relaxation error\n",
        "ther_u1  = [thermal_relaxation_error(t1 * 1e9, T2, time_u1)\n",
        "              for t1 in T1s]\n",
        "ther_gate1  = [thermal_relaxation_error(t1 * 1e9, T2, time_gate1)\n",
        "              for t1 in T1s]\n",
        "ther_gate2 = [[thermal_relaxation_error(t1a * 1e9, T2, time_gate2).expand(\n",
        "             thermal_relaxation_error(t1b * 1e9, T2, time_gate2))\n",
        "              for t1a in T1s]\n",
        "               for t1b in T1s]\n",
        "\n",
        "# depolarizing error\n",
        "dep_reset = depolarizing_error(p_reset, 1)\n",
        "dep_gate1 = depolarizing_error(p_gate1 - 1.34990888e-4, 1)\n",
        "dep_gate2 = depolarizing_error(p_gate2 - 5.99820036e-4, 2)\n",
        "\n",
        "# readout error\n",
        "er_meas = ReadoutError([[1 - p_meas, p_meas], [p_meas, 1 - p_meas]])"
      ],
      "metadata": {
        "id": "xzG46sCLxD6p"
      },
      "id": "xzG46sCLxD6p",
      "execution_count": 8,
      "outputs": []
    },
    {
      "cell_type": "markdown",
      "source": [
        "### creating the noise model:"
      ],
      "metadata": {
        "id": "rbCsXI1YxI-p"
      },
      "id": "rbCsXI1YxI-p"
    },
    {
      "cell_type": "code",
      "source": [
        "fake_aria = NoiseModel()\n",
        "\n",
        "for j in range(10):\n",
        "    fake_aria.add_quantum_error(ther_u1[j].compose(dep_gate1), \"u1\", [j])\n",
        "    fake_aria.add_quantum_error(ther_gate1[j].compose(dep_gate1), \"u2\", [j])\n",
        "    fake_aria.add_quantum_error(ther_gate1[j].compose(dep_gate1), \"u3\", [j])\n",
        "    for k in range(10):\n",
        "        fake_aria.add_quantum_error(ther_gate2[j][k].compose(dep_gate2), \"cx\", [j, k])\n",
        "fake_aria.add_all_qubit_quantum_error(dep_reset, \"reset\")\n",
        "fake_aria.add_all_qubit_readout_error(er_meas)\n",
        "\n",
        "backend = AerSimulator(noise_model = fake_aria)"
      ],
      "metadata": {
        "id": "Bx1QoHxPxLdy"
      },
      "id": "Bx1QoHxPxLdy",
      "execution_count": 9,
      "outputs": []
    },
    {
      "cell_type": "markdown",
      "id": "993346e4",
      "metadata": {
        "id": "993346e4"
      },
      "source": [
        "#### the following builds the circuit for QAOA"
      ]
    },
    {
      "cell_type": "code",
      "execution_count": 10,
      "id": "7785745f",
      "metadata": {
        "id": "7785745f"
      },
      "outputs": [],
      "source": [
        "def GroverPlusQAOA(GraphLaplacian: list[list[int]], digits: int, y: int, delta: float, l: int, angles: list[list[int]], NumberOfShots: int):\n",
        "\n",
        "    # one quantum/classical register pair for each vertex\n",
        "    QRegX = QuantumRegister(len(GraphLaplacian), \"x\")\n",
        "    ClRegX = ClassicalRegister(len(GraphLaplacian), \"cl-x\")\n",
        "\n",
        "    # quantum registers to digitize y\n",
        "    QRegY = QuantumRegister(digits, \"y\")\n",
        "\n",
        "    QC = QuantumCircuit(QRegX, QRegY, ClRegX)\n",
        "\n",
        "    for q in QRegX:\n",
        "        QC.initialize([1, 0], q)\n",
        "\n",
        "    for i, q in enumerate(QRegY):\n",
        "        # y - 1 is used, so states with f(x) >= y are flagged\n",
        "        QC.initialize([1 - ((y-1) >> (digits - i - 1))%2, ((y-1) >> (digits - i - 1))%2], q)\n",
        "\n",
        "    #Grover = GroverFixedPointGate(GraphLaplacian, digits, l, delta)\n",
        "    #Grover.label = \"Grover\"\n",
        "\n",
        "    QC.append(Grover, QRegX[:] + QRegY[:])\n",
        "\n",
        "    QC.h(QRegX)\n",
        "    \n",
        "    for beta, gamma in angles:\n",
        "        # Cost bang\n",
        "        for i, q in enumerate(QRegX):\n",
        "            if GraphLaplacian[i][i] != 0:\n",
        "                QC.p(GraphLaplacian[i][i] * 2 * gamma, q)\n",
        "            for j, r in enumerate(QRegX[:i]):\n",
        "                if GraphLaplacian[i][j] != 0:\n",
        "                    QC.cp(GraphLaplacian[i][j] * 4 * gamma, q, r)\n",
        "\n",
        "        # Mixer bang\n",
        "        QC.rx(beta, QRegX)\n",
        "\n",
        "    QC.measure(QRegX, ClRegX)\n",
        "    \n",
        "    #display(QC.draw(output='mpl'))\n",
        "\n",
        "    # simulation\n",
        "    noisy_simulator = AerSimulator(noise_model=fake_aria)\n",
        "    transpiled_QC = transpile(QC, noisy_simulator)    \n",
        "    counts = noisy_simulator.run(transpiled_QC, shots=NumberOfShots).result().get_counts(transpiled_QC)\n",
        "\n",
        "    M = 0\n",
        "    bestcut = 0\n",
        "    bestcutconf = np.zeros(len(GraphLaplacian), dtype=int)\n",
        "    for s in counts:\n",
        "        conf = np.array([int(x) for x in reversed(s)])\n",
        "        m = np.matmul(conf, np.matmul(GraphLaplacian, np.transpose(conf)))\n",
        "        M += m * counts[s]\n",
        "        if m > bestcut:\n",
        "            bestcut = m\n",
        "            bestcutconf = conf\n",
        "\n",
        "    return [bestcut, M / NumberOfShots, angles, bestcutconf]"
      ]
    },
    {
      "cell_type": "markdown",
      "id": "5daaff90",
      "metadata": {
        "id": "5daaff90"
      },
      "source": [
        "#### graph plotter"
      ]
    },
    {
      "cell_type": "code",
      "execution_count": 11,
      "id": "3bc9844d",
      "metadata": {
        "id": "3bc9844d"
      },
      "outputs": [],
      "source": [
        "import networkx as nx\n",
        "\n",
        "def createGraph(GraphLaplacian: list[list[int]]):\n",
        "    Edges = []\n",
        "    for i, row in enumerate(GraphLaplacian):\n",
        "        for j, v in enumerate(row[:i]):\n",
        "            if v == - 1:\n",
        "                Edges.append([j, i])\n",
        "    Graph = nx.Graph()\n",
        "    Graph.add_edges_from(Edges)\n",
        "    nx.draw_networkx(Graph)"
      ]
    },
    {
      "cell_type": "markdown",
      "id": "7364edf6",
      "metadata": {
        "id": "7364edf6"
      },
      "source": [
        "## TESTING:"
      ]
    },
    {
      "cell_type": "markdown",
      "id": "7ca40d78",
      "metadata": {
        "id": "7ca40d78"
      },
      "source": [
        "### parameters"
      ]
    },
    {
      "cell_type": "code",
      "execution_count": 21,
      "id": "149f166a",
      "metadata": {
        "scrolled": true,
        "colab": {
          "base_uri": "https://localhost:8080/",
          "height": 406
        },
        "id": "149f166a",
        "outputId": "2da89a52-63e9-4584-8f2e-a25805cd8098"
      },
      "outputs": [
        {
          "output_type": "display_data",
          "data": {
            "text/plain": [
              "<Figure size 640x480 with 1 Axes>"
            ],
            "image/png": "[encoded data removed]"
          },
          "metadata": {}
        }
      ],
      "source": [
        "# independent inputs\n",
        "NumberOfVerticies = 8\n",
        "RootLambda = 1/3 # ratio of good states to all states\n",
        "P_L = 0.9\n",
        "NumberOfShots = 10\n",
        "\n",
        "# this generates a grid\n",
        "p = 3\n",
        "BetaGridSize = 3\n",
        "jump = 1\n",
        "\n",
        "BetaPaths = [[beta] for beta in range(1, BetaGridSize)]\n",
        "\n",
        "for i in range(1, p):\n",
        "    NewBetaPaths = []\n",
        "    for betas in BetaPaths:\n",
        "        for beta in range(1, BetaGridSize):\n",
        "            if abs(betas[-1] - beta) <= jump:\n",
        "                NewBetaPaths.append(betas + [beta])\n",
        "    BetaPaths = NewBetaPaths \n",
        "\n",
        "GridPaths = [[[beta, - gamma] for beta, gamma in zip(betas, reversed(betas))] for betas in BetaPaths]\n",
        "\n",
        "# from the input we compute the following\n",
        "delta = np.sqrt(1 - P_L)\n",
        "l = int(np.ceil(np.arccosh(1/delta) / np.arccosh(1/np.sqrt(1 - RootLambda*RootLambda)))) // 2\n",
        "\n",
        "# create random, connected graph\n",
        "NumberOfComponents = 0\n",
        "\n",
        "while NumberOfComponents != 1:\n",
        "    GraphLaplacian = np.zeros((NumberOfVerticies, NumberOfVerticies), dtype=int)\n",
        "    for i in range(NumberOfVerticies):\n",
        "        for j in range(i + 1, NumberOfVerticies):\n",
        "            if np.random.randint(0, 2) == 1:\n",
        "                GraphLaplacian[i][j] = GraphLaplacian[j][i] = - 1\n",
        "        GraphLaplacian[i][i] = - np.sum(GraphLaplacian[i])\n",
        "\n",
        "    NumberOfComponents = NumberOfVerticies - np.linalg.matrix_rank(GraphLaplacian)\n",
        "\n",
        "createGraph(GraphLaplacian)\n",
        "\n",
        "NumberOfEdges = np.trace(GraphLaplacian) // 2\n",
        "\n",
        "y = (4 * NumberOfVerticies + int(np.sqrt(8 * NumberOfVerticies + 1) - 1)) // 8 #if NumberOfComponents == 1 else (2 * NumberOfVerticies + NumberOfEdges - 1) // 4 # one less then the Erdos-Edwards bound\n",
        "digits = int(np.ceil(np.log2(NumberOfEdges))) + 1 # + 1 for the sign\n",
        "\n",
        "\n",
        "MaxCut = 0\n",
        "maxconf = np.zeros((NumberOfVerticies,), dtype=int)\n",
        "\n",
        "for x in range(1 << (NumberOfVerticies - 1)):\n",
        "    conf = np.array([(x >> i)&1 for i in range(NumberOfVerticies)])\n",
        "    cut = np.matmul(conf, np.matmul(GraphLaplacian, np.transpose(conf)))\n",
        "    if cut > MaxCut:\n",
        "        MaxCut = cut\n",
        "        maxconf = conf\n",
        "if np.sum(maxconf) > (NumberOfVerticies >> 1):\n",
        "    maxconf = np.ones((NumberOfVerticies,), dtype=int) - maxconf"
      ]
    },
    {
      "cell_type": "markdown",
      "id": "02eec6db",
      "metadata": {
        "id": "02eec6db"
      },
      "source": [
        "### results:"
      ]
    },
    {
      "cell_type": "code",
      "execution_count": 22,
      "id": "016ec09c",
      "metadata": {
        "colab": {
          "base_uri": "https://localhost:8080/"
        },
        "id": "016ec09c",
        "outputId": "17359b93-1dd9-4ea2-ac62-4cf44ca0f6c1"
      },
      "outputs": [
        {
          "output_type": "stream",
          "name": "stderr",
          "text": [
            "100%|██████████| 8/8 [00:40<00:00,  5.03s/it]\n"
          ]
        }
      ],
      "source": [
        "def GPQParallel(angles):\n",
        "    return GroverPlusQAOA(GraphLaplacian, digits, y, delta, l, angles, NumberOfShots)\n",
        "\n",
        "Grover = GroverFixedPointGate(GraphLaplacian, digits, l, delta)\n",
        "Grover.label = \"Grover\"\n",
        "\n",
        "with Pool() as pool:\n",
        "    results = list(tqdm.tqdm(pool.imap_unordered(GPQParallel, GridPaths), total=len(GridPaths)))\n",
        "\n",
        "results.sort(key = lambda x: x[1])"
      ]
    },
    {
      "cell_type": "code",
      "execution_count": 24,
      "id": "db282c0e",
      "metadata": {
        "colab": {
          "base_uri": "https://localhost:8080/"
        },
        "id": "db282c0e",
        "outputId": "b7acb780-bc80-4ddd-d8d6-8f1ef043adf3"
      },
      "outputs": [
        {
          "output_type": "stream",
          "name": "stdout",
          "text": [
            "MaxCut\t\t\t= 9\n",
            "maxconf\t\t\t= [1 1 0 1 0 0 1 0]\n",
            "\n",
            "cut threshold\t\t= 4\n",
            "Grover query complexity\t= 3\n",
            "square root of lambda\t= 0.333\n",
            "P_L\t\t\t= 90.0%\n",
            "p\t\t\t= 3\n",
            "BetaGridSize\t\t= 3\n",
            "\n",
            "maxcut\tM\tconfiguration\t\t\tangle\n",
            "\n",
            "7\t3.9\t[0 1 0 0 1 1 0 1]\t[[1, -2], [1, -1], [2, -1]]\n",
            "7\t4.9\t[0 0 1 0 1 0 0 0]\t[[2, -2], [1, -1], [2, -2]]\n",
            "7\t5.1\t[0 1 1 0 0 0 1 0]\t[[2, -2], [2, -2], [2, -2]]\n",
            "8\t5.2\t[1 1 1 1 0 0 1 0]\t[[1, -1], [2, -2], [1, -1]]\n",
            "8\t5.6\t[0 0 0 1 1 1 0 1]\t[[1, -1], [1, -1], [1, -1]]\n",
            "7\t5.6\t[0 1 1 0 1 1 0 0]\t[[1, -2], [2, -2], [2, -1]]\n",
            "8\t5.8\t[1 1 1 1 0 0 1 0]\t[[2, -1], [1, -1], [1, -2]]\n",
            "8\t5.9\t[1 1 0 1 0 1 1 0]\t[[2, -1], [2, -2], [1, -2]]\n",
            "\n",
            "the graph (number of edges = 11, maxcut = 9, ratio = 0.8888888888888888)\n",
            "\n",
            "[ 3  0 -1  0 -1 -1  0  0]\n",
            "[ 0  1  0  0 -1  0  0  0]\n",
            "[-1  0  5 -1 -1  0 -1 -1]\n",
            "[ 0  0 -1  2  0  0  0 -1]\n",
            "[-1 -1 -1  0  4  0 -1  0]\n",
            "[-1  0  0  0  0  1  0  0]\n",
            "[ 0  0 -1  0 -1  0  3 -1]\n",
            "[ 0  0 -1 -1  0  0 -1  3]\n",
            "\n"
          ]
        }
      ],
      "source": [
        "s = f\"MaxCut\\t\\t\\t= {MaxCut}\\nmaxconf\\t\\t\\t= {maxconf}\\n\\ncut threshold\\t\\t= {y}\\nGrover query complexity\\t= {l}\\nsquare root of lambda\\t= {round(RootLambda,3)}\\nP_L\\t\\t\\t= {P_L * 100}%\\np\\t\\t\\t= {p}\\nBetaGridSize\\t\\t= {BetaGridSize}\\n\\nmaxcut\\tM\\tconfiguration\\t\\t\\tangle\\n\\n\"\n",
        "for result in results[-10:]:\n",
        "    s += f\"{result[0]}\\t{result[1]}\\t{result[3]}\\t{result[2]}\\n\"\n",
        "s += f\"\\nthe graph (number of edges = {np.trace(GraphLaplacian) // 2}, maxcut = {MaxCut}, ratio = {results[-1][0] / MaxCut})\\n\\n\"\n",
        "for row in GraphLaplacian:\n",
        "    s += f\"{row.view()}\\n\"\n",
        "\n",
        "print(s)"
      ]
    },
    {
      "cell_type": "code",
      "execution_count": null,
      "id": "55cb1605",
      "metadata": {
        "id": "55cb1605"
      },
      "outputs": [],
      "source": []
    }
  ],
  "metadata": {
    "kernelspec": {
      "display_name": "Python 3 (ipykernel)",
      "language": "python",
      "name": "python3"
    },
    "language_info": {
      "codemirror_mode": {
        "name": "ipython",
        "version": 3
      },
      "file_extension": ".py",
      "mimetype": "text/x-python",
      "name": "python",
      "nbconvert_exporter": "python",
      "pygments_lexer": "ipython3",
      "version": "3.11.3"
    },
    "colab": {
      "provenance": []
    }
  },
  "nbformat": 4,
  "nbformat_minor": 5
}