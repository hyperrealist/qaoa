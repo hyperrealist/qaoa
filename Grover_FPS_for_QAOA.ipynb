{
  "cells": [
    {
      "attachments": {},
      "cell_type": "markdown",
      "id": "THzaoqHo13RE",
      "metadata": {
        "id": "THzaoqHo13RE"
      },
      "source": [
        "# load necessary libraries & other preparations:"
      ]
    },
    {
      "cell_type": "code",
      "execution_count": 13,
      "id": "cd0b0630",
      "metadata": {
        "colab": {
          "base_uri": "https://localhost:8080/"
        },
        "id": "cd0b0630",
        "outputId": "5bdd6538-e177-4bf1-dc09-151dc989d49d"
      },
      "outputs": [
        {
          "name": "stdout",
          "output_type": "stream",
          "text": [
            "Looking in indexes: https://pypi.org/simple, https://us-python.pkg.dev/colab-wheels/public/simple/\n",
            "Requirement already satisfied: qiskit in /usr/local/lib/python3.10/dist-packages (0.43.1)\n",
            "Requirement already satisfied: qiskit-terra==0.24.1 in /usr/local/lib/python3.10/dist-packages (from qiskit) (0.24.1)\n",
            "Requirement already satisfied: qiskit-aer==0.12.0 in /usr/local/lib/python3.10/dist-packages (from qiskit) (0.12.0)\n",
            "Requirement already satisfied: qiskit-ibmq-provider==0.20.2 in /usr/local/lib/python3.10/dist-packages (from qiskit) (0.20.2)\n",
            "Requirement already satisfied: numpy>=1.16.3 in /usr/local/lib/python3.10/dist-packages (from qiskit-aer==0.12.0->qiskit) (1.22.4)\n",
            "Requirement already satisfied: scipy>=1.0 in /usr/local/lib/python3.10/dist-packages (from qiskit-aer==0.12.0->qiskit) (1.10.1)\n",
            "Requirement already satisfied: requests>=2.19 in /usr/local/lib/python3.10/dist-packages (from qiskit-ibmq-provider==0.20.2->qiskit) (2.27.1)\n",
            "Requirement already satisfied: requests-ntlm<=1.1.0 in /usr/local/lib/python3.10/dist-packages (from qiskit-ibmq-provider==0.20.2->qiskit) (1.1.0)\n",
            "Requirement already satisfied: urllib3>=1.21.1 in /usr/local/lib/python3.10/dist-packages (from qiskit-ibmq-provider==0.20.2->qiskit) (1.26.15)\n",
            "Requirement already satisfied: python-dateutil>=2.8.0 in /usr/local/lib/python3.10/dist-packages (from qiskit-ibmq-provider==0.20.2->qiskit) (2.8.2)\n",
            "Requirement already satisfied: websocket-client>=1.5.1 in /usr/local/lib/python3.10/dist-packages (from qiskit-ibmq-provider==0.20.2->qiskit) (1.5.1)\n",
            "Requirement already satisfied: websockets>=10.0 in /usr/local/lib/python3.10/dist-packages (from qiskit-ibmq-provider==0.20.2->qiskit) (11.0.3)\n",
            "Requirement already satisfied: rustworkx>=0.12.0 in /usr/local/lib/python3.10/dist-packages (from qiskit-terra==0.24.1->qiskit) (0.12.1)\n",
            "Requirement already satisfied: ply>=3.10 in /usr/local/lib/python3.10/dist-packages (from qiskit-terra==0.24.1->qiskit) (3.11)\n",
            "Requirement already satisfied: psutil>=5 in /usr/local/lib/python3.10/dist-packages (from qiskit-terra==0.24.1->qiskit) (5.9.5)\n",
            "Requirement already satisfied: sympy>=1.3 in /usr/local/lib/python3.10/dist-packages (from qiskit-terra==0.24.1->qiskit) (1.11.1)\n",
            "Requirement already satisfied: dill>=0.3 in /usr/local/lib/python3.10/dist-packages (from qiskit-terra==0.24.1->qiskit) (0.3.6)\n",
            "Requirement already satisfied: stevedore>=3.0.0 in /usr/local/lib/python3.10/dist-packages (from qiskit-terra==0.24.1->qiskit) (5.1.0)\n",
            "Requirement already satisfied: symengine<0.10,>=0.9 in /usr/local/lib/python3.10/dist-packages (from qiskit-terra==0.24.1->qiskit) (0.9.2)\n",
            "Requirement already satisfied: six>=1.5 in /usr/local/lib/python3.10/dist-packages (from python-dateutil>=2.8.0->qiskit-ibmq-provider==0.20.2->qiskit) (1.16.0)\n",
            "Requirement already satisfied: certifi>=2017.4.17 in /usr/local/lib/python3.10/dist-packages (from requests>=2.19->qiskit-ibmq-provider==0.20.2->qiskit) (2022.12.7)\n",
            "Requirement already satisfied: charset-normalizer~=2.0.0 in /usr/local/lib/python3.10/dist-packages (from requests>=2.19->qiskit-ibmq-provider==0.20.2->qiskit) (2.0.12)\n",
            "Requirement already satisfied: idna<4,>=2.5 in /usr/local/lib/python3.10/dist-packages (from requests>=2.19->qiskit-ibmq-provider==0.20.2->qiskit) (3.4)\n",
            "Requirement already satisfied: ntlm-auth>=1.0.2 in /usr/local/lib/python3.10/dist-packages (from requests-ntlm<=1.1.0->qiskit-ibmq-provider==0.20.2->qiskit) (1.5.0)\n",
            "Requirement already satisfied: cryptography>=1.3 in /usr/local/lib/python3.10/dist-packages (from requests-ntlm<=1.1.0->qiskit-ibmq-provider==0.20.2->qiskit) (40.0.2)\n",
            "Requirement already satisfied: pbr!=2.1.0,>=2.0.0 in /usr/local/lib/python3.10/dist-packages (from stevedore>=3.0.0->qiskit-terra==0.24.1->qiskit) (5.11.1)\n",
            "Requirement already satisfied: mpmath>=0.19 in /usr/local/lib/python3.10/dist-packages (from sympy>=1.3->qiskit-terra==0.24.1->qiskit) (1.3.0)\n",
            "Requirement already satisfied: cffi>=1.12 in /usr/local/lib/python3.10/dist-packages (from cryptography>=1.3->requests-ntlm<=1.1.0->qiskit-ibmq-provider==0.20.2->qiskit) (1.15.1)\n",
            "Requirement already satisfied: pycparser in /usr/local/lib/python3.10/dist-packages (from cffi>=1.12->cryptography>=1.3->requests-ntlm<=1.1.0->qiskit-ibmq-provider==0.20.2->qiskit) (2.21)\n"
          ]
        }
      ],
      "source": [
        "from qiskit import QuantumCircuit, QuantumRegister, ClassicalRegister, transpile#, Aer\n",
        "from qiskit_aer import AerSimulator\n",
        "from qiskit_aer.noise import NoiseModel, pauli_error, ReadoutError, thermal_relaxation_error, depolarizing_error\n",
        "\n",
        "from qiskit.visualization import plot_histogram\n",
        "\n",
        "import numpy as np\n",
        "\n",
        "import networkx as nx\n",
        "\n",
        "from multiprocessing import Pool\n",
        "import tqdm\n",
        "import time"
      ]
    },
    {
      "attachments": {},
      "cell_type": "markdown",
      "id": "-rzxw-4pzznJ",
      "metadata": {
        "id": "-rzxw-4pzznJ"
      },
      "source": [
        "## Quantum Fourier Transform"
      ]
    },
    {
      "cell_type": "code",
      "execution_count": 2,
      "id": "S41wXQKxz3ws",
      "metadata": {
        "id": "S41wXQKxz3ws"
      },
      "outputs": [],
      "source": [
        "def QuantumFourierTransform(digits: int):\n",
        "    \n",
        "    QRegY = QuantumRegister(digits)\n",
        "    \n",
        "    QC = QuantumCircuit(QRegY)\n",
        "\n",
        "    for i, q in enumerate(QRegY):\n",
        "        QC.h(q)\n",
        "\n",
        "        theta = np.pi / 2\n",
        "        for r in QRegY[i + 1:]:\n",
        "            QC.cp(theta, r, q)\n",
        "            theta /= 2\n",
        "    \n",
        "    return QC.to_gate()"
      ]
    },
    {
      "attachments": {},
      "cell_type": "markdown",
      "id": "kZZELK6X0Djw",
      "metadata": {
        "id": "kZZELK6X0Djw"
      },
      "source": [
        "## noise model based on IonQ's Aria specifications:\n",
        "depolarizing error probability is probabilities adjusted from thermal noise infidelity: $p = e^{-t/T_2}$ with gate time for $t$"
      ]
    },
    {
      "cell_type": "code",
      "execution_count": 3,
      "id": "zTeDgrXH0Dq1",
      "metadata": {
        "id": "zTeDgrXH0Dq1"
      },
      "outputs": [],
      "source": [
        "# error probabilities\n",
        "p_meas = 0.39/100\n",
        "p_reset = 0.39/100\n",
        "p_gate1 = 0.06/100\n",
        "p_gate2 = 0.6/100\n",
        "\n",
        "# thermal relaxation error (nanosecond time)\n",
        "T1s = np.random.choice(range(10, 100), 10, replace=False) # consider adjusting range to be more reasonable\n",
        "T2 = 1e9\n",
        "\n",
        "time_meas = np.random.choice(range(600, 700), 10, replace=False)\n",
        "time_u1 = 0 # virtual gate\n",
        "time_gate1 = 135e3 # u1 and u2\n",
        "time_gate2 = 600e3 # 2 qubit gate\n",
        "\n",
        "# thermal relaxation error\n",
        "ther_u1  = [thermal_relaxation_error(t1 * 1e9, T2, time_u1)\n",
        "              for t1 in T1s]\n",
        "ther_gate1  = [thermal_relaxation_error(t1 * 1e9, T2, time_gate1)\n",
        "              for t1 in T1s]\n",
        "ther_gate2 = [[thermal_relaxation_error(t1a * 1e9, T2, time_gate2).expand(\n",
        "             thermal_relaxation_error(t1b * 1e9, T2, time_gate2))\n",
        "              for t1a in T1s]\n",
        "               for t1b in T1s]\n",
        "\n",
        "# depolarizing error\n",
        "dep_reset = depolarizing_error(p_reset, 1)\n",
        "dep_gate1 = depolarizing_error(p_gate1 - 1.34990888e-4, 1)\n",
        "dep_gate2 = depolarizing_error(p_gate2 - 5.99820036e-4, 2)\n",
        "\n",
        "# readout error\n",
        "er_meas = ReadoutError([[1 - p_meas, p_meas], [p_meas, 1 - p_meas]])\n",
        "\n",
        "# creating the noise model\n",
        "fake_aria = NoiseModel()\n",
        "\n",
        "for j in range(10):\n",
        "    fake_aria.add_quantum_error(ther_u1[j].compose(dep_gate1), \"u1\", [j])\n",
        "    fake_aria.add_quantum_error(ther_gate1[j].compose(dep_gate1), \"u2\", [j])\n",
        "    fake_aria.add_quantum_error(ther_gate1[j].compose(dep_gate1), \"u3\", [j])\n",
        "    for k in range(10):\n",
        "        fake_aria.add_quantum_error(ther_gate2[j][k].compose(dep_gate2), \"cx\", [j, k])\n",
        "fake_aria.add_all_qubit_quantum_error(dep_reset, \"reset\")\n",
        "fake_aria.add_all_qubit_readout_error(er_meas)"
      ]
    },
    {
      "attachments": {},
      "cell_type": "markdown",
      "id": "3Lt1OKYJ0OrK",
      "metadata": {
        "id": "3Lt1OKYJ0OrK"
      },
      "source": [
        "## graph plotter"
      ]
    },
    {
      "cell_type": "code",
      "execution_count": 4,
      "id": "mLZxhHb_0Oyl",
      "metadata": {
        "id": "mLZxhHb_0Oyl"
      },
      "outputs": [],
      "source": [
        "#graph plotter\n",
        "def createGraph(GraphLaplacian: list[list[int]]):\n",
        "    Edges = []\n",
        "    for i, row in enumerate(GraphLaplacian):\n",
        "        for j, v in enumerate(row[:i]):\n",
        "            if v == - 1:\n",
        "                Edges.append([j, i])\n",
        "    Graph = nx.Graph()\n",
        "    Graph.add_edges_from(Edges)\n",
        "    nx.draw_networkx(Graph)"
      ]
    },
    {
      "attachments": {},
      "cell_type": "markdown",
      "id": "6df7161c",
      "metadata": {
        "id": "6df7161c"
      },
      "source": [
        "# circuits:"
      ]
    },
    {
      "attachments": {},
      "cell_type": "markdown",
      "id": "paoRRJ1Y-TRF",
      "metadata": {
        "id": "paoRRJ1Y-TRF"
      },
      "source": [
        "## cost/energy oracle:**bold text** $U_C | x \\rangle | y \\rangle = | x \\rangle | y - C (x) \\rangle$"
      ]
    },
    {
      "cell_type": "code",
      "execution_count": 5,
      "id": "a5526b40",
      "metadata": {
        "id": "a5526b40"
      },
      "outputs": [],
      "source": [
        "def EnergyOracle(QuadraticForm: list[list[int]], digits: int, y: int):\n",
        "\n",
        "    QRegX = QuantumRegister(len(QuadraticForm))\n",
        "    QRegY = QuantumRegister(digits)\n",
        "    \n",
        "    QC = QuantumCircuit(QRegX, QRegY)\n",
        "\n",
        "    QFT = QuantumFourierTransform(digits)\n",
        "    QC.append(QFT, QRegY)\n",
        "    \n",
        "    # Phasers\n",
        "    for i, v in enumerate(QuadraticForm):\n",
        "        theta = - np.pi * v[i]\n",
        "        # QRegY is reversed below to save on swaps in QFT\n",
        "        for q in reversed(QRegY):\n",
        "            QC.cp(theta, QRegX[i], q)\n",
        "            theta /= 2\n",
        "\n",
        "        for j, w in enumerate(QuadraticForm[i][i + 1:]):\n",
        "            if w != 0:\n",
        "                theta = - 2 * np.pi * w\n",
        "                # QRegY is reversed below to save on swaps in QFT\n",
        "                for q in reversed(QRegY):\n",
        "                    QC.mcp(theta, [QRegX[i], QRegX[i + 1 + j]], q)\n",
        "                    theta /= 2\n",
        "\n",
        "    QC.append(QFT.inverse(), QRegY)\n",
        "\n",
        "    return QC.to_gate()"
      ]
    },
    {
      "attachments": {},
      "cell_type": "markdown",
      "id": "a748a38c",
      "metadata": {
        "id": "a748a38c"
      },
      "source": [
        "## Grover fixed point circuit, $S_L = G \\left( \\alpha_l, \\beta_l \\right) \\cdots G \\left( \\alpha_1, \\beta_1 \\right)$"
      ]
    },
    {
      "cell_type": "code",
      "execution_count": 6,
      "id": "1b82aef9",
      "metadata": {
        "id": "1b82aef9"
      },
      "outputs": [],
      "source": [
        "def GroverFixedPointGate(QuadraticForm: list[list[int]], digits: int, delta: float, RootLambda: float):\n",
        "\n",
        "    l = int(np.ceil(np.arccosh(1 / delta) / np.arccosh(1 / np.sqrt(1 - Lambda)))) >> 1\n",
        "\n",
        "    gamma = np.sqrt(1 - pow(np.cosh(np.arccosh(1 / delta) / (2 * l + 1)), - 2))\n",
        "\n",
        "    angles = [2 * np.arctan(1 / (gamma * np.tan(2 * np.pi * j / (2 * l + 1)))) for j in range(1, l + 1)]\n",
        "    \n",
        "    CostGate = EnergyOracle(QuadraticForm, digits, y)\n",
        "    CostGate_inverse = CostGate.inverse()\n",
        "\n",
        "    QRegX = QuantumRegister(len(QuadraticForm), \"x\")\n",
        "    QRegY = QuantumRegister(digits, \"y\")\n",
        "\n",
        "    QC = QuantumCircuit(QRegX, QRegY)\n",
        "\n",
        "    for _, (alpha, beta) in enumerate(zip(angles, reversed(angles))):\n",
        "\n",
        "        # S_t (beta)\n",
        "        QC.append(CostGate, QRegX[:] + QRegY[:])\n",
        "        QC.p(beta, QRegY[0])\n",
        "        QC.append(CostGate_inverse, QRegX[:] + QRegY[:])\n",
        "        \n",
        "        # S_s (alpha)\n",
        "        QC.h(QRegX)\n",
        "        QC.x(QRegX)\n",
        "        QC.mcp(alpha, QRegX[:-1], QRegX[-1])\n",
        "        QC.x(QRegX)\n",
        "        QC.h(QRegX)\n",
        "\n",
        "    return QC.to_gate()"
      ]
    },
    {
      "attachments": {},
      "cell_type": "markdown",
      "id": "993346e4",
      "metadata": {
        "id": "993346e4"
      },
      "source": [
        "## Grover assisted QAOA\n",
        "\n",
        "if `angles = []`, then it is just a Grover Fixed Point Search\n",
        "\n",
        "if $\\delta \\notin (0, 1)$, then it is just a vanilla QAOA"
      ]
    },
    {
      "cell_type": "code",
      "execution_count": 7,
      "id": "7785745f",
      "metadata": {
        "id": "7785745f"
      },
      "outputs": [],
      "source": [
        "def GroverPlusQAOA(QuadraticForm: list[list[int]], digits: int, y: int, angles: list[list[float]], delta: float, Lambda: float, NumberOfShots: int, noise: bool):\n",
        "\n",
        "    # one quantum/classical register pair for each vertex\n",
        "    QRegX = QuantumRegister(len(QuadraticForm), \"x\")\n",
        "    ClRegX = ClassicalRegister(len(QuadraticForm), \"cl-x\")\n",
        "\n",
        "    # quantum registers to digitize y\n",
        "    QRegY = QuantumRegister(digits, \"y\")\n",
        "\n",
        "    QC = QuantumCircuit(QRegX, QRegY, ClRegX)\n",
        "\n",
        "    for q in QRegX:\n",
        "        QC.initialize([1, 0], q)\n",
        "\n",
        "    for i, q in enumerate(QRegY):\n",
        "        # y - 1 is used so that states with f(x) >= y are flagged\n",
        "        bit = ((y-1)>>(digits-i-1))&1\n",
        "        QC.initialize([1 - bit, bit], q)\n",
        "\n",
        "    QC.h(QRegX)\n",
        "\n",
        "    if 0 < delta < 1:\n",
        "        Grover = GroverFixedPointGate(GraphLaplacian, digits, delta, Lambda)\n",
        "        QC.append(Grover, QRegX[:] + QRegY[:])\n",
        "    \n",
        "    for beta, gamma in angles:\n",
        "        # Cost\n",
        "        for i, q in enumerate(QRegX):\n",
        "            if QuadraticForm[i][i] != 0:\n",
        "                QC.p(QuadraticForm[i][i] * gamma * np.pi / BetaGridSize, q)\n",
        "            for j, r in enumerate(QRegX[:i]):\n",
        "                if GraphLaplacian[i][j] != 0:\n",
        "                    QC.cp(QuadraticForm[i][j] * 2 * gamma * np.pi / BetaGridSize, q, r)\n",
        "\n",
        "        # Mixer\n",
        "        QC.rx(beta * np.pi / BetaGridSize, QRegX)\n",
        "        # IonQ recommendation is to use RZ gates instead of RX\n",
        "        # QC.h(QRegX)\n",
        "        # QC.rz(beta * np.pi / BetaGridSize, QRegX)\n",
        "        # QC.h(QRegX)\n",
        "\n",
        "    QC.measure(QRegX, ClRegX)\n",
        "\n",
        "    # simulation\n",
        "    if noise:\n",
        "        simulator = AerSimulator(noise_model=fake_aria)\n",
        "    else:\n",
        "        simulator = AerSimulator()\n",
        "    transpiled_QC = transpile(QC, simulator)    \n",
        "    counts = simulator.run(transpiled_QC, shots=NumberOfShots).result().get_counts(transpiled_QC)\n",
        "\n",
        "    M = 0\n",
        "    approx_max = 0\n",
        "    approx_max_conf = np.zeros(len(QuadraticForm), dtype=int)\n",
        "    for s in counts:\n",
        "        conf = np.array([int(x) for x in reversed(s)])\n",
        "        m = np.matmul(conf, np.matmul(QuadraticForm, np.transpose(conf)))\n",
        "        M += m * counts[s]\n",
        "        if m > approx_max:\n",
        "            approx_max = m\n",
        "            approx_max_conf = conf\n",
        "    \n",
        "    M /= NumberOfShots\n",
        "\n",
        "    return [M, angles, approx_max, approx_max_conf, counts]"
      ]
    },
    {
      "attachments": {},
      "cell_type": "markdown",
      "id": "7ca40d78",
      "metadata": {
        "id": "7ca40d78"
      },
      "source": [
        "# parameters & testing:"
      ]
    },
    {
      "cell_type": "code",
      "execution_count": 14,
      "id": "149f166a",
      "metadata": {
        "colab": {
          "base_uri": "https://localhost:8080/"
        },
        "id": "149f166a",
        "outputId": "ab332c4a-7d6e-4cda-bcfd-3f8071f7a798",
        "scrolled": true
      },
      "outputs": [
        {
          "name": "stdout",
          "output_type": "stream",
          "text": [
            "y, Lambda, MaxCut, digits = 15, 0.131, 17, 5\n"
          ]
        }
      ],
      "source": [
        "# independent inputs\n",
        "\n",
        "# graph size\n",
        "NumberOfVerticies = 10 # must be <= 18 to fit in Aria (can add one more later)\n",
        "edge_probability = 0.5\n",
        "\n",
        "# Grover\n",
        "Lambda = 0.11   # ratio of good states to all states\n",
        "delta = 0.1     # approximation parameter\n",
        "\n",
        "'''\n",
        "# this is for the QAOA grid\n",
        "p = 2\n",
        "BetaGridSize = 4\n",
        "jump = 2\n",
        "\n",
        "# from the input we compute\n",
        "\n",
        "# sets of QAOA angles\n",
        "grid = []\n",
        "for beta in range(1, BetaGridSize):\n",
        "    for gamma in range(1, 2 * BetaGridSize):\n",
        "        grid.append([[beta, gamma]])\n",
        "\n",
        "jumps = [[0, 0]]\n",
        "for x in range(1, jump + 1):\n",
        "    jumps.append([x, 0])\n",
        "    jumps.append([- x, 0])\n",
        "    jumps.append([0, x])\n",
        "    jumps.append([0, - x])\n",
        "    for y in range(1, jump + 1 - x):\n",
        "        jumps.append([x, y])\n",
        "        jumps.append([x, - y])\n",
        "        jumps.append([- x, y])\n",
        "        jumps.append([- x, - y])\n",
        "\n",
        "GridPaths = grid.copy()\n",
        "for i in range(1, p):\n",
        "    NewGridPaths = []\n",
        "    for paths in GridPaths:\n",
        "        for jump in jumps:\n",
        "            beta = (paths[-1][0] + jump[0])%BetaGridSize\n",
        "            gamma = (paths[-1][1] + jump[1])%(2 * BetaGridSize)\n",
        "            if beta != 0 and gamma != 0:\n",
        "                NewGridPaths.append(paths + [[beta, gamma]])\n",
        "    GridPaths = NewGridPaths\n",
        "'''\n",
        "\n",
        "\n",
        "# random, connected graph\n",
        "disconnected = True\n",
        "while disconnected:\n",
        "    GraphLaplacian = np.zeros((NumberOfVerticies, NumberOfVerticies), dtype=int)\n",
        "    for i in range(NumberOfVerticies):\n",
        "        for j in range(i + 1, NumberOfVerticies):\n",
        "            if np.random.rand() < edge_probability:\n",
        "                GraphLaplacian[i][j] = GraphLaplacian[j][i] = - 1\n",
        "        GraphLaplacian[i][i] = - np.sum(GraphLaplacian[i])\n",
        "    disconnected = (NumberOfVerticies != np.linalg.matrix_rank(GraphLaplacian) + 1)\n",
        "\n",
        "# Erdos-Edwards bound for connected graphs\n",
        "NumberOfEdges = np.trace(GraphLaplacian) >> 1\n",
        "\n",
        "y = int(np.ceil((2 * NumberOfEdges + NumberOfVerticies - 1) / 4))\n",
        "\n",
        "digits = max(int(np.ceil(np.log2(2 * y))), int(np.ceil(np.log2(2 * NumberOfEdges + 2 - 2 * y)))) if NumberOfVerticies > 2 else 2\n",
        "\n",
        "MaxCut = y\n",
        "R = 0\n",
        "for x in range(1 << (NumberOfVerticies - 1)):\n",
        "    conf = np.array([(x >> i)&1 for i in range(NumberOfVerticies)])\n",
        "    cut = np.matmul(conf, np.matmul(GraphLaplacian, np.transpose(conf)))\n",
        "    if cut > MaxCut:\n",
        "        MaxCut = cut\n",
        "    if cut >= y:\n",
        "        R += 1\n",
        "\n",
        "Lambda = R / pow(2, NumberOfVerticies - 1)\n",
        "print(f\"y, Lambda, MaxCut, digits = {y}, {round(Lambda, 3)}, {MaxCut}, {digits}\")"
      ]
    },
    {
      "attachments": {},
      "cell_type": "markdown",
      "id": "02eec6db",
      "metadata": {
        "id": "02eec6db"
      },
      "source": [
        "### simulation:"
      ]
    },
    {
      "cell_type": "code",
      "execution_count": 17,
      "id": "016ec09c",
      "metadata": {
        "colab": {
          "base_uri": "https://localhost:8080/"
        },
        "id": "016ec09c",
        "outputId": "fe4250fa-1a68-44ae-c4a1-612cb5f5c441"
      },
      "outputs": [
        {
          "name": "stdout",
          "output_type": "stream",
          "text": [
            "computation with Grover Fixe Point Search...\n",
            "\n",
            "done in 2.09 seconds\n"
          ]
        }
      ],
      "source": [
        "NumberOfShots = 10\n",
        "# noise = True\n",
        "noise = False\n",
        "\n",
        "start_time = time.time()\n",
        "print(f\"\\ncomputation with Grover Fixe Point Search...\\n\")\n",
        "results_with_grover = GroverPlusQAOA(GraphLaplacian, digits, y, [], delta, Lambda, NumberOfShots, noise)\n",
        "end_time = time.time()\n",
        "print(f\"done in {round(end_time - start_time, 2)} seconds\\n\")\n",
        "\n",
        "#print(f\"\\n without grover\\n\")\n",
        "#def QAOAParallel(angles):\n",
        "#    return GroverPlusQAOA(GraphLaplacian, digits, y, angles, 0, 1, NumberOfShots, noise)\n",
        "#with Pool() as pool:\n",
        "#    results = list(tqdm.tqdm(pool.imap_unordered(GPQParallel, GridPaths), total=len(GridPaths)))\n",
        "#results_without_grover = list(tqdm.tqdm(map(QAOAParallel, GridPaths), total=len(GridPaths))) # list(tqdm.tqdm(map(QAOAParallel, GridPaths), total=len(GridPaths)))"
      ]
    },
    {
      "cell_type": "code",
      "execution_count": 22,
      "id": "db282c0e",
      "metadata": {
        "colab": {
          "base_uri": "https://localhost:8080/"
        },
        "id": "db282c0e",
        "outputId": "367459a2-ff9e-4b4d-c642-93c8200bcb21"
      },
      "outputs": [
        {
          "name": "stdout",
          "output_type": "stream",
          "text": [
            "\n",
            "the graph:\n",
            "----------\n",
            "MaxCut = 17, number of edges = 24, Erdos-Edwards bound = 15\n",
            "\n",
            "[ 4 -1  0 -1  0 -1 -1  0  0  0]\n",
            "[-1  5  0  0 -1 -1 -1  0 -1  0]\n",
            "[ 0  0  1  0  0  0  0 -1  0  0]\n",
            "[-1  0  0  5 -1 -1  0 -1  0 -1]\n",
            "[ 0 -1  0 -1  4 -1  0  0  0 -1]\n",
            "[-1 -1  0 -1 -1  8 -1 -1 -1 -1]\n",
            "[-1 -1  0  0  0 -1  6 -1 -1 -1]\n",
            "[ 0  0 -1 -1  0 -1 -1  6 -1 -1]\n",
            "[ 0 -1  0  0  0 -1 -1 -1  4  0]\n",
            "[ 0  0  0 -1 -1 -1 -1 -1  0  5]\n",
            "\n",
            "Grover parameters:\n",
            "------------------\n",
            "lambda\t\t\t= 0.131\n",
            "P_L\t\t\t= 99.0%\n",
            "Grover query complexity\t= 4\n",
            "\n",
            "\n",
            "results with grover:\n",
            "--------------------\n",
            "\n",
            "M\tbestcut\n",
            "\n",
            "15.3\t16\n",
            "\n",
            "success probability = 100.0%\n"
          ]
        }
      ],
      "source": [
        "s = f\"\\nthe graph:\\n----------\\nMaxCut = {MaxCut}, number of edges = {NumberOfEdges}, Erdos-Edwards bound = {y}\\n\\n\"\n",
        "\n",
        "for row in GraphLaplacian:\n",
        "    s += f\"{row.view()}\\n\"\n",
        "\n",
        "#s += f\"\\nQAOA parameters:\\n----------------\\np\\t\\t\\t= {len(GridPaths[0])}\\nBetaGridSize\\t\\t= {BetaGridSize}\\n# of circuits\\t\\t= {len(GridPaths)}\\n\\n\"\n",
        "s += f\"\\nGrover parameters:\\n------------------\\nlambda\\t\\t\\t= {round(Lambda, 3)}\\nP_L\\t\\t\\t= {round(1 - delta * delta, 4) * 100}%\\n\"\n",
        "s += f\"Grover query complexity\\t= {int(np.ceil(np.arccosh(1 / delta) / np.arccosh(1 / np.sqrt(1 - Lambda)))) >> 1}\\n\\n\\n\"\n",
        "\n",
        "s += f\"results with grover:\\n--------------------\\n\\nM\\tbestcut\\n\\n\"\n",
        "s += f\"{results_with_grover[0]}\\t{results_with_grover[2]}\\n\"\n",
        "\n",
        "#s += f\"\\n\\nresults without grover:\\n-----------------------\\n\\nM\\tbestcut\\tangles\\n\\n\"\n",
        "#s += f\"{results_without_grover[-1][0]}\\t{results_without_grover[-1][2]}\\t{results_without_grover[-1][1]}\\n\"\n",
        "\n",
        "#s += f\"\\n---\\n\"\n",
        "#s += f\"\\napproximation ratio with Grover\\t\\t= {round(results_with_grover[-1][0] / MaxCut, 3)}\"\n",
        "#s += f\"\\napproximation ratio without Grover\\t= {round(results_without_grover[-1][0] / MaxCut, 3)}\"\n",
        "\n",
        "counts = results_with_grover[-1]\n",
        "\n",
        "newcounts = {}\n",
        "\n",
        "success = 0\n",
        "\n",
        "for res in counts:\n",
        "    conf = np.array([int(x) for x in reversed(res)])\n",
        "    cut = np.matmul(conf, np.matmul(GraphLaplacian, np.transpose(conf)))\n",
        "    #print(res[::-1], conf, counts[res], cut, cut >= y)\n",
        "    if cut >= y:\n",
        "        success += counts[res]\n",
        "        newres = res + \"!\"\n",
        "    else:\n",
        "        newres = res\n",
        "    newcounts[newres] = counts[res]\n",
        "\n",
        "s += f\"\\nsuccess probability = {success / NumberOfShots * 100}%\"\n",
        "\n",
        "print(s)"
      ]
    },
    {
      "cell_type": "code",
      "execution_count": 19,
      "id": "lgCcps3cg5H3",
      "metadata": {
        "colab": {
          "base_uri": "https://localhost:8080/",
          "height": 561
        },
        "id": "lgCcps3cg5H3",
        "outputId": "773a90b7-8d9e-4eed-faed-4600c1f49129"
      },
      "outputs": [
        {
          "data": {
            "image/png": "[encoded data removed]",
            "text/plain": [
              "<Figure size 700x500 with 1 Axes>"
            ]
          },
          "execution_count": 19,
          "metadata": {},
          "output_type": "execute_result"
        }
      ],
      "source": [
        "plot_histogram(newcounts, sort='value_desc')"
      ]
    },
    {
      "cell_type": "code",
      "execution_count": 20,
      "id": "Zw_BVs6yn01y",
      "metadata": {
        "colab": {
          "base_uri": "https://localhost:8080/",
          "height": 406
        },
        "id": "Zw_BVs6yn01y",
        "outputId": "dc5ea44c-ced7-42c6-f7cb-32bb9363a63d"
      },
      "outputs": [
        {
          "data": {
            "image/png": "[encoded data removed]",
            "text/plain": [
              "<Figure size 640x480 with 1 Axes>"
            ]
          },
          "metadata": {},
          "output_type": "display_data"
        }
      ],
      "source": [
        "createGraph(GraphLaplacian)"
      ]
    },
    {
      "cell_type": "code",
      "execution_count": null,
      "id": "ru8yDPvA-PD9",
      "metadata": {
        "id": "ru8yDPvA-PD9"
      },
      "outputs": [],
      "source": []
    }
  ],
  "metadata": {
    "colab": {
      "collapsed_sections": [
        "THzaoqHo13RE",
        "6df7161c"
      ],
      "provenance": []
    },
    "kernelspec": {
      "display_name": "Python 3 (ipykernel)",
      "language": "python",
      "name": "python3"
    },
    "language_info": {
      "codemirror_mode": {
        "name": "ipython",
        "version": 3
      },
      "file_extension": ".py",
      "mimetype": "text/x-python",
      "name": "python",
      "nbconvert_exporter": "python",
      "pygments_lexer": "ipython3",
      "version": "3.11.3"
    }
  },
  "nbformat": 4,
  "nbformat_minor": 5
}
