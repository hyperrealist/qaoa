{
 "cells": [
  {
   "cell_type": "code",
   "execution_count": 1,
   "id": "cd0b0630",
   "metadata": {},
   "outputs": [],
   "source": [
    "from qiskit import QuantumCircuit, QuantumRegister, ClassicalRegister, transpile\n",
    "from qiskit_aer import AerSimulator\n",
    "from qiskit_aer.noise import NoiseModel, pauli_error\n",
    "\n",
    "import numpy as np"
   ]
  },
  {
   "cell_type": "markdown",
   "id": "e0d0b205",
   "metadata": {},
   "source": [
    "#### this function builds a Quantum Fourier Transform gate\n",
    "(this should be doable with a qiskit library too, but I couldn't convert later circuits to gate that way)"
   ]
  },
  {
   "cell_type": "code",
   "execution_count": 2,
   "id": "5890cf2e",
   "metadata": {},
   "outputs": [],
   "source": [
    "def QuantumFourierTransform(digits: int):\n",
    "    \n",
    "    QRegY = QuantumRegister(digits)\n",
    "    \n",
    "    QC = QuantumCircuit(QRegY)\n",
    "\n",
    "    for i, q in enumerate(QRegY):\n",
    "        QC.h(q)\n",
    "\n",
    "        theta = np.pi / 2\n",
    "        for r in QRegY[i + 1:]:\n",
    "            QC.cp(theta, r, q)\n",
    "            theta /= 2\n",
    "    \n",
    "    for i in range(digits // 2):\n",
    "        QC.swap(QRegY[i],QRegY[- (i + 1)])\n",
    "    \n",
    "    return QC.to_gate()"
   ]
  },
  {
   "cell_type": "markdown",
   "id": "6df7161c",
   "metadata": {},
   "source": [
    "#### the following function builds a oracle, $U_C$, such that $U_C | x \\rangle | y \\rangle = | x \\rangle | y - C (x) \\rangle$"
   ]
  },
  {
   "cell_type": "code",
   "execution_count": 3,
   "id": "a5526b40",
   "metadata": {},
   "outputs": [],
   "source": [
    "def EnergyOracle(GraphLaplacian: list[list[int]], digits: int):\n",
    "\n",
    "    QRegX = QuantumRegister(len(GraphLaplacian))\n",
    "    QRegY = QuantumRegister(digits)\n",
    "    \n",
    "    QC = QuantumCircuit(QRegX, QRegY)\n",
    "\n",
    "    QFT = QuantumFourierTransform(digits)\n",
    "    QC.append(QFT, QRegY)\n",
    "    \n",
    "    # Phasers\n",
    "    for i, v in enumerate(GraphLaplacian):\n",
    "        theta = - np.pi * v[i]\n",
    "        for q in QRegY:\n",
    "            QC.cp(theta, QRegX[i], q)\n",
    "            theta /= 2\n",
    "\n",
    "        for j, w in enumerate(GraphLaplacian[i][i + 1:]):\n",
    "            if w != 0:\n",
    "                theta = - 2 * np.pi * w\n",
    "                for q in QRegY:\n",
    "                    QC.mcp(theta, [QRegX[i], QRegX[i + 1 + j]], q)\n",
    "                    theta /= 2\n",
    "\n",
    "    QC.append(QFT.inverse(), QRegY)\n",
    "\n",
    "    return QC.to_gate()"
   ]
  },
  {
   "cell_type": "markdown",
   "id": "a748a38c",
   "metadata": {},
   "source": [
    "#### the following creates the Grover fixed point circuit, $S_L = G \\left( \\alpha_l, \\beta_l \\right) \\cdots G \\left( \\alpha_1, \\beta_1 \\right) H^{\\otimes n}$"
   ]
  },
  {
   "cell_type": "code",
   "execution_count": 4,
   "id": "1b82aef9",
   "metadata": {},
   "outputs": [],
   "source": [
    "def GroverFixedPointGate(GraphLaplacian: list[list[int]], digits: int, l: int, delta: float):\n",
    "\n",
    "    L = 2*l + 1\n",
    "    gamma = np.sqrt(1 - 1 / pow(np.cosh(np.arccosh(1/delta) / L), 2))\n",
    "\n",
    "    alpha = [2 * np.arctan(1 / (gamma * np.tan(2 * np.pi * j / L))) for j in range(1, l + 1)]\n",
    "    \n",
    "    U_C = EnergyOracle(GraphLaplacian, digits)\n",
    "    U_C_inverse = U_C.inverse()\n",
    "\n",
    "    QRegX = QuantumRegister(len(GraphLaplacian), \"x\")\n",
    "    QRegY = QuantumRegister(digits, \"y\")\n",
    "\n",
    "    QC = QuantumCircuit(QRegX, QRegY)\n",
    "\n",
    "    QC.h(QRegX)\n",
    "\n",
    "    for _, (a, b) in enumerate(zip(alpha,alpha[::-1])):\n",
    "\n",
    "        # S_t (beta)\n",
    "        QC.append(U_C, QRegX[:] + QRegY[:])\n",
    "        QC.p(- b, QRegY[0])\n",
    "        QC.append(U_C_inverse, QRegX[:] + QRegY[:])\n",
    "        \n",
    "        # S_s (alpha)\n",
    "        QC.h(QRegX)\n",
    "        QC.x(QRegX)\n",
    "        # can we improve on mcp???\n",
    "        QC.mcp(a, QRegX[:-1], QRegX[-1])\n",
    "        QC.x(QRegX)\n",
    "        QC.h(QRegX)\n",
    "\n",
    "    return QC.to_gate()"
   ]
  },
  {
   "cell_type": "markdown",
   "id": "993346e4",
   "metadata": {},
   "source": [
    "#### the following builds the circuit for the new QAOA"
   ]
  },
  {
   "cell_type": "code",
   "execution_count": 5,
   "id": "7785745f",
   "metadata": {},
   "outputs": [],
   "source": [
    "def GroverQAOACircuit(GraphLaplacian: list[list[int]], digits: int, y: int, delta: float, l: int, bangs: list[list[int]], ShotNumber: int):\n",
    "\n",
    "    # one quantum/classical register pair for each vertex\n",
    "    QRegX = QuantumRegister(len(GraphLaplacian), \"x\")\n",
    "    ClRegX = ClassicalRegister(len(GraphLaplacian), \"cl-x\")\n",
    "\n",
    "    # quantum registers to digitize y\n",
    "    QRegY = QuantumRegister(digits, \"y\")\n",
    "\n",
    "    QC = QuantumCircuit(QRegX, QRegY, ClRegX)\n",
    "\n",
    "    GroverMixer = GroverFixedPointGate(GraphLaplacian, digits, l, delta)\n",
    "    GroverMixer.label = \"GroverMixer\"\n",
    "    InverseGroverMixer = GroverMixer.inverse()\n",
    "    InverseGroverMixer.label = \"GroverMixerInverse\"\n",
    "\n",
    "    for q in QRegX:\n",
    "        QC.initialize([1, 0], q)\n",
    "\n",
    "    for i, q in enumerate(QRegY):\n",
    "        # y - 1 is used, so states with f(x) >= y are flagged\n",
    "        QC.initialize([1 - ((y-1) >> (digits-i-1))%2, ((y-1) >> (digits-i-1))%2], q)\n",
    "\n",
    "    QC.append(GroverMixer, QRegX[:] + QRegY[:])\n",
    "\n",
    "    # the bangs / p = len(bangs) / going backward per convention\n",
    "    for bang in bangs[::-1]:\n",
    "\n",
    "        # this implements the phase-bang\n",
    "        for i, q in enumerate(QRegY):\n",
    "            QC.p(bang[1] * (digits-i-1), q)\n",
    "\n",
    "        # this is the Grover-bang\n",
    "        QC.append(InverseGroverMixer, QRegX[:] + QRegY[:])\n",
    "        QC.x(QRegX)\n",
    "        # can we improve on mcp???\n",
    "        QC.mcp(bang[0], QRegX[:-1], QRegX[-1])\n",
    "        QC.x(QRegX)\n",
    "        QC.append(GroverMixer, QRegX[:] + QRegY[:])\n",
    "\n",
    "    QC.measure(QRegX, ClRegX, cregbundle=False)\n",
    "    \n",
    "    #display(QC.draw(output='mpl'))\n",
    "    \n",
    "    # error probabilities\n",
    "    p_reset = 0.03\n",
    "    p_meas = 0.1\n",
    "    p_gate1 = 0.05\n",
    "\n",
    "    # QuantumError objects (???)\n",
    "    error_reset = pauli_error([('X', p_reset), ('I', 1 - p_reset)])\n",
    "    error_meas = pauli_error([('X',p_meas), ('I', 1 - p_meas)])\n",
    "    error_gate1 = pauli_error([('X',p_gate1), ('I', 1 - p_gate1)])\n",
    "    error_gate2 = error_gate1.tensor(error_gate1)\n",
    "    \n",
    "    # errors to noise model\n",
    "    noise_bit_flip = NoiseModel()\n",
    "    noise_bit_flip.add_all_qubit_quantum_error(error_reset, \"reset\")\n",
    "    noise_bit_flip.add_all_qubit_quantum_error(error_meas, \"measure\")\n",
    "    noise_bit_flip.add_all_qubit_quantum_error(error_gate1, [\"u1\", \"u2\", \"u3\"])\n",
    "    noise_bit_flip.add_all_qubit_quantum_error(error_gate2, [\"cx\"])\n",
    "\n",
    "    # simulation\n",
    "    noisy_simulator = AerSimulator(noise_model=noise_bit_flip)\n",
    "    compiled_QC = transpile(QC, noisy_simulator)    \n",
    "    counts = noisy_simulator.run(compiled_QC, shots=ShotNumber).result().get_counts(compiled_QC)\n",
    "    \n",
    "    results = [[np.array([int(x) for x in s[::-1]]), 0, counts[s] * 100 / ShotNumber] for s in counts]\n",
    "    for c in results:\n",
    "        c[1] = np.matmul(c[0], np.matmul(GraphLaplacian, np.transpose(c[0])))\n",
    "\n",
    "    return results"
   ]
  },
  {
   "cell_type": "markdown",
   "id": "5daaff90",
   "metadata": {},
   "source": [
    "#### graph plotter"
   ]
  },
  {
   "cell_type": "code",
   "execution_count": 6,
   "id": "3bc9844d",
   "metadata": {},
   "outputs": [],
   "source": [
    "import networkx as nx\n",
    "\n",
    "def createGraph(GraphLaplacian: list[list[int]]):\n",
    "    Edges = []\n",
    "    for i, row in enumerate(GraphLaplacian):\n",
    "        for j, v in enumerate(row[:i]):\n",
    "            if v == - 1:\n",
    "                Edges.append([j, i])\n",
    "    Graph = nx.Graph()\n",
    "    Graph.add_edges_from(Edges)\n",
    "    nx.draw_networkx(Graph)"
   ]
  },
  {
   "cell_type": "markdown",
   "id": "7364edf6",
   "metadata": {},
   "source": [
    "## TESTING:"
   ]
  },
  {
   "cell_type": "markdown",
   "id": "7ca40d78",
   "metadata": {},
   "source": [
    "### parameters"
   ]
  },
  {
   "cell_type": "code",
   "execution_count": 7,
   "id": "149f166a",
   "metadata": {
    "scrolled": true
   },
   "outputs": [
    {
     "name": "stdout",
     "output_type": "stream",
     "text": [
      "the graph (number of components = 1)\n"
     ]
    },
    {
     "data": {
      "image/png": "[encoded data removed]",
      "text/plain": [
       "<Figure size 640x480 with 1 Axes>"
      ]
     },
     "metadata": {},
     "output_type": "display_data"
    }
   ],
   "source": [
    "# independent inputs\n",
    "NumberOfVerticies = 8\n",
    "RootLambda = 1/3 # ratio of good states to all states\n",
    "P_L = 0.9\n",
    "ShotNumber = 1\n",
    "BetaGrid = 5\n",
    "GammaGrid = 5\n",
    "\n",
    "# from the input we compute the following\n",
    "delta = np.sqrt(1 - P_L)\n",
    "l = int(np.ceil(np.arccosh(1/delta) / np.arccosh(1/np.sqrt(1 - RootLambda*RootLambda)))) // 2\n",
    "\n",
    "# create large, random graph\n",
    "GraphLaplacian = np.zeros((NumberOfVerticies, NumberOfVerticies), dtype=int)\n",
    "for i in range(NumberOfVerticies):\n",
    "    for j in range(i + 1, NumberOfVerticies):\n",
    "        if np.random.randint(0, 2) == 1:\n",
    "            GraphLaplacian[i][j] = GraphLaplacian[j][i] = - 1\n",
    "    GraphLaplacian[i][i] = - np.sum(GraphLaplacian[i])\n",
    "\n",
    "NumberOfComponents = NumberOfVerticies - np.linalg.matrix_rank(GraphLaplacian)\n",
    "    \n",
    "print(\"the graph (number of components =\",str(NumberOfComponents) + \")\")\n",
    "createGraph(GraphLaplacian)\n",
    "           \n",
    "NumberOfEdges = np.trace(GraphLaplacian) // 2\n",
    "\n",
    "y = (4*NumberOfVerticies + int(np.sqrt(8*NumberOfVerticies + 1) - 1)) // 8 if NumberOfComponents == 1 else (2*NumberOfVerticies + NumberOfEdges - 1) // 4 # one less then the Erdos-Edwards bound\n",
    "digits = int(np.ceil(np.log2(NumberOfEdges))) + 1 # + 1 for the sign"
   ]
  },
  {
   "cell_type": "markdown",
   "id": "02eec6db",
   "metadata": {},
   "source": [
    "### results: naive bang-bang optimization with $p = 1$"
   ]
  },
  {
   "cell_type": "code",
   "execution_count": 8,
   "id": "016ec09c",
   "metadata": {},
   "outputs": [
    {
     "name": "stdout",
     "output_type": "stream",
     "text": [
      "\n",
      "the graph Laplacian:\n",
      "\n",
      "[[ 5 -1 -1 -1 -1 -1  0  0]\n",
      " [-1  3 -1  0  0 -1  0  0]\n",
      " [-1 -1  5  0 -1 -1 -1  0]\n",
      " [-1  0  0  3 -1 -1  0  0]\n",
      " [-1  0 -1 -1  5 -1  0 -1]\n",
      " [-1 -1 -1 -1 -1  6  0 -1]\n",
      " [ 0  0 -1  0  0  0  1  0]\n",
      " [ 0  0  0  0 -1 -1  0  2]] \n",
      "\n",
      "number of components\t= 1 \n",
      "\n",
      "cut threshold\t\t= 4\n",
      "Grover query complexity\t= 3\n",
      "square root of lambda\t= 0.3333333333333333\n",
      "P_L\t\t\t= 90.0 %\n",
      "BetaGrid\t\t= 5\n",
      "GammaGrid\t\t= 5 \n",
      "\n",
      "progess = 4%\n",
      "progess = 8%\n",
      "progess = 12%\n",
      "progess = 16%\n",
      "progess = 20%\n",
      "progess = 24%\n",
      "progess = 28%\n",
      "progess = 32%\n",
      "progess = 36%\n",
      "progess = 40%\n",
      "progess = 44%\n",
      "progess = 48%\n",
      "progess = 52%\n",
      "progess = 56%\n",
      "progess = 60%\n",
      "progess = 64%\n",
      "progess = 68%\n",
      "progess = 72%\n",
      "progess = 76%\n",
      "progess = 80%\n",
      "progess = 84%\n",
      "progess = 88%\n",
      "progess = 92%\n",
      "progess = 96%\n",
      "progess = 100%\n",
      "\n",
      "MaxCut = 11 \n",
      "\n",
      "configurations:\n",
      "\n",
      "x\t= [1 0 0 0 1 1 1 0] \n",
      "angles\t= [1.8849555921538759, 5.026548245743669] \n",
      "\n",
      "\n"
     ]
    }
   ],
   "source": [
    "print(\"\\nthe graph Laplacian:\\n\")\n",
    "print(GraphLaplacian.view(),\"\\n\")\n",
    "print(\"number of components\\t=\",NumberOfComponents,\"\\n\")\n",
    "print(\"cut threshold\\t\\t=\",y)\n",
    "print(\"Grover query complexity\\t=\",l)\n",
    "print(\"square root of lambda\\t=\",RootLambda)\n",
    "print(\"P_L\\t\\t\\t=\",P_L * 100,\"%\")\n",
    "print(\"BetaGrid\\t\\t=\",BetaGrid)\n",
    "print(\"GammaGrid\\t\\t=\",GammaGrid,\"\\n\")\n",
    "\n",
    "configurations, MaxCut = [], 0\n",
    "\n",
    "step, total_step = 0, BetaGrid * GammaGrid\n",
    "\n",
    "for i in range(BetaGrid):\n",
    "    for j in range(GammaGrid):\n",
    "            counts = GroverQAOACircuit(GraphLaplacian, digits, y, delta, l, [[np.pi * i / BetaGrid, 2 * np.pi * j / GammaGrid]], 1)\n",
    "            if counts[0][1] >= MaxCut:\n",
    "                if counts[0][1] > MaxCut:\n",
    "                    configurations = [[counts[0][0], [np.pi * i / BetaGrid, 2 * np.pi * j / GammaGrid]]]\n",
    "                    MaxCut = counts[0][1]\n",
    "                else:\n",
    "                    configurations.append([counts[0][0], [np.pi * i / BetaGrid, 2 * np.pi * j / GammaGrid]])\n",
    "            step += 1\n",
    "            print(\"progess = \" + str(int(step * 100 / total_step)) + \"%\")\n",
    "\n",
    "print(\"\\nMaxCut =\",MaxCut,\"\\n\")\n",
    "print(\"configurations:\\n\")\n",
    "for conf in configurations:\n",
    "    print(\"x\\t=\",conf[0].view(),\"\\nangles\\t=\",conf[1],\"\\n\")\n",
    "print()"
   ]
  },
  {
   "cell_type": "code",
   "execution_count": null,
   "id": "db282c0e",
   "metadata": {},
   "outputs": [],
   "source": []
  }
 ],
 "metadata": {
  "kernelspec": {
   "display_name": "Python 3 (ipykernel)",
   "language": "python",
   "name": "python3"
  },
  "language_info": {
   "codemirror_mode": {
    "name": "ipython",
    "version": 3
   },
   "file_extension": ".py",
   "mimetype": "text/x-python",
   "name": "python",
   "nbconvert_exporter": "python",
   "pygments_lexer": "ipython3",
   "version": "3.11.3"
  }
 },
 "nbformat": 4,
 "nbformat_minor": 5
}
