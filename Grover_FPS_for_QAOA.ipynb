{
 "cells": [
  {
   "cell_type": "code",
   "execution_count": 38,
   "id": "cd0b0630",
   "metadata": {},
   "outputs": [],
   "source": [
    "from qiskit import QuantumCircuit, QuantumRegister, ClassicalRegister, transpile\n",
    "from qiskit_aer import AerSimulator\n",
    "from qiskit_aer.noise import NoiseModel, pauli_error\n",
    "\n",
    "import numpy as np"
   ]
  },
  {
   "attachments": {},
   "cell_type": "markdown",
   "id": "e0d0b205",
   "metadata": {},
   "source": [
    "#### this function builds a Quantum Fourier Transform* gate\n",
    "\n",
    "*it's a modified version without swaps"
   ]
  },
  {
   "cell_type": "code",
   "execution_count": 39,
   "id": "5890cf2e",
   "metadata": {},
   "outputs": [],
   "source": [
    "def QuantumFourierTransform(digits: int):\n",
    "    \n",
    "    QRegY = QuantumRegister(digits)\n",
    "    \n",
    "    QC = QuantumCircuit(QRegY)\n",
    "\n",
    "    for i, q in enumerate(QRegY):\n",
    "        QC.h(q)\n",
    "\n",
    "        theta = np.pi / 2\n",
    "        for r in QRegY[i + 1:]:\n",
    "            QC.cp(theta, r, q)\n",
    "            theta /= 2\n",
    "    \n",
    "    return QC.to_gate()"
   ]
  },
  {
   "attachments": {},
   "cell_type": "markdown",
   "id": "6df7161c",
   "metadata": {},
   "source": [
    "#### the following function builds a oracle, $U_C$, such that $U_C | x \\rangle | y \\rangle = | x \\rangle | y - C (x) \\rangle$\n",
    "\n",
    "todo: we can probably save some circuit by removing the swap-gates in QFT and reshuffling gates here"
   ]
  },
  {
   "cell_type": "code",
   "execution_count": 40,
   "id": "a5526b40",
   "metadata": {},
   "outputs": [],
   "source": [
    "def EnergyOracle(GraphLaplacian: list[list[int]], digits: int):\n",
    "\n",
    "    QRegX = QuantumRegister(len(GraphLaplacian))\n",
    "    QRegY = QuantumRegister(digits)\n",
    "    \n",
    "    QC = QuantumCircuit(QRegX, QRegY)\n",
    "\n",
    "    QFT = QuantumFourierTransform(digits)\n",
    "    QC.append(QFT, QRegY)\n",
    "    \n",
    "    # Phasers\n",
    "    for i, v in enumerate(GraphLaplacian):\n",
    "        theta = - np.pi * v[i]\n",
    "        # QRegY is reversed below to save on swaps in QFT\n",
    "        for q in reversed(QRegY):\n",
    "            QC.cp(theta, QRegX[i], q)\n",
    "            theta /= 2\n",
    "\n",
    "        for j, w in enumerate(GraphLaplacian[i][i + 1:]):\n",
    "            if w != 0:\n",
    "                theta = - 2 * np.pi * w\n",
    "                # QRegY is reversed below to save on swaps in QFT\n",
    "                for q in reversed(QRegY):\n",
    "                    QC.mcp(theta, [QRegX[i], QRegX[i + 1 + j]], q)\n",
    "                    theta /= 2\n",
    "\n",
    "    QC.append(QFT.inverse(), QRegY)\n",
    "\n",
    "    return QC.to_gate()"
   ]
  },
  {
   "attachments": {},
   "cell_type": "markdown",
   "id": "a748a38c",
   "metadata": {},
   "source": [
    "#### the following creates the Grover fixed point circuit, $S_L = G \\left( \\alpha_l, \\beta_l \\right) \\cdots G \\left( \\alpha_1, \\beta_1 \\right) H^{\\otimes n}$"
   ]
  },
  {
   "cell_type": "code",
   "execution_count": 41,
   "id": "1b82aef9",
   "metadata": {},
   "outputs": [],
   "source": [
    "def GroverFixedPointGate(GraphLaplacian: list[list[int]], digits: int, l: int, delta: float):\n",
    "\n",
    "    L = 2*l + 1\n",
    "    gamma = np.sqrt(1 - 1 / pow(np.cosh(np.arccosh(1/delta) / L), 2))\n",
    "\n",
    "    alpha = [2 * np.arctan(1 / (gamma * np.tan(2 * np.pi * j / L))) for j in range(1, l + 1)]\n",
    "    \n",
    "    U_C = EnergyOracle(GraphLaplacian, digits)\n",
    "    U_C_inverse = U_C.inverse()\n",
    "\n",
    "    QRegX = QuantumRegister(len(GraphLaplacian), \"x\")\n",
    "    QRegY = QuantumRegister(digits, \"y\")\n",
    "\n",
    "    QC = QuantumCircuit(QRegX, QRegY)\n",
    "\n",
    "    QC.h(QRegX)\n",
    "\n",
    "    for _, (a, b) in enumerate(zip(alpha, reversed(alpha))):\n",
    "\n",
    "        # S_t (beta)\n",
    "        QC.append(U_C, QRegX[:] + QRegY[:])\n",
    "        QC.p(- b, QRegY[0])\n",
    "        QC.append(U_C_inverse, QRegX[:] + QRegY[:])\n",
    "        \n",
    "        # S_s (alpha)\n",
    "        QC.h(QRegX)\n",
    "        QC.x(QRegX)\n",
    "        # can we improve on mcp???\n",
    "        QC.mcp(a, QRegX[:-1], QRegX[-1])\n",
    "        QC.x(QRegX)\n",
    "        QC.h(QRegX)\n",
    "\n",
    "    return QC.to_gate()"
   ]
  },
  {
   "attachments": {},
   "cell_type": "markdown",
   "id": "993346e4",
   "metadata": {},
   "source": [
    "#### the following builds the circuit for the new QAOA"
   ]
  },
  {
   "cell_type": "code",
   "execution_count": 42,
   "id": "7785745f",
   "metadata": {},
   "outputs": [],
   "source": [
    "def GroverQAOACircuit(GraphLaplacian: list[list[int]], digits: int, y: int, delta: float, l: int, bangs: list[list[int]], NumberOfShots: int):\n",
    "\n",
    "    # one quantum/classical register pair for each vertex\n",
    "    QRegX = QuantumRegister(len(GraphLaplacian), \"x\")\n",
    "    ClRegX = ClassicalRegister(len(GraphLaplacian), \"cl-x\")\n",
    "\n",
    "    # quantum registers to digitize y\n",
    "    QRegY = QuantumRegister(digits, \"y\")\n",
    "\n",
    "    QC = QuantumCircuit(QRegX, QRegY, ClRegX)\n",
    "\n",
    "    GroverMixer = GroverFixedPointGate(GraphLaplacian, digits, l, delta)\n",
    "    GroverMixer.label = \"GroverMixer\"\n",
    "    InverseGroverMixer = GroverMixer.inverse()\n",
    "    InverseGroverMixer.label = \"GroverMixerInverse\"\n",
    "\n",
    "    for q in QRegX:\n",
    "        QC.initialize([1, 0], q)\n",
    "\n",
    "    for i, q in enumerate(QRegY):\n",
    "        # y - 1 is used, so states with f(x) >= y are flagged\n",
    "        QC.initialize([1 - ((y-1) >> (digits - i - 1))%2, ((y-1) >> (digits - i - 1))%2], q)\n",
    "\n",
    "    QC.append(GroverMixer, QRegX[:] + QRegY[:])\n",
    "\n",
    "    # the bangs / p = len(bangs) / going backward per convention\n",
    "    for bang in reversed(bangs):\n",
    "\n",
    "        # this implements the phase-bang\n",
    "        for i, q in enumerate(QRegY):\n",
    "            QC.p(bang[1] *(1 << (digits - i - 1)), q)\n",
    "\n",
    "        # this is the Grover-bang\n",
    "        QC.append(InverseGroverMixer, QRegX[:] + QRegY[:])\n",
    "        QC.x(QRegX)\n",
    "        # can we improve on mcp???\n",
    "        QC.mcp(bang[0], QRegX[:-1], QRegX[-1])\n",
    "        QC.x(QRegX)\n",
    "        QC.append(GroverMixer, QRegX[:] + QRegY[:])\n",
    "\n",
    "    QC.measure(QRegX, ClRegX)\n",
    "    \n",
    "    #display(QC.draw(output='mpl'))\n",
    "    \n",
    "    # error probabilities\n",
    "    p_reset = 0.03\n",
    "    p_meas = 0.1\n",
    "    p_gate1 = 0.05\n",
    "\n",
    "    # QuantumError objects (???)\n",
    "    error_reset = pauli_error([('X', p_reset), ('I', 1 - p_reset)])\n",
    "    error_meas = pauli_error([('X',p_meas), ('I', 1 - p_meas)])\n",
    "    error_gate1 = pauli_error([('X',p_gate1), ('I', 1 - p_gate1)])\n",
    "    error_gate2 = error_gate1.tensor(error_gate1)\n",
    "    \n",
    "    # errors to noise model\n",
    "    noise_bit_flip = NoiseModel()\n",
    "    noise_bit_flip.add_all_qubit_quantum_error(error_reset, \"reset\")\n",
    "    noise_bit_flip.add_all_qubit_quantum_error(error_meas, \"measure\")\n",
    "    noise_bit_flip.add_all_qubit_quantum_error(error_gate1, [\"u1\", \"u2\", \"u3\"])\n",
    "    noise_bit_flip.add_all_qubit_quantum_error(error_gate2, [\"cx\"])\n",
    "\n",
    "    # simulation\n",
    "    noisy_simulator = AerSimulator(noise_model=noise_bit_flip)\n",
    "    transpiled_QC = transpile(QC, noisy_simulator)    \n",
    "    counts = noisy_simulator.run(transpiled_QC, shots=ShotNumber).result().get_counts(transpiled_QC)\n",
    "\n",
    "    M = 0\n",
    "    bestcut = 0\n",
    "    bestcutconf = np.zeros(len(GraphLaplacian), dtype=int)\n",
    "    for s in counts:\n",
    "        conf = np.array([int(x) for x in reversed(s)])\n",
    "        m = np.matmul(conf, np.matmul(GraphLaplacian, np.transpose(conf)))\n",
    "        M += m * counts[s]\n",
    "        if m > bestcut:\n",
    "            bestcut = m\n",
    "            bestcutconf = conf\n",
    "\n",
    "    return [bestcut, M / NumberOfShots, bangs, bestcutconf]"
   ]
  },
  {
   "attachments": {},
   "cell_type": "markdown",
   "id": "5daaff90",
   "metadata": {},
   "source": [
    "#### graph plotter"
   ]
  },
  {
   "cell_type": "code",
   "execution_count": 43,
   "id": "3bc9844d",
   "metadata": {},
   "outputs": [],
   "source": [
    "import networkx as nx\n",
    "\n",
    "def createGraph(GraphLaplacian: list[list[int]]):\n",
    "    Edges = []\n",
    "    for i, row in enumerate(GraphLaplacian):\n",
    "        for j, v in enumerate(row[:i]):\n",
    "            if v == - 1:\n",
    "                Edges.append([j, i])\n",
    "    Graph = nx.Graph()\n",
    "    Graph.add_edges_from(Edges)\n",
    "    nx.draw_networkx(Graph)"
   ]
  },
  {
   "attachments": {},
   "cell_type": "markdown",
   "id": "7364edf6",
   "metadata": {},
   "source": [
    "## TESTING:"
   ]
  },
  {
   "attachments": {},
   "cell_type": "markdown",
   "id": "7ca40d78",
   "metadata": {},
   "source": [
    "### parameters"
   ]
  },
  {
   "cell_type": "code",
   "execution_count": 47,
   "id": "149f166a",
   "metadata": {
    "scrolled": true
   },
   "outputs": [
    {
     "data": {
      "text/plain": [
       "'\\nfor i in range(1, p):\\n    NewGridPaths = []\\n    for angles in GridPaths:\\n        for pair in grid:\\n            d = [(pair[0] - angles[-1][0])%BetaGrid, (pair[1] - angles[-1][1])%GammaGrid]\\n            if abs(d[0]) + abs(d[1]) <= D:\\n                NewGridPaths.append(angles + [pair])\\n    GridPaths = NewGridPaths\\n'"
      ]
     },
     "execution_count": 47,
     "metadata": {},
     "output_type": "execute_result"
    },
    {
     "data": {
      "image/png": "[encoded data removed]",
      "text/plain": [
       "<Figure size 640x480 with 1 Axes>"
      ]
     },
     "metadata": {},
     "output_type": "display_data"
    }
   ],
   "source": [
    "# independent inputs\n",
    "NumberOfVerticies = 12\n",
    "RootLambda = 1/3 # ratio of good states to all states\n",
    "P_L = 0.9\n",
    "NumberOfShots = 10\n",
    "\n",
    "# from the input we compute the following\n",
    "delta = np.sqrt(1 - P_L)\n",
    "l = int(np.ceil(np.arccosh(1/delta) / np.arccosh(1/np.sqrt(1 - RootLambda*RootLambda)))) // 2\n",
    "\n",
    "# create random, connected graph\n",
    "NumberOfComponents = 0\n",
    "\n",
    "while NumberOfComponents != 1:\n",
    "    GraphLaplacian = np.zeros((NumberOfVerticies, NumberOfVerticies), dtype=int)\n",
    "    for i in range(NumberOfVerticies):\n",
    "        for j in range(i + 1, NumberOfVerticies):\n",
    "            if np.random.randint(0, 2) == 1:\n",
    "                GraphLaplacian[i][j] = GraphLaplacian[j][i] = - 1\n",
    "        GraphLaplacian[i][i] = - np.sum(GraphLaplacian[i])\n",
    "\n",
    "    NumberOfComponents = NumberOfVerticies - np.linalg.matrix_rank(GraphLaplacian)\n",
    "\n",
    "createGraph(GraphLaplacian)\n",
    "\n",
    "NumberOfEdges = np.trace(GraphLaplacian) // 2\n",
    "\n",
    "y = (4 * NumberOfVerticies + int(np.sqrt(8*NumberOfVerticies + 1) - 1)) // 8 if NumberOfComponents == 1 else (2 * NumberOfVerticies + NumberOfEdges - 1) // 4 # one less then the Erdos-Edwards bound\n",
    "digits = int(np.ceil(np.log2(NumberOfEdges))) + 1 # + 1 for the sign\n",
    "\n",
    "\n",
    "\n",
    "# this generates a grid\n",
    "BetaGrid = 3\n",
    "GammaGrid = 3\n",
    "D = 1\n",
    "p = 1\n",
    "\n",
    "grid = []\n",
    "for beta in range(1, BetaGrid):\n",
    "    for gamma in range(1, GammaGrid):\n",
    "        grid.append([beta, gamma])\n",
    "\n",
    "GridPaths = []\n",
    "for pair in grid:\n",
    "    GridPaths.append([pair])\n",
    "\n",
    "# constant paths\n",
    "for angles in GridPaths:\n",
    "    for i in range(1, p):\n",
    "        angles += [angles[-1]]\n",
    "\n",
    "'''\n",
    "for i in range(1, p):\n",
    "    NewGridPaths = []\n",
    "    for angles in GridPaths:\n",
    "        for pair in grid:\n",
    "            d = [(pair[0] - angles[-1][0])%BetaGrid, (pair[1] - angles[-1][1])%GammaGrid]\n",
    "            if abs(d[0]) + abs(d[1]) <= D:\n",
    "                NewGridPaths.append(angles + [pair])\n",
    "    GridPaths = NewGridPaths\n",
    "'''"
   ]
  },
  {
   "attachments": {},
   "cell_type": "markdown",
   "id": "02eec6db",
   "metadata": {},
   "source": [
    "### results:"
   ]
  },
  {
   "cell_type": "code",
   "execution_count": 48,
   "id": "016ec09c",
   "metadata": {},
   "outputs": [
    {
     "ename": "KeyboardInterrupt",
     "evalue": "",
     "output_type": "error",
     "traceback": [
      "\u001b[0;31m---------------------------------------------------------------------------\u001b[0m",
      "\u001b[0;31mIndexError\u001b[0m                                Traceback (most recent call last)",
      "File \u001b[0;32m/usr/lib/python3.11/multiprocessing/pool.py:856\u001b[0m, in \u001b[0;36mIMapIterator.next\u001b[0;34m(self, timeout)\u001b[0m\n\u001b[1;32m    855\u001b[0m \u001b[39mtry\u001b[39;00m:\n\u001b[0;32m--> 856\u001b[0m     item \u001b[39m=\u001b[39m \u001b[39mself\u001b[39m\u001b[39m.\u001b[39m_items\u001b[39m.\u001b[39mpopleft()\n\u001b[1;32m    857\u001b[0m \u001b[39mexcept\u001b[39;00m \u001b[39mIndexError\u001b[39;00m:\n",
      "\u001b[0;31mIndexError\u001b[0m: pop from an empty deque",
      "\nDuring handling of the above exception, another exception occurred:\n",
      "\u001b[0;31mKeyboardInterrupt\u001b[0m                         Traceback (most recent call last)",
      "Cell \u001b[0;32mIn[48], line 7\u001b[0m\n\u001b[1;32m      4\u001b[0m     \u001b[39mreturn\u001b[39;00m GroverQAOACircuit(GraphLaplacian, digits, y, delta, l, angles, NumberOfShots)\n\u001b[1;32m      6\u001b[0m \u001b[39mwith\u001b[39;00m Pool() \u001b[39mas\u001b[39;00m pool:\n\u001b[0;32m----> 7\u001b[0m     results \u001b[39m=\u001b[39m \u001b[39mlist\u001b[39;49m(pool\u001b[39m.\u001b[39;49mimap_unordered(GQAOA, GridPaths))\n\u001b[1;32m      9\u001b[0m results\u001b[39m.\u001b[39msort(key \u001b[39m=\u001b[39m \u001b[39mlambda\u001b[39;00m x: x[\u001b[39m1\u001b[39m])\n\u001b[1;32m     11\u001b[0m \u001b[39m'''\u001b[39;00m\n\u001b[1;32m     12\u001b[0m \u001b[39mfor angles in GridPaths:\u001b[39;00m\n\u001b[1;32m     13\u001b[0m \u001b[39m    counts = GroverQAOACircuit(GraphLaplacian, digits, y, delta, l, angles, NumberOfShots)\u001b[39;00m\n\u001b[0;32m   (...)\u001b[0m\n\u001b[1;32m     32\u001b[0m \u001b[39mprint()\u001b[39;00m\n\u001b[1;32m     33\u001b[0m \u001b[39m'''\u001b[39;00m\n",
      "File \u001b[0;32m/usr/lib/python3.11/multiprocessing/pool.py:861\u001b[0m, in \u001b[0;36mIMapIterator.next\u001b[0;34m(self, timeout)\u001b[0m\n\u001b[1;32m    859\u001b[0m     \u001b[39mself\u001b[39m\u001b[39m.\u001b[39m_pool \u001b[39m=\u001b[39m \u001b[39mNone\u001b[39;00m\n\u001b[1;32m    860\u001b[0m     \u001b[39mraise\u001b[39;00m \u001b[39mStopIteration\u001b[39;00m \u001b[39mfrom\u001b[39;00m \u001b[39mNone\u001b[39;00m\n\u001b[0;32m--> 861\u001b[0m \u001b[39mself\u001b[39;49m\u001b[39m.\u001b[39;49m_cond\u001b[39m.\u001b[39;49mwait(timeout)\n\u001b[1;32m    862\u001b[0m \u001b[39mtry\u001b[39;00m:\n\u001b[1;32m    863\u001b[0m     item \u001b[39m=\u001b[39m \u001b[39mself\u001b[39m\u001b[39m.\u001b[39m_items\u001b[39m.\u001b[39mpopleft()\n",
      "File \u001b[0;32m/usr/lib/python3.11/threading.py:320\u001b[0m, in \u001b[0;36mCondition.wait\u001b[0;34m(self, timeout)\u001b[0m\n\u001b[1;32m    318\u001b[0m \u001b[39mtry\u001b[39;00m:    \u001b[39m# restore state no matter what (e.g., KeyboardInterrupt)\u001b[39;00m\n\u001b[1;32m    319\u001b[0m     \u001b[39mif\u001b[39;00m timeout \u001b[39mis\u001b[39;00m \u001b[39mNone\u001b[39;00m:\n\u001b[0;32m--> 320\u001b[0m         waiter\u001b[39m.\u001b[39;49macquire()\n\u001b[1;32m    321\u001b[0m         gotit \u001b[39m=\u001b[39m \u001b[39mTrue\u001b[39;00m\n\u001b[1;32m    322\u001b[0m     \u001b[39melse\u001b[39;00m:\n",
      "\u001b[0;31mKeyboardInterrupt\u001b[0m: "
     ]
    }
   ],
   "source": [
    "from multiprocessing import Pool\n",
    "\n",
    "def GQAOA(angles):\n",
    "    return GroverQAOACircuit(GraphLaplacian, digits, y, delta, l, angles, NumberOfShots)\n",
    "\n",
    "with Pool() as pool:\n",
    "    results = list(pool.imap_unordered(GQAOA, GridPaths))\n",
    "\n",
    "results.sort(key = lambda x: x[1])\n",
    "\n",
    "\n",
    "\n",
    "\n",
    "\n",
    "s = f\"cut threshold\\t\\t= {y}\\nGrover query complexity\\t= {l}\\nsquare root of lambda\\t= {RootLambda}\\nP_L\\t\\t\\t= {P_L * 100}%\\np\\t\\t\\t= {p}\\nBetaGrid\\t\\t= {BetaGrid}\\nGammaGrid\\t\\t= {GammaGrid}\\n\\nmaxcut\\tM\\tconfiguration\\t\\t\\tangle\\n\\n\"\n",
    "for result in results[-10:]:\n",
    "    s += f\"{result[0]}\\t{result[1]}\\t{result[3]}\\t{result[2]}\\n\"\n",
    "s += f\"\\nthe graph (number of edges = {np.trace(GraphLaplacian) // 2}, maxcut = {MaxCut}, ratio = {results[-1][0] / MaxCut})\\n\\n\"\n",
    "for row in GraphLaplacian:\n",
    "    s += f\"{row.view()}\\n\"\n",
    "\n",
    "print(s)"
   ]
  },
  {
   "cell_type": "code",
   "execution_count": 50,
   "id": "db282c0e",
   "metadata": {},
   "outputs": [
    {
     "name": "stdout",
     "output_type": "stream",
     "text": [
      "MaxCut\t= 23\n",
      "maxcont\t= [0 0 1 1 1 1 0 1 1 0 0 0]\n"
     ]
    }
   ],
   "source": [
    "MaxCut = 0\n",
    "maxconf = np.zeros(NumberOfVerticies)\n",
    "for x in range(1 << (NumberOfVerticies - 1)):\n",
    "    conf = np.array([(x >> i)&1 for i in range(NumberOfVerticies)])\n",
    "    cut = np.matmul(conf, np.matmul(GraphLaplacian, np.transpose(conf)))\n",
    "    if cut > MaxCut:\n",
    "        MaxCut = cut\n",
    "        maxconf = conf\n",
    "\n",
    "print(f\"MaxCut\\t= {MaxCut}\\nmaxconf\\t= {maxconf}\")"
   ]
  },
  {
   "cell_type": "code",
   "execution_count": null,
   "id": "55cb1605",
   "metadata": {},
   "outputs": [],
   "source": []
  }
 ],
 "metadata": {
  "kernelspec": {
   "display_name": "Python 3 (ipykernel)",
   "language": "python",
   "name": "python3"
  },
  "language_info": {
   "codemirror_mode": {
    "name": "ipython",
    "version": 3
   },
   "file_extension": ".py",
   "mimetype": "text/x-python",
   "name": "python",
   "nbconvert_exporter": "python",
   "pygments_lexer": "ipython3",
   "version": "3.11.3"
  }
 },
 "nbformat": 4,
 "nbformat_minor": 5
}
