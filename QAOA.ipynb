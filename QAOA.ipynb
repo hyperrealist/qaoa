{
 "cells": [
  {
   "cell_type": "code",
   "execution_count": 31,
   "id": "90b644ab",
   "metadata": {},
   "outputs": [],
   "source": [
    "#function for creating initial state\n",
    "def initialState(nqubits):\n",
    "    init = Circuit()\n",
    "    for i in range(nqubits):\n",
    "        init = init.x(i).h(i)\n",
    "    return init\n"
   ]
  },
  {
   "cell_type": "code",
   "execution_count": 32,
   "id": "1e192f81",
   "metadata": {},
   "outputs": [],
   "source": [
    "#applies mixer hamiltonian\n",
    "def mixer(nqubits, beta):\n",
    "    mixerU = Circuit()\n",
    "    for i in range(nqubits):\n",
    "        mixerU = mixerU.rx(i, -2*beta)\n",
    "    return mixerU"
   ]
  },
  {
   "cell_type": "code",
   "execution_count": 33,
   "id": "24dd1642",
   "metadata": {},
   "outputs": [],
   "source": [
    "#applies problem hamiltonian\n",
    "def problem(nqubits, objective, gamma):\n",
    "    problemU = Circuit()\n",
    "    #diagonals\n",
    "    for i in range (nqubits):\n",
    "        obj = objective[i,i]\n",
    "        if obj != 0:\n",
    "            problemU = problemU.rz(i, -2*gamma*obj)\n",
    "    \n",
    "    #coupled terms\n",
    "    for i in range (nqubits):\n",
    "        for j in range (nqubits):\n",
    "            if i < j:\n",
    "                obj = objective[i,j]\n",
    "                if obj != 0:\n",
    "                    problemU = problemU.zz(i, j, -2*gamma*obj)\n",
    "    return problemU\n"
   ]
  },
  {
   "cell_type": "code",
   "execution_count": 38,
   "id": "8dd2287d",
   "metadata": {},
   "outputs": [],
   "source": [
    "def createCirc(objective, params):\n",
    "    circ = Circuit()\n",
    "    nqubits = int(m.sqrt(objective.size))\n",
    "    circ.add(initialState(nqubits))\n",
    "    \n",
    "    layers = int(len(params)/2)\n",
    "    gammas = params[:layers]\n",
    "    betas = params[layers:]\n",
    "    \n",
    "    #alternating layers of circuit\n",
    "    for i in range(layers):\n",
    "        circ.add(problem(nqubits, objective, gammas[i]))\n",
    "        circ.add(mixer(nqubits, betas[i]))\n",
    "        \n",
    "    return circ"
   ]
  },
  {
   "cell_type": "code",
   "execution_count": 35,
   "id": "a9ccc25b",
   "metadata": {},
   "outputs": [],
   "source": [
    "import numpy as np\n",
    "import math as m\n",
    "from scipy.optimize import minimize\n",
    "from braket.circuits import Circuit, Observable, FreeParameter\n",
    "from braket.aws import AwsSession, AwsDevice\n",
    "from braket.devices import LocalSimulator"
   ]
  },
  {
   "cell_type": "code",
   "execution_count": 45,
   "id": "254b0945",
   "metadata": {},
   "outputs": [],
   "source": [
    "#for simulator\n",
    "def getExpection(params):\n",
    "    global objective\n",
    "    global shots\n",
    "    global maxIter\n",
    "    global method\n",
    "    global backend\n",
    "        \n",
    "    circ = createCirc(objective, params)\n",
    "    result = backend.run(circ, shots = shots).result()\n",
    "    counts = result.measurement_counts()\n",
    "    pairs = zip(counts.keys(), counts.values())\n",
    "        \n",
    "    avgE = 0\n",
    "    allE = 0\n",
    "    for key, value in pairs:\n",
    "        avgE += sumE(objective, key) * value\n",
    "        allE += value\n",
    "        \n",
    "    #returns the expectation value of ALL the values in our solution set\n",
    "    return avgE/allE"
   ]
  },
  {
   "cell_type": "code",
   "execution_count": 43,
   "id": "55c191a9",
   "metadata": {},
   "outputs": [],
   "source": [
    "def sumE(objective, keys):\n",
    "    variables = []\n",
    "    for i in range(len(keys)):\n",
    "        if keys[i] == '1':\n",
    "            variables.append(i)\n",
    "    sumE = 0\n",
    "    for var1 in variables:\n",
    "        sumE += objective[var1, var1]\n",
    "        for var2 in variables:\n",
    "            if var1 < var2:\n",
    "                sumE += objective[var1, var2]\n",
    "    return sumE"
   ]
  },
  {
   "cell_type": "code",
   "execution_count": 39,
   "id": "53f2f930",
   "metadata": {},
   "outputs": [
    {
     "name": "stdout",
     "output_type": "stream",
     "text": [
      "Printing test circuit:\n",
      "T  : |0|1|      2       |      3       |      4       |      5       |      6       |      7       |      8      |\n",
      "                                                                                                                  \n",
      "q0 : -X-H-Rz(-2*gamma_1)-ZZ(-2*gamma_1)-Rx(-2*beta_1)--Rz(-2*gamma_2)-ZZ(-2*gamma_2)-Rx(-2*beta_2)----------------\n",
      "                         |                                            |                                           \n",
      "q1 : -X-H----------------|--------------ZZ(-2*gamma_1)-Rx(-2*beta_1)--|--------------ZZ(-2*gamma_2)-Rx(-2*beta_2)-\n",
      "                         |              |                             |              |                            \n",
      "q2 : -X-H----------------ZZ(-2*gamma_1)-ZZ(-2*gamma_1)-Rx(-2*beta_1)--ZZ(-2*gamma_2)-ZZ(-2*gamma_2)-Rx(-2*beta_2)-\n",
      "\n",
      "T  : |0|1|      2       |      3       |      4       |      5       |      6       |      7       |      8      |\n",
      "\n",
      "Unassigned parameters: [beta_1, beta_2, gamma_1, gamma_2].\n"
     ]
    }
   ],
   "source": [
    "# create parameters\n",
    "gammas = [FreeParameter('gamma_1'), FreeParameter('gamma_2')]\n",
    "betas = [FreeParameter('beta_1'), FreeParameter('beta_2')]\n",
    "params = gammas + betas\n",
    "\n",
    "#objective matrix test\n",
    "J_sub = np.array([[1, 0, 1], [0, 0, 1], [0, 0, 0]])\n",
    "\n",
    "# get test circuit\n",
    "testCirc = createCirc(J_sub, params)\n",
    "\n",
    "# print test circuit\n",
    "print('Printing test circuit:')\n",
    "print(testCirc)"
   ]
  },
  {
   "cell_type": "code",
   "execution_count": null,
   "id": "e2d49a41",
   "metadata": {},
   "outputs": [],
   "source": [
    "#uncomment to try simulator\n",
    "# objective = J_sub\n",
    "# shots = 10\n",
    "# maxIter = 1\n",
    "# method = 'COBYLA'\n",
    "# backend = LocalSimulator()\n",
    "    \n",
    "# res = minimize(getExpection, params0, method = method, options = {'maxiter' = maxiter})\n",
    "# res"
   ]
  }
 ],
 "metadata": {
  "kernelspec": {
   "display_name": "conda_braket",
   "language": "python",
   "name": "conda_braket"
  },
  "language_info": {
   "codemirror_mode": {
    "name": "ipython",
    "version": 3
   },
   "file_extension": ".py",
   "mimetype": "text/x-python",
   "name": "python",
   "nbconvert_exporter": "python",
   "pygments_lexer": "ipython3",
   "version": "3.8.16"
  }
 },
 "nbformat": 4,
 "nbformat_minor": 5
}
