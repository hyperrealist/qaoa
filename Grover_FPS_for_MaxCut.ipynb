{
  "cells": [
    {
      "cell_type": "markdown",
      "source": [
        "# preparations"
      ],
      "metadata": {
        "id": "THzaoqHo13RE"
      },
      "id": "THzaoqHo13RE"
    },
    {
      "cell_type": "markdown",
      "source": [
        "## loading necessary libraries"
      ],
      "metadata": {
        "id": "IPRVQYBNTx8w"
      },
      "id": "IPRVQYBNTx8w"
    },
    {
      "cell_type": "code",
      "execution_count": 94,
      "metadata": {
        "colab": {
          "base_uri": "https://localhost:8080/"
        },
        "id": "cd0b0630",
        "outputId": "c53ed8f3-185f-4952-dffc-d39642658a41"
      },
      "outputs": [
        {
          "output_type": "stream",
          "name": "stdout",
          "text": [
            "Looking in indexes: https://pypi.org/simple, https://us-python.pkg.dev/colab-wheels/public/simple/\n",
            "Requirement already satisfied: qiskit in /usr/local/lib/python3.10/dist-packages (0.43.1)\n",
            "Requirement already satisfied: qiskit-terra==0.24.1 in /usr/local/lib/python3.10/dist-packages (from qiskit) (0.24.1)\n",
            "Requirement already satisfied: qiskit-aer==0.12.0 in /usr/local/lib/python3.10/dist-packages (from qiskit) (0.12.0)\n",
            "Requirement already satisfied: qiskit-ibmq-provider==0.20.2 in /usr/local/lib/python3.10/dist-packages (from qiskit) (0.20.2)\n",
            "Requirement already satisfied: numpy>=1.16.3 in /usr/local/lib/python3.10/dist-packages (from qiskit-aer==0.12.0->qiskit) (1.22.4)\n",
            "Requirement already satisfied: scipy>=1.0 in /usr/local/lib/python3.10/dist-packages (from qiskit-aer==0.12.0->qiskit) (1.10.1)\n",
            "Requirement already satisfied: requests>=2.19 in /usr/local/lib/python3.10/dist-packages (from qiskit-ibmq-provider==0.20.2->qiskit) (2.27.1)\n",
            "Requirement already satisfied: requests-ntlm<=1.1.0 in /usr/local/lib/python3.10/dist-packages (from qiskit-ibmq-provider==0.20.2->qiskit) (1.1.0)\n",
            "Requirement already satisfied: urllib3>=1.21.1 in /usr/local/lib/python3.10/dist-packages (from qiskit-ibmq-provider==0.20.2->qiskit) (1.26.15)\n",
            "Requirement already satisfied: python-dateutil>=2.8.0 in /usr/local/lib/python3.10/dist-packages (from qiskit-ibmq-provider==0.20.2->qiskit) (2.8.2)\n",
            "Requirement already satisfied: websocket-client>=1.5.1 in /usr/local/lib/python3.10/dist-packages (from qiskit-ibmq-provider==0.20.2->qiskit) (1.5.1)\n",
            "Requirement already satisfied: websockets>=10.0 in /usr/local/lib/python3.10/dist-packages (from qiskit-ibmq-provider==0.20.2->qiskit) (11.0.3)\n",
            "Requirement already satisfied: rustworkx>=0.12.0 in /usr/local/lib/python3.10/dist-packages (from qiskit-terra==0.24.1->qiskit) (0.13.0)\n",
            "Requirement already satisfied: ply>=3.10 in /usr/local/lib/python3.10/dist-packages (from qiskit-terra==0.24.1->qiskit) (3.11)\n",
            "Requirement already satisfied: psutil>=5 in /usr/local/lib/python3.10/dist-packages (from qiskit-terra==0.24.1->qiskit) (5.9.5)\n",
            "Requirement already satisfied: sympy>=1.3 in /usr/local/lib/python3.10/dist-packages (from qiskit-terra==0.24.1->qiskit) (1.11.1)\n",
            "Requirement already satisfied: dill>=0.3 in /usr/local/lib/python3.10/dist-packages (from qiskit-terra==0.24.1->qiskit) (0.3.6)\n",
            "Requirement already satisfied: stevedore>=3.0.0 in /usr/local/lib/python3.10/dist-packages (from qiskit-terra==0.24.1->qiskit) (5.1.0)\n",
            "Requirement already satisfied: symengine<0.10,>=0.9 in /usr/local/lib/python3.10/dist-packages (from qiskit-terra==0.24.1->qiskit) (0.9.2)\n",
            "Requirement already satisfied: six>=1.5 in /usr/local/lib/python3.10/dist-packages (from python-dateutil>=2.8.0->qiskit-ibmq-provider==0.20.2->qiskit) (1.16.0)\n",
            "Requirement already satisfied: certifi>=2017.4.17 in /usr/local/lib/python3.10/dist-packages (from requests>=2.19->qiskit-ibmq-provider==0.20.2->qiskit) (2022.12.7)\n",
            "Requirement already satisfied: charset-normalizer~=2.0.0 in /usr/local/lib/python3.10/dist-packages (from requests>=2.19->qiskit-ibmq-provider==0.20.2->qiskit) (2.0.12)\n",
            "Requirement already satisfied: idna<4,>=2.5 in /usr/local/lib/python3.10/dist-packages (from requests>=2.19->qiskit-ibmq-provider==0.20.2->qiskit) (3.4)\n",
            "Requirement already satisfied: ntlm-auth>=1.0.2 in /usr/local/lib/python3.10/dist-packages (from requests-ntlm<=1.1.0->qiskit-ibmq-provider==0.20.2->qiskit) (1.5.0)\n",
            "Requirement already satisfied: cryptography>=1.3 in /usr/local/lib/python3.10/dist-packages (from requests-ntlm<=1.1.0->qiskit-ibmq-provider==0.20.2->qiskit) (40.0.2)\n",
            "Requirement already satisfied: pbr!=2.1.0,>=2.0.0 in /usr/local/lib/python3.10/dist-packages (from stevedore>=3.0.0->qiskit-terra==0.24.1->qiskit) (5.11.1)\n",
            "Requirement already satisfied: mpmath>=0.19 in /usr/local/lib/python3.10/dist-packages (from sympy>=1.3->qiskit-terra==0.24.1->qiskit) (1.3.0)\n",
            "Requirement already satisfied: cffi>=1.12 in /usr/local/lib/python3.10/dist-packages (from cryptography>=1.3->requests-ntlm<=1.1.0->qiskit-ibmq-provider==0.20.2->qiskit) (1.15.1)\n",
            "Requirement already satisfied: pycparser in /usr/local/lib/python3.10/dist-packages (from cffi>=1.12->cryptography>=1.3->requests-ntlm<=1.1.0->qiskit-ibmq-provider==0.20.2->qiskit) (2.21)\n"
          ]
        }
      ],
      "source": [
        "%pip install qiskit\n",
        "\n",
        "from qiskit import QuantumCircuit, QuantumRegister, execute\n",
        "from qiskit_aer import AerSimulator\n",
        "from qiskit_aer.noise import NoiseModel, pauli_error, ReadoutError, thermal_relaxation_error, depolarizing_error\n",
        "from qiskit.quantum_info import Statevector\n",
        "\n",
        "import numpy as np\n",
        "import networkx as nx\n",
        "import matplotlib.pyplot as plt\n",
        "import time"
      ],
      "id": "cd0b0630"
    },
    {
      "cell_type": "markdown",
      "source": [
        "## noise model based on IonQ's Aria specifications:\n",
        "depolarizing error probability is probabilities adjusted from thermal noise infidelity: $p = e^{-t/T_2}$ with gate time for $t$"
      ],
      "metadata": {
        "id": "kZZELK6X0Djw"
      },
      "id": "kZZELK6X0Djw"
    },
    {
      "cell_type": "code",
      "source": [
        "# error probabilities\n",
        "p_meas = 0.39/100\n",
        "p_reset = 0.39/100\n",
        "p_gate1 = 0.06/100\n",
        "p_gate2 = 0.6/100\n",
        "\n",
        "# thermal relaxation error (nanosecond time)\n",
        "T1s = np.random.choice(range(10, 100), 10, replace=False) # consider adjusting range to be more reasonable\n",
        "T2 = 1e9\n",
        "\n",
        "time_meas = np.random.choice(range(600, 700), 10, replace=False)\n",
        "time_u1 = 0 # virtual gate\n",
        "time_gate1 = 135e3 # u1 and u2\n",
        "time_gate2 = 600e3 # 2 qubit gate\n",
        "\n",
        "# thermal relaxation error\n",
        "ther_u1  = [thermal_relaxation_error(t1 * 1e9, T2, time_u1)\n",
        "              for t1 in T1s]\n",
        "ther_gate1  = [thermal_relaxation_error(t1 * 1e9, T2, time_gate1)\n",
        "              for t1 in T1s]\n",
        "ther_gate2 = [[thermal_relaxation_error(t1a * 1e9, T2, time_gate2).expand(\n",
        "             thermal_relaxation_error(t1b * 1e9, T2, time_gate2))\n",
        "              for t1a in T1s]\n",
        "               for t1b in T1s]\n",
        "\n",
        "# depolarizing error\n",
        "dep_reset = depolarizing_error(p_reset, 1)\n",
        "dep_gate1 = depolarizing_error(p_gate1 - 1.34990888e-4, 1)\n",
        "dep_gate2 = depolarizing_error(p_gate2 - 5.99820036e-4, 2)\n",
        "\n",
        "# readout error\n",
        "er_meas = ReadoutError([[1 - p_meas, p_meas], [p_meas, 1 - p_meas]])\n",
        "\n",
        "# creating the noise model\n",
        "fake_aria = NoiseModel()\n",
        "\n",
        "for j in range(10):\n",
        "    fake_aria.add_quantum_error(ther_u1[j].compose(dep_gate1), \"u1\", [j])\n",
        "    fake_aria.add_quantum_error(ther_gate1[j].compose(dep_gate1), \"u2\", [j])\n",
        "    fake_aria.add_quantum_error(ther_gate1[j].compose(dep_gate1), \"u3\", [j])\n",
        "    for k in range(10):\n",
        "        fake_aria.add_quantum_error(ther_gate2[j][k].compose(dep_gate2), \"cx\", [j, k])\n",
        "fake_aria.add_all_qubit_quantum_error(dep_reset, \"reset\")\n",
        "fake_aria.add_all_qubit_readout_error(er_meas)"
      ],
      "metadata": {
        "id": "zTeDgrXH0Dq1"
      },
      "id": "zTeDgrXH0Dq1",
      "execution_count": 95,
      "outputs": []
    },
    {
      "cell_type": "markdown",
      "source": [
        "## miscellaneous"
      ],
      "metadata": {
        "id": "3Lt1OKYJ0OrK"
      },
      "id": "3Lt1OKYJ0OrK"
    },
    {
      "cell_type": "code",
      "source": [
        "#graph plotter\n",
        "def createGraph(GraphLaplacian: list[list[int]]):\n",
        "    Edges = []\n",
        "    for i, row in enumerate(GraphLaplacian):\n",
        "        for j, v in enumerate(row[:i]):\n",
        "            if v == - 1:\n",
        "                Edges.append([j, i])\n",
        "    Graph = nx.Graph()\n",
        "    Graph.add_edges_from(Edges)\n",
        "    nx.draw_networkx(Graph)\n",
        "\n",
        "# \n",
        "def Chebyshev(x: float, L:  float):\n",
        "    return np.cos(L * np.arccos(x)) if x <= 1 else np.cosh(L * np.arccosh(x))\n",
        "\n",
        "def grover_parameter_finder(P: float, Lambda: float, N: int):\n",
        "    step = 1 / (1 << N)\n",
        "    L_bound = 1\n",
        "    p = 0\n",
        "    while p < P:\n",
        "        delta = step\n",
        "        l = int(np.ceil(np.arccosh(1 / delta) / np.arccosh(1 / np.sqrt(1 - Lambda)))) >> 1\n",
        "        while l > L_bound:\n",
        "            delta += step\n",
        "            l = int(np.ceil(np.arccosh(1 / delta) / np.arccosh(1 / np.sqrt(1 - Lambda)))) >> 1\n",
        "        while delta < 1 and p < P:\n",
        "            p = 1 - pow(delta * Chebyshev(Chebyshev(1 / delta, 1 / (2 * l + 1)) * np.sqrt(1 - Lambda), 2 * l + 1), 2)\n",
        "            if p < P:\n",
        "                delta += step\n",
        "                l = int(np.ceil(np.arccosh(1 / delta) / np.arccosh(1 / np.sqrt(1 - Lambda)))) >> 1\n",
        "        if delta == 1:\n",
        "            L_bound += 1\n",
        "            p = 0\n",
        "\n",
        "    return delta, l, p"
      ],
      "metadata": {
        "id": "mLZxhHb_0Oyl"
      },
      "id": "mLZxhHb_0Oyl",
      "execution_count": 97,
      "outputs": []
    },
    {
      "cell_type": "markdown",
      "metadata": {
        "id": "6df7161c"
      },
      "source": [
        "## circuits"
      ],
      "id": "6df7161c"
    },
    {
      "cell_type": "markdown",
      "source": [
        "### Quantum Fourier Transform"
      ],
      "metadata": {
        "id": "-rzxw-4pzznJ"
      },
      "id": "-rzxw-4pzznJ"
    },
    {
      "cell_type": "code",
      "source": [
        "def QuantumFourierTransform(digits: int):\n",
        "    \n",
        "    QRegY = QuantumRegister(digits)\n",
        "    \n",
        "    QC = QuantumCircuit(QRegY)\n",
        "\n",
        "    for i, q in enumerate(QRegY):\n",
        "        QC.h(q)\n",
        "\n",
        "        theta = np.pi / 2\n",
        "        for r in QRegY[i + 1:]:\n",
        "            QC.cp(theta, r, q)\n",
        "            theta /= 2\n",
        "    \n",
        "    return QC.to_gate()"
      ],
      "metadata": {
        "id": "S41wXQKxz3ws"
      },
      "id": "S41wXQKxz3ws",
      "execution_count": 33,
      "outputs": []
    },
    {
      "cell_type": "markdown",
      "source": [
        "### cost/energy oracle:**bold text** $U_C | x \\rangle | y \\rangle = | x \\rangle | y - C (x) \\rangle$"
      ],
      "metadata": {
        "id": "paoRRJ1Y-TRF"
      },
      "id": "paoRRJ1Y-TRF"
    },
    {
      "cell_type": "code",
      "execution_count": 34,
      "metadata": {
        "id": "a5526b40"
      },
      "outputs": [],
      "source": [
        "def EnergyOracle(QuadraticForm: list[list[int]], digits: int):\n",
        "\n",
        "    QRegX = QuantumRegister(len(QuadraticForm))\n",
        "    QRegY = QuantumRegister(digits)\n",
        "    \n",
        "    QC = QuantumCircuit(QRegX, QRegY)\n",
        "\n",
        "    QFT = QuantumFourierTransform(digits)\n",
        "    QC.append(QFT, QRegY)\n",
        "    \n",
        "    # Phasers\n",
        "    for i, v in enumerate(QuadraticForm):\n",
        "        theta = - np.pi * v[i]\n",
        "        # QRegY is reversed below to save on swaps in QFT\n",
        "        for q in reversed(QRegY):\n",
        "            QC.cp(theta, QRegX[i], q)\n",
        "            theta /= 2\n",
        "\n",
        "        for j, w in enumerate(QuadraticForm[i][i + 1:]):\n",
        "            if w != 0:\n",
        "                theta = - 2 * np.pi * w\n",
        "                # QRegY is reversed below to save on swaps in QFT\n",
        "                for q in reversed(QRegY):\n",
        "                    QC.mcp(theta, [QRegX[i], QRegX[i + 1 + j]], q)\n",
        "                    theta /= 2\n",
        "\n",
        "    QC.append(QFT.inverse(), QRegY)\n",
        "\n",
        "    return QC.to_gate()"
      ],
      "id": "a5526b40"
    },
    {
      "cell_type": "markdown",
      "metadata": {
        "id": "993346e4"
      },
      "source": [
        "### Grover Fixed Point Search for graph cuts"
      ],
      "id": "993346e4"
    },
    {
      "cell_type": "code",
      "execution_count": 35,
      "metadata": {
        "id": "7785745f"
      },
      "outputs": [],
      "source": [
        "def GroverForMaxCut(QuadraticForm: list[list[int]], digits: int, y: int, delta: float, Lambda: float, noise: bool):\n",
        "\n",
        "    l = int(np.ceil(np.arccosh(1 / delta) / np.arccosh(1 / np.sqrt(1 - Lambda)))) >> 1\n",
        "    gamma = np.sqrt(1 - pow(np.cosh(np.arccosh(1 / delta) / (2 * l + 1)), - 2))\n",
        "    angles = [2 * np.arctan(1 / (gamma * np.tan(2 * np.pi * j / (2 * l + 1)))) for j in range(1, l + 1)]\n",
        "\n",
        "    # one quantum register for each vertex\n",
        "    QRegX = QuantumRegister(len(QuadraticForm), \"x\")\n",
        "\n",
        "    # quantum registers to digitize y\n",
        "    QRegY = QuantumRegister(digits, \"y\")\n",
        "\n",
        "    QC = QuantumCircuit(QRegX, QRegY)\n",
        "\n",
        "    for q in QRegX:\n",
        "        QC.initialize([1, 0], q)\n",
        "\n",
        "    for i, q in enumerate(QRegY):\n",
        "        # y - 1 is used so that states with f(x) >= y are flagged\n",
        "        bit = ((y-1)>>(digits-i-1))&1\n",
        "        QC.initialize([1 - bit, bit], q)\n",
        "\n",
        "    QC.h(QRegX)\n",
        "    \n",
        "    CostGate = EnergyOracle(QuadraticForm, digits)\n",
        "    CostGate.label = \"Cost Gate\"\n",
        "    CostGateInverse = CostGate.inverse()\n",
        "    CostGateInverse.label = \"Cost Gate Inverse\"\n",
        "\n",
        "    for _, (alpha, beta) in enumerate(zip(angles, reversed(angles))):\n",
        "\n",
        "        # S_t (beta)\n",
        "        QC.append(CostGate, QRegX[:] + QRegY[:])\n",
        "        QC.p(beta, QRegY[0])\n",
        "        QC.append(CostGateInverse, QRegX[:] + QRegY[:])\n",
        "        \n",
        "        # S_s (alpha)\n",
        "        QC.h(QRegX)\n",
        "        QC.x(QRegX)\n",
        "        QC.mcp(alpha, QRegX[:-1], QRegX[-1])\n",
        "        QC.x(QRegX)\n",
        "        QC.h(QRegX)\n",
        "\n",
        "    QC.save_statevector()\n",
        "\n",
        "    # simulation; need to add density matrix at some point\n",
        "    simulator = AerSimulator(method=\"statevector\", noise_model=fake_aria) if noise else AerSimulator(method=\"statevector\")\n",
        "    #results = execute(QC, simulator).result()\n",
        "    psi = Statevector(execute(QC, simulator).result().get_statevector()).probabilities(np.arange(len(QRegX)))\n",
        "\n",
        "    return psi"
      ],
      "id": "7785745f"
    },
    {
      "cell_type": "markdown",
      "metadata": {
        "id": "7ca40d78"
      },
      "source": [
        "# parameters & testing:"
      ],
      "id": "7ca40d78"
    },
    {
      "cell_type": "code",
      "execution_count": 49,
      "metadata": {
        "colab": {
          "base_uri": "https://localhost:8080/",
          "height": 458
        },
        "id": "149f166a",
        "outputId": "74650d2d-8e0d-4f82-d5cd-f07f10f9e5db",
        "scrolled": true
      },
      "outputs": [
        {
          "output_type": "stream",
          "name": "stdout",
          "text": [
            "y\tLambda\tMaxCut\tdigits\tdelta\tl\tprob\n",
            "7\t0.3\t9\t4\t0.31\t1\t90.0%\n",
            "\n"
          ]
        },
        {
          "output_type": "display_data",
          "data": {
            "text/plain": [
              "<Figure size 640x480 with 1 Axes>"
            ],
            "image/png": "[encoded data removed]"
          },
          "metadata": {}
        }
      ],
      "source": [
        "# graph size\n",
        "NumberOfVerticies = 7 # must be <= 18 to fit in Aria\n",
        "edge_probability = 0.5\n",
        "\n",
        "# Grover target probability\n",
        "P_L = 0.9\n",
        "\n",
        "\n",
        "# random, connected graph\n",
        "disconnected = True\n",
        "while disconnected:\n",
        "    GraphLaplacian = np.zeros((NumberOfVerticies, NumberOfVerticies), dtype=int)\n",
        "    for i in range(NumberOfVerticies):\n",
        "        for j in range(i + 1, NumberOfVerticies):\n",
        "            if np.random.rand() < edge_probability:\n",
        "                GraphLaplacian[i][j] = GraphLaplacian[j][i] = - 1\n",
        "        GraphLaplacian[i][i] = - np.sum(GraphLaplacian[i])\n",
        "    disconnected = (NumberOfVerticies != np.linalg.matrix_rank(GraphLaplacian) + 1)\n",
        "\n",
        "NumberOfEdges = np.trace(GraphLaplacian) >> 1\n",
        "\n",
        "# Erdos-Edwards bound for connected graphs\n",
        "y = int(np.ceil((2 * NumberOfEdges + NumberOfVerticies - 1) / 4))\n",
        "\n",
        "digits = 1 + int(np.ceil(np.log2(max(y, NumberOfEdges + 1 - y)))) if NumberOfVerticies > 2 else 2\n",
        "\n",
        "maxdeg = [0, 0]\n",
        "for i in range(NumberOfVerticies):\n",
        "    if GraphLaplacian[i][i] > maxdeg[1]:\n",
        "        maxdeg = [i, GraphLaplacian[i][i]]\n",
        "\n",
        "if maxdeg[0] + 1 != NumberOfVerticies:\n",
        "    GraphLaplacian[[maxdeg[0], -1], :] = GraphLaplacian[[-1, maxdeg[0]], :]\n",
        "    GraphLaplacian[:, [maxdeg[0], -1]] = GraphLaplacian[:, [-1, maxdeg[0]]]\n",
        "\n",
        "createGraph(GraphLaplacian)\n",
        "\n",
        "QuadraticForm = GraphLaplacian[np.ix_(np.arange(NumberOfVerticies - 1),np.arange(NumberOfVerticies - 1))]\n",
        "\n",
        "MaxCut, R = y, 0\n",
        "for x in range(1 << (NumberOfVerticies - 1)):\n",
        "    conf = np.array([(x >> i)&1 for i in range(NumberOfVerticies - 1)])\n",
        "    cut = np.matmul(conf, np.matmul(QuadraticForm, np.transpose(conf)))\n",
        "    if cut > MaxCut:\n",
        "        MaxCut = cut\n",
        "    if cut >= y:\n",
        "        R += 1\n",
        "\n",
        "Lambda = R * pow(2, 1 - NumberOfVerticies)\n",
        "delta, l, prob = grover_parameter_finder(P_L, Lambda, 12)\n",
        "print(f\"y\\tLambda\\tMaxCut\\tdigits\\tdelta\\tl\\tprob\\n{y}\\t{round(Lambda, 2)}\\t{MaxCut}\\t{digits}\\t{round(delta, 2)}\\t{l}\\t{round(prob, 2) * 100}%\\n\")"
      ],
      "id": "149f166a"
    },
    {
      "cell_type": "markdown",
      "metadata": {
        "id": "02eec6db"
      },
      "source": [
        "### simulation:"
      ],
      "id": "02eec6db"
    },
    {
      "cell_type": "code",
      "execution_count": 52,
      "metadata": {
        "colab": {
          "base_uri": "https://localhost:8080/"
        },
        "id": "016ec09c",
        "outputId": "e28efac8-ce29-4489-c74a-616a87b89cfd"
      },
      "outputs": [
        {
          "output_type": "stream",
          "name": "stdout",
          "text": [
            "\n",
            "computation with Grover Fixed Point Search...\n",
            "\n",
            "done in 31.05 seconds\n",
            "\n"
          ]
        }
      ],
      "source": [
        "noise = True\n",
        "#noise = False\n",
        "\n",
        "start_time = time.time()\n",
        "print(f\"\\ncomputation with Grover Fixed Point Search...\\n\")\n",
        "psi = GroverForMaxCut(QuadraticForm, digits, y, delta, Lambda, noise)\n",
        "end_time = time.time()\n",
        "print(f\"done in {round(end_time - start_time, 2)} seconds\\n\")"
      ],
      "id": "016ec09c"
    },
    {
      "cell_type": "code",
      "source": [
        "s = \"simulation with noise\\n\" if noise else \"simulation without noise\\n\"\n",
        "\n",
        "s += f\"\\nthe graph:\\n----------\\nMaxCut\\t\\t\\t= {MaxCut}\\nErdos-Edwards bound\\t= {y}\\n\\n\"\n",
        "\n",
        "#for row in GraphLaplacian:\n",
        "#    s += f\"{row.view()}\\n\"\n",
        "\n",
        "l = int(np.ceil(np.arccosh(1 / delta) / np.arccosh(1 / np.sqrt(1 - Lambda)))) >> 1\n",
        "\n",
        "s += f\"Grover parameters:\\n------------------\\nLambda\\t= {round(Lambda, 3)}\\ndelta\\t= {round(delta, 2)}\\nl\\t= {l}\\n\\n\"\n",
        "\n",
        "s += f\"results with Grover:\\n--------------------\\n\\n\"\n",
        "\n",
        "M = 0\n",
        "cov = 0\n",
        "success = 0\n",
        "distribution = {}\n",
        "for i in range(MaxCut + 1):\n",
        "    distribution[i] = 0\n",
        "#postfix = \"\"\n",
        "for i, p in enumerate(psi):\n",
        "    conf = [(i >> j)&1 for j in range(len(QuadraticForm))]\n",
        "    cut = np.matmul(conf, np.matmul(QuadraticForm, np.transpose(conf)))\n",
        "    distribution[cut] += p\n",
        "    M += p * cut\n",
        "    cov += p * cut * cut\n",
        "    if cut >= y:\n",
        "        #postfix += f\"P({conf}) = {round(p, 3)}\\t!!!\\n\"\n",
        "        success += p\n",
        "    #else:\n",
        "        #postfix += f\"P({conf}) = {round(p, 3)}\\t:(\\n\"\n",
        "    \n",
        "s += f\"expectation\\t= {round(M, 3)}\\nvariance\\t= {round(np.sqrt(cov - M*M), 3)}\\n\\n\"\n",
        "s += f\"success probability = {round(success * 100, 2)}% (theoretical value = {round(prob, 2) * 100}%)\"\n",
        "#s += \"\\n\\n\" + postfix\n",
        "#s += f\"\\n\\n||state|| ~ {round(np.sqrt(np.sum(psi)), 5)}\"\n",
        "\n",
        "print(s)\n",
        "\n",
        "plt.bar(distribution.keys(), distribution.values(), width=0.5, color=\"midnightblue\", tick_label=[i for i in range(MaxCut + 1)])\n",
        "plt.show()"
      ],
      "metadata": {
        "colab": {
          "base_uri": "https://localhost:8080/"
        },
        "id": "rNZDf4p-p3yI",
        "outputId": "6abf702e-216c-4ca1-cd0f-92aada8596fb"
      },
      "id": "rNZDf4p-p3yI",
      "execution_count": 91,
      "outputs": [
        {
          "output_type": "stream",
          "name": "stdout",
          "text": [
            "simulation with noise\n",
            "\n",
            "the graph:\n",
            "----------\n",
            "MaxCut\t\t\t= 9\n",
            "Erdos-Edwards bound\t= 7\n",
            "\n",
            "Grover parameters:\n",
            "------------------\n",
            "Lambda\t= 0.297\n",
            "delta\t= 0.31\n",
            "l\t= 1\n",
            "\n",
            "results with Grover:\n",
            "--------------------\n",
            "\n",
            "expectation\t= 5.638\n",
            "variance\t= 1.631\n",
            "\n",
            "success probability = 34.05% (theoretical value = 90.0%)\n"
          ]
        }
      ]
    },
    {
      "cell_type": "code",
      "source": [],
      "metadata": {
        "id": "ALyV46Olb3HS"
      },
      "id": "ALyV46Olb3HS",
      "execution_count": null,
      "outputs": []
    }
  ],
  "metadata": {
    "colab": {
      "provenance": []
    },
    "kernelspec": {
      "display_name": "Python 3 (ipykernel)",
      "language": "python",
      "name": "python3"
    },
    "language_info": {
      "codemirror_mode": {
        "name": "ipython",
        "version": 3
      },
      "file_extension": ".py",
      "mimetype": "text/x-python",
      "name": "python",
      "nbconvert_exporter": "python",
      "pygments_lexer": "ipython3",
      "version": "3.11.3"
    }
  },
  "nbformat": 4,
  "nbformat_minor": 5
}