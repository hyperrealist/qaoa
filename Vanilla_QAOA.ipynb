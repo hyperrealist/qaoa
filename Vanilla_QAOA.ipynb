{
 "cells": [
  {
   "cell_type": "code",
   "execution_count": 9,
   "metadata": {},
   "outputs": [],
   "source": [
    "from qiskit import QuantumCircuit, QuantumRegister, ClassicalRegister, transpile\n",
    "from qiskit_aer import AerSimulator\n",
    "from qiskit_aer.noise import NoiseModel, pauli_error\n",
    "\n",
    "import numpy as np"
   ]
  },
  {
   "attachments": {},
   "cell_type": "markdown",
   "metadata": {},
   "source": [
    "### setup stuff"
   ]
  },
  {
   "cell_type": "code",
   "execution_count": 10,
   "metadata": {},
   "outputs": [],
   "source": [
    "NumberOfShots = 10\n",
    "\n",
    "# this generates a random, connected graph\n",
    "NumberOfQubits = 15\n",
    "ErdosRenyi = 1/3\n",
    "\n",
    "NumberOfComponents = 0\n",
    "while NumberOfComponents != 1:\n",
    "    Q = np.zeros((NumberOfQubits, NumberOfQubits), dtype=int)\n",
    "    for i in range(NumberOfQubits):\n",
    "        for j in range(i + 1, NumberOfQubits):\n",
    "            if np.random.sample() <= ErdosRenyi:\n",
    "                Q[i][j] = Q[j][i] = - 1\n",
    "        Q[i][i] = - np.sum(Q[i])\n",
    "    NumberOfComponents = NumberOfQubits - np.linalg.matrix_rank(Q)"
   ]
  },
  {
   "attachments": {},
   "cell_type": "markdown",
   "metadata": {},
   "source": [
    "### this is for the normal version"
   ]
  },
  {
   "cell_type": "code",
   "execution_count": 11,
   "metadata": {},
   "outputs": [
    {
     "data": {
      "text/plain": [
       "'\\n# this generates a grid\\nBetaGrid = 5\\nGammaGrid = 5\\np = 5\\n\\ngrid = []\\nfor beta in range(1, BetaGrid):\\n    for gamma in range(1, GammaGrid):\\n        grid.append([beta, gamma])\\n\\nGridPaths = []\\nfor pair in grid:\\n    GridPaths.append([pair])\\n\\n\\ndelta = 1\\n\\nfor i in range(1, p):\\n    NewGridPaths = []\\n    for angles in GridPaths:\\n        for pair in grid:\\n            d = [(pair[0] - angles[-1][0])%BetaGrid, (pair[1] - angles[-1][1])%GammaGrid]\\n            if abs(d[0]) + abs(d[1]) <= delta:\\n                NewGridPaths.append(angles + [pair])\\n    GridPaths = NewGridPaths \\n\\n'"
      ]
     },
     "execution_count": 11,
     "metadata": {},
     "output_type": "execute_result"
    }
   ],
   "source": [
    "'''\n",
    "# this generates a grid\n",
    "BetaGrid = 5\n",
    "GammaGrid = 5\n",
    "p = 5\n",
    "\n",
    "grid = []\n",
    "for beta in range(1, BetaGrid):\n",
    "    for gamma in range(1, GammaGrid):\n",
    "        grid.append([beta, gamma])\n",
    "\n",
    "GridPaths = []\n",
    "for pair in grid:\n",
    "    GridPaths.append([pair])\n",
    "\n",
    "\n",
    "delta = 1\n",
    "\n",
    "for i in range(1, p):\n",
    "    NewGridPaths = []\n",
    "    for angles in GridPaths:\n",
    "        for pair in grid:\n",
    "            d = [(pair[0] - angles[-1][0])%BetaGrid, (pair[1] - angles[-1][1])%GammaGrid]\n",
    "            if abs(d[0]) + abs(d[1]) <= delta:\n",
    "                NewGridPaths.append(angles + [pair])\n",
    "    GridPaths = NewGridPaths \n",
    "\n",
    "'''"
   ]
  },
  {
   "attachments": {},
   "cell_type": "markdown",
   "metadata": {},
   "source": [
    "### this is for the Grover angle version"
   ]
  },
  {
   "cell_type": "code",
   "execution_count": 12,
   "metadata": {},
   "outputs": [],
   "source": [
    "p = 20\n",
    "\n",
    "GroverDelta = 0.01\n",
    "\n",
    "gamma = np.sqrt(1 - 1 / pow(np.cosh(np.arccosh(1 / GroverDelta) / (2 * p + 1)), 2))\n",
    "\n",
    "GroverAngles = [[2 * np.arctan(1 / (gamma * np.tan(2 * np.pi * j / (2 * p + 1)))), - 2 * np.arctan(1 / (gamma * np.tan(2 * np.pi * (p - j + 1) / (2 * p + 1))))] for j in range(1, p + 1)]"
   ]
  },
  {
   "attachments": {},
   "cell_type": "markdown",
   "metadata": {},
   "source": [
    "### QAOA"
   ]
  },
  {
   "cell_type": "code",
   "execution_count": 13,
   "metadata": {},
   "outputs": [],
   "source": [
    "def QAOA(angles):\n",
    "    \n",
    "    QRegX = QuantumRegister(NumberOfQubits)\n",
    "    CLRegX = ClassicalRegister(NumberOfQubits)\n",
    "    \n",
    "    QC = QuantumCircuit(QRegX, CLRegX)\n",
    "\n",
    "    QC.h(QRegX)\n",
    "    \n",
    "    for beta, gamma in angles:\n",
    "        # Cost bang\n",
    "        for i, q in enumerate(QRegX):\n",
    "            if Q[i][i] != 0:\n",
    "                QC.p(Q[i][i] * 2 * gamma, q)\n",
    "            for j, r in enumerate(QRegX[:i]):\n",
    "                if Q[i][j] != 0:\n",
    "                    QC.cp(Q[i][j] * 4 * gamma, q, r)\n",
    "\n",
    "        # Mixer bang\n",
    "        QC.rx(beta, QRegX)\n",
    "\n",
    "    QC.measure(QRegX, CLRegX)\n",
    "    \n",
    "    # error probabilities\n",
    "    p_reset = 0.03\n",
    "    p_meas = 0.1\n",
    "    p_gate1 = 0.05\n",
    "\n",
    "    # QuantumError objects (???)\n",
    "    error_reset = pauli_error([('X', p_reset), ('I', 1 - p_reset)])\n",
    "    error_meas = pauli_error([('X',p_meas), ('I', 1 - p_meas)])\n",
    "    error_gate1 = pauli_error([('X',p_gate1), ('I', 1 - p_gate1)])\n",
    "    error_gate2 = error_gate1.tensor(error_gate1)\n",
    "    \n",
    "    # errors to noise model\n",
    "    noise_bit_flip = NoiseModel()\n",
    "    noise_bit_flip.add_all_qubit_quantum_error(error_reset, \"reset\")\n",
    "    noise_bit_flip.add_all_qubit_quantum_error(error_meas, \"measure\")\n",
    "    noise_bit_flip.add_all_qubit_quantum_error(error_gate1, [\"u1\", \"u2\", \"u3\"])\n",
    "    noise_bit_flip.add_all_qubit_quantum_error(error_gate2, [\"cx\"])\n",
    "\n",
    "    # simulation\n",
    "    noisy_simulator = AerSimulator(noise_model=noise_bit_flip)\n",
    "    transpiled_QC = transpile(QC, noisy_simulator)    \n",
    "    counts = noisy_simulator.run(transpiled_QC, shots=NumberOfShots).result().get_counts(transpiled_QC)\n",
    "    \n",
    "    M = 0\n",
    "    bestcut = 0\n",
    "    bestcutconf = np.zeros(NumberOfQubits, dtype=int)\n",
    "    for s in counts:\n",
    "        conf = np.array([int(x) for x in reversed(s)])\n",
    "        m = np.matmul(conf, np.matmul(Q, np.transpose(conf)))\n",
    "        M += m * counts[s]\n",
    "        if m > bestcut:\n",
    "            bestcut = m\n",
    "            bestcutconf = conf\n",
    "\n",
    "    return [bestcut, M / NumberOfShots, angles, bestcutconf, counts]"
   ]
  },
  {
   "attachments": {},
   "cell_type": "markdown",
   "metadata": {},
   "source": [
    "### testing"
   ]
  },
  {
   "cell_type": "code",
   "execution_count": 14,
   "metadata": {},
   "outputs": [],
   "source": [
    "results = [QAOA(GroverAngles)]\n",
    "\n",
    "#results = list(map(QAOA, GridPaths))\n",
    "\n",
    "#from multiprocessing import Pool\n",
    "\n",
    "#with Pool() as pool:\n",
    "#    results = list(pool.imap_unordered(QAOA, GridPaths))\n",
    "\n",
    "results.sort(key = lambda x: x[1])"
   ]
  },
  {
   "attachments": {},
   "cell_type": "markdown",
   "metadata": {},
   "source": [
    "### classical maximal cut computation"
   ]
  },
  {
   "cell_type": "code",
   "execution_count": 15,
   "metadata": {},
   "outputs": [],
   "source": [
    "MaxCut = 0\n",
    "configurations = []\n",
    "for x in range(1 << (NumberOfQubits - 1)):\n",
    "    conf = np.array([(x >> i)&1 for i in range(NumberOfQubits)])\n",
    "    cut = np.matmul(conf, np.matmul(Q, np.transpose(conf)))\n",
    "    if cut > MaxCut:\n",
    "        MaxCut = cut\n",
    "        configurations = [conf]\n",
    "    elif cut == MaxCut:\n",
    "        configurations.append(conf)"
   ]
  },
  {
   "attachments": {},
   "cell_type": "markdown",
   "metadata": {},
   "source": [
    "### printing the results"
   ]
  },
  {
   "cell_type": "code",
   "execution_count": 18,
   "metadata": {},
   "outputs": [
    {
     "name": "stdout",
     "output_type": "stream",
     "text": [
      "\n",
      " Number of verticies\t= 15\n",
      " p\t\t\t= 20\n",
      " ErdosRenyi\t\t= 0.3333333333333333\n",
      "\n",
      " Number of shots\t= 10\n",
      " number of edges\t= 43\n",
      " MaxCut\t\t\t= 31\n",
      " configurations\t\t= [array([1, 1, 0, 1, 0, 0, 0, 1, 1, 0, 0, 1, 0, 1, 0]), array([1, 1, 0, 1, 0, 1, 0, 1, 1, 0, 0, 1, 0, 1, 0]), array([0, 1, 0, 1, 0, 0, 0, 1, 1, 0, 1, 1, 0, 1, 0]), array([1, 1, 0, 1, 0, 0, 0, 1, 1, 0, 1, 1, 0, 1, 0]), array([0, 1, 0, 1, 0, 1, 0, 1, 1, 0, 1, 1, 0, 1, 0]), array([1, 1, 0, 1, 0, 1, 0, 1, 1, 0, 1, 1, 0, 1, 0]), array([0, 1, 0, 0, 1, 1, 1, 1, 1, 0, 0, 0, 1, 1, 0]), array([0, 0, 1, 0, 1, 0, 1, 0, 0, 1, 1, 0, 1, 1, 0])]\n",
      "\n",
      " BestCut\t\t= 26\n",
      " M\t\t\t= 21.0\n",
      " configuration\t\t= [0 0 1 1 0 0 0 0 0 0 1 0 1 1 1]\n",
      "\n",
      " BestCut / MaxCut\t= 0.8387096774193549\n",
      " M / MaxCut\t\t= 0.6774193548387096\n",
      "\n",
      "\n",
      "\t[ 6 -1  0  0  0  0 -1  0  0 -1 -1  0 -1 -1  0]\n",
      "\t[-1  6 -1  0  0  0  0  0  0 -1 -1  0 -1  0 -1]\n",
      "\t[ 0 -1  6  0  0 -1  0 -1 -1  0  0 -1  0 -1  0]\n",
      "\t[ 0  0  0  4  0  0 -1  0 -1 -1  0  0 -1  0  0]\n",
      "\t[ 0  0  0  0  3  0  0 -1  0  0  0 -1  0  0 -1]\n",
      "\t[ 0  0 -1  0  0  4  0  0  0 -1  0 -1  0 -1  0]\n",
      "\t[-1  0  0 -1  0  0  6  0 -1  0 -1 -1 -1  0  0]\n",
      "\t[ 0  0 -1  0 -1  0  0  5  0 -1 -1  0  0  0 -1]\n",
      "\t[ 0  0 -1 -1  0  0 -1  0  6 -1 -1  0 -1  0  0]\n",
      "\t[-1 -1  0 -1  0 -1  0 -1 -1  9 -1  0 -1 -1  0]\n",
      "\t[-1 -1  0  0  0  0 -1 -1 -1 -1  8  0 -1  0 -1]\n",
      "\t[ 0  0 -1  0 -1 -1 -1  0  0  0  0  5 -1  0  0]\n",
      "\t[-1 -1  0 -1  0  0 -1  0 -1 -1 -1 -1  8  0  0]\n",
      "\t[-1  0 -1  0  0 -1  0  0  0 -1  0  0  0  5 -1]\n",
      "\t[ 0 -1  0  0 -1  0  0 -1  0  0 -1  0  0 -1  5]\n",
      "\n",
      " [0 0 0 1 0 0 1 0 1 1 1 1 0 0 1] = 1\t cut = 23\n",
      " [0 1 1 0 0 1 1 0 1 0 0 0 1 0 0] = 1\t cut = 22\n",
      " [1 1 0 0 1 0 0 1 0 0 1 1 0 0 0] = 1\t cut = 21\n",
      " [0 1 0 0 0 0 1 1 1 0 1 1 0 0 0] = 1\t cut = 24\n",
      " [1 0 0 0 0 0 0 0 0 1 0 1 1 0 0] = 1\t cut = 20\n",
      " [1 0 1 0 0 0 0 0 1 0 0 0 0 1 0] = 1\t cut = 17\n",
      " [0 0 0 0 0 0 1 1 1 0 1 0 0 0 0] = 1\t cut = 17\n",
      " [0 1 1 0 1 1 0 0 1 1 0 0 0 1 0] = 1\t cut = 21\n",
      " [0 1 1 1 0 1 1 0 1 1 0 0 1 1 1] = 1\t cut = 19\n",
      " [0 0 1 1 0 0 0 0 0 0 1 0 1 1 1] = 1\t cut = 26\n"
     ]
    }
   ],
   "source": [
    "s = f\"\\n Number of verticies\\t= {NumberOfQubits}\\n p\\t\\t\\t= {p}\\n ErdosRenyi\\t\\t= {ErdosRenyi}\\n\\n Number of shots\\t= {NumberOfShots}\\n number of edges\\t= {np.trace(Q) // 2}\\n MaxCut\\t\\t\\t= {MaxCut}\\n configurations\\t\\t= {configurations}\\n\\n\"\n",
    "s += f\" BestCut\\t\\t= {results[-1][0]}\\n M\\t\\t\\t= {results[-1][1]}\\n configuration\\t\\t= {results[-1][3]}\\n\\n BestCut / MaxCut\\t= {results[-1][0] / MaxCut}\\n M / MaxCut\\t\\t= {results[-1][1] / MaxCut}\\n\\n\\n\"\n",
    "\n",
    "#for result in results[-10:]:\n",
    "#    s += f\" BestCut\\t= {result[0]}\\n M\\t\\t= {result[1]}\\n configuration\\t= {result[3]}\\n\"\n",
    "for row in Q:\n",
    "    s += f\"\\t{row.view()}\\n\"\n",
    "\n",
    "print(s)\n",
    "\n",
    "for s in results[-1][-1]:\n",
    "    conf = np.array([int(x) for x in reversed(s)])\n",
    "    print(f\" {conf} = {results[-1][-1][s]}\\t cut = {np.matmul(conf, np.matmul(Q, np.transpose(conf)))}\")\n",
    "\n",
    "#with open('results.txt', 'w') as f:\n",
    "#    f.write(s)"
   ]
  },
  {
   "cell_type": "code",
   "execution_count": null,
   "metadata": {},
   "outputs": [],
   "source": []
  }
 ],
 "metadata": {
  "kernelspec": {
   "display_name": "akos",
   "language": "python",
   "name": "python3"
  },
  "language_info": {
   "codemirror_mode": {
    "name": "ipython",
    "version": 3
   },
   "file_extension": ".py",
   "mimetype": "text/x-python",
   "name": "python",
   "nbconvert_exporter": "python",
   "pygments_lexer": "ipython3",
   "version": "3.11.3"
  },
  "orig_nbformat": 4
 },
 "nbformat": 4,
 "nbformat_minor": 2
}
