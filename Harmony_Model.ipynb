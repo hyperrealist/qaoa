{
 "cells": [
  {
   "cell_type": "code",
   "execution_count": null,
   "id": "7a34eb8d",
   "metadata": {},
   "outputs": [],
   "source": [
    "h_p_meas = 0.18/100\n",
    "h_p_reset = 0.18/100\n",
    "h_p_gate1 = 0.4/100\n",
    "h_p_gate2 = 2.7/100\n",
    "\n",
    "# thermal relaxation error (nanosecond time)\n",
    "h_T1s = random.sample(range(10, 100, 1), 10) # consider adjusting range to be more reasonable\n",
    "h_T2 = 1e9\n",
    "\n",
    "h_time_meas = random.sample(range(600, 700, 1), 10) # assumed same as aria\n",
    "h_time_u1 = 0 # virtual gate?\n",
    "h_time_gate1 = 10e3 # u1 and u2\n",
    "h_time_gate2 = 210e3 # 2 qubit gate\n",
    "\n",
    "# thermal relaxation error\n",
    "h_ther_u1  = [thermal_relaxation_error(t1 * 1e9, h_T2, h_time_u1)\n",
    "              for t1 in h_T1s]\n",
    "h_ther_gate1  = [thermal_relaxation_error(t1 * 1e9, h_T2, h_time_gate1)\n",
    "              for t1 in h_T1s]\n",
    "h_ther_gate2 = [[thermal_relaxation_error(t1a * 1e9, h_T2, h_time_gate2).expand(\n",
    "             thermal_relaxation_error(t1b * 1e9, h_T2, h_time_gate2))\n",
    "              for t1a in h_T1s]\n",
    "               for t1b in h_T1s]\n",
    "\n",
    "# depolarizing error\n",
    "h_dep_reset = depolarizing_error(h_p_reset, 1)\n",
    "h_dep_gate1 = depolarizing_error(h_p_gate1 - 9.99995e-6, 1)\n",
    "h_dep_gate2 = depolarizing_error(h_p_gate2 - 2.09977952e-4, 2)\n",
    "\n",
    "# readout error\n",
    "h_er_meas = ReadoutError([[1 - p_meas, p_meas], [p_meas, 1 - p_meas]])\n",
    "\n",
    "fake_harm = NoiseModel()\n",
    "\n",
    "for j in range(10):\n",
    "    fake_harm.add_quantum_error(h_ther_u1[j].compose(h_dep_gate1), \"u1\", [j])\n",
    "    fake_harm.add_quantum_error(h_ther_gate1[j].compose(h_dep_gate1), \"u2\", [j])\n",
    "    fake_harm.add_quantum_error(h_ther_gate1[j].compose(h_dep_gate1), \"u3\", [j])\n",
    "    for k in range(10):\n",
    "        fake_harm.add_quantum_error(h_ther_gate2[j][k].compose(h_dep_gate2), \"cx\", [j, k])\n",
    "fake_harm.add_all_qubit_quantum_error(h_dep_reset, \"reset\")\n",
    "fake_harm.add_all_qubit_readout_error(h_er_meas)"
   ]
  }
 ],
 "metadata": {
  "kernelspec": {
   "display_name": "Python 3 (ipykernel)",
   "language": "python",
   "name": "python3"
  },
  "language_info": {
   "codemirror_mode": {
    "name": "ipython",
    "version": 3
   },
   "file_extension": ".py",
   "mimetype": "text/x-python",
   "name": "python",
   "nbconvert_exporter": "python",
   "pygments_lexer": "ipython3",
   "version": "3.9.12"
  }
 },
 "nbformat": 4,
 "nbformat_minor": 5
}
