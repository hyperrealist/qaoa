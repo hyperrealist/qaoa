{
 "cells": [
  {
   "cell_type": "code",
   "execution_count": 1,
   "id": "ce361706",
   "metadata": {},
   "outputs": [],
   "source": [
    "from qiskit import QuantumCircuit, QuantumRegister, ClassicalRegister, transpile, Aer\n",
    "from qiskit.visualization import *\n",
    "from qiskit_aer import AerSimulator\n",
    "from qiskit.providers.aer.noise import NoiseModel, pauli_error, ReadoutError, thermal_relaxation_error, depolarizing_error\n",
    "from qiskit.providers.fake_provider import FakeWashingtonV2\n",
    "import random"
   ]
  },
  {
   "cell_type": "code",
   "execution_count": 2,
   "id": "757294d0",
   "metadata": {},
   "outputs": [],
   "source": [
    "# fake ibm provider \n",
    "# other fake providers: https://qiskit.org/documentation/apidoc/providers_fake_provider.html\n",
    "\n",
    "# 127 qubit snapshot\n",
    "fake_wash = FakeWashingtonV2()"
   ]
  },
  {
   "attachments": {},
   "cell_type": "markdown",
   "id": "89debdbf",
   "metadata": {},
   "source": [
    "## Noise model based on Aria specifications:"
   ]
  },
  {
   "attachments": {},
   "cell_type": "markdown",
   "id": "41ad663e",
   "metadata": {},
   "source": [
    "#### specs"
   ]
  },
  {
   "cell_type": "code",
   "execution_count": 3,
   "id": "df29d962",
   "metadata": {},
   "outputs": [],
   "source": [
    "p_meas = 0.39/100\n",
    "p_reset = 0.39/100\n",
    "p_gate1 = 0.06/100\n",
    "p_gate2 = 0.6/100\n",
    "\n",
    "# thermal relaxation error (nanosecond time)\n",
    "T1s = random.sample(range(10, 100, 1), 10) # consider adjusting range to be more reasonable\n",
    "T2 = 1e9\n",
    "\n",
    "time_meas = random.sample(range(600, 700, 1), 10)\n",
    "time_u1 = 0 # virtual gate?\n",
    "time_gate1 = 135e3 # u1 and u2\n",
    "time_gate2 = 600e3 # 2 qubit gate"
   ]
  },
  {
   "attachments": {},
   "cell_type": "markdown",
   "id": "21726576",
   "metadata": {},
   "source": [
    "#### adding noise\n",
    "depolarizing error probability is probabilities adjusted from thermal noise infidelity: $p = e^{-t/T_2}$ with gate time for t"
   ]
  },
  {
   "cell_type": "code",
   "execution_count": 7,
   "id": "9fe23c32",
   "metadata": {},
   "outputs": [],
   "source": [
    "# thermal relaxation error\n",
    "ther_u1  = [thermal_relaxation_error(t1 * 1e9, T2, time_u1)\n",
    "              for t1 in T1s]\n",
    "ther_gate1  = [thermal_relaxation_error(t1 * 1e9, T2, time_gate1)\n",
    "              for t1 in T1s]\n",
    "ther_gate2 = [[thermal_relaxation_error(t1a * 1e9, T2, time_gate2).expand(\n",
    "             thermal_relaxation_error(t1b * 1e9, T2, time_gate2))\n",
    "              for t1a in T1s]\n",
    "               for t1b in T1s]\n",
    "\n",
    "# depolarizing error\n",
    "dep_reset = depolarizing_error(p_reset, 1)\n",
    "dep_gate1 = depolarizing_error(p_gate1 - 1.34990888e-4, 1)\n",
    "dep_gate2 = depolarizing_error(p_gate2 - 5.99820036e-4, 2)\n",
    "\n",
    "# readout error\n",
    "er_meas = ReadoutError([[1 - p_meas, p_meas], [p_meas, 1 - p_meas]])"
   ]
  },
  {
   "attachments": {},
   "cell_type": "markdown",
   "id": "75959691",
   "metadata": {},
   "source": [
    "#### creating noise model"
   ]
  },
  {
   "cell_type": "code",
   "execution_count": 8,
   "id": "d0cdea1b",
   "metadata": {},
   "outputs": [],
   "source": [
    "fake_aria = NoiseModel()\n",
    "\n",
    "for j in range(10):\n",
    "    fake_aria.add_quantum_error(ther_u1[j].compose(dep_gate1), \"u1\", [j])\n",
    "    fake_aria.add_quantum_error(ther_gate1[j].compose(dep_gate1), \"u2\", [j])\n",
    "    fake_aria.add_quantum_error(ther_gate1[j].compose(dep_gate1), \"u3\", [j])\n",
    "    for k in range(10):\n",
    "        fake_aria.add_quantum_error(ther_gate2[j][k].compose(dep_gate2), \"cx\", [j, k])\n",
    "fake_aria.add_all_qubit_quantum_error(dep_reset, \"reset\")\n",
    "fake_aria.add_all_qubit_readout_error(er_meas)\n",
    "\n",
    "backend = AerSimulator(noise_model = fake_aria)"
   ]
  },
  {
   "attachments": {},
   "cell_type": "markdown",
   "id": "2500491b",
   "metadata": {},
   "source": [
    "## Testing"
   ]
  },
  {
   "cell_type": "code",
   "execution_count": 30,
   "id": "b0f43a8f",
   "metadata": {},
   "outputs": [
    {
     "data": {
      "image/png": "[encoded data removed]",
      "text/plain": [
       "<Figure size 538.279x264.88 with 1 Axes>"
      ]
     },
     "execution_count": 30,
     "metadata": {},
     "output_type": "execute_result"
    }
   ],
   "source": [
    "qc = QuantumCircuit(3)\n",
    "qc.h(0)\n",
    "qc.cx(0, 1)\n",
    "qc.cx(0, 2)\n",
    "qc.measure_all()\n",
    "qc.draw('mpl')"
   ]
  },
  {
   "cell_type": "code",
   "execution_count": 32,
   "id": "08d3736f",
   "metadata": {},
   "outputs": [
    {
     "data": {
      "image/png": "[encoded data removed]",
      "text/plain": [
       "<Figure size 504x360 with 1 Axes>"
      ]
     },
     "execution_count": 32,
     "metadata": {},
     "output_type": "execute_result"
    }
   ],
   "source": [
    "backend = AerSimulator(noise_model = fake_aria)\n",
    "compiled_QC = transpile(qc, backend)\n",
    "counts = backend.run(compiled_QC, shots = 500).result().get_counts(compiled_QC)\n",
    "plot_histogram(counts)"
   ]
  }
 ],
 "metadata": {
  "kernelspec": {
   "display_name": "Python 3 (ipykernel)",
   "language": "python",
   "name": "python3"
  },
  "language_info": {
   "codemirror_mode": {
    "name": "ipython",
    "version": 3
   },
   "file_extension": ".py",
   "mimetype": "text/x-python",
   "name": "python",
   "nbconvert_exporter": "python",
   "pygments_lexer": "ipython3",
   "version": "3.9.12"
  }
 },
 "nbformat": 4,
 "nbformat_minor": 5
}
